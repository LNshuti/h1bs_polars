{
 "cells": [
  {
   "cell_type": "code",
   "execution_count": 1060,
   "metadata": {},
   "outputs": [
    {
     "name": "stdout",
     "output_type": "stream",
     "text": [
      "Note: you may need to restart the kernel to use updated packages.\n"
     ]
    }
   ],
   "source": [
    "%pip install seaborn --quiet"
   ]
  },
  {
   "cell_type": "code",
   "execution_count": 1061,
   "metadata": {},
   "outputs": [],
   "source": [
    "import polars as pl\n",
    "import pandas as pd \n",
    "import seaborn as sns \n",
    "import matplotlib.pyplot as plt\n",
    "from datetime import datetime,date,time"
   ]
  },
  {
   "cell_type": "code",
   "execution_count": 1062,
   "metadata": {},
   "outputs": [
    {
     "name": "stdout",
     "output_type": "stream",
     "text": [
      "data/TRK_13139_FY2021.csv            data/TRK_13139_FY2024_multi_reg.csv\n",
      "data/TRK_13139_FY2021_2023.csv       data/TRK_13139_FY2024_single_reg.csv\n",
      "data/TRK_13139_FY2022.csv            data/country_iso_codes.csv\n",
      "data/TRK_13139_FY2023.csv\n"
     ]
    }
   ],
   "source": [
    "!ls data/*.csv"
   ]
  },
  {
   "cell_type": "code",
   "execution_count": 1063,
   "metadata": {},
   "outputs": [
    {
     "data": {
      "text/html": [
       "<div><style>\n",
       ".dataframe > thead > tr,\n",
       ".dataframe > tbody > tr {\n",
       "  text-align: right;\n",
       "  white-space: pre-wrap;\n",
       "}\n",
       "</style>\n",
       "<small>shape: (264, 2)</small><table border=\"1\" class=\"dataframe\"><thead><tr><th>Country_Name</th><th>ISO3</th></tr><tr><td>str</td><td>str</td></tr></thead><tbody><tr><td>&quot;Afghanistan&quot;</td><td>&quot;AFG&quot;</td></tr><tr><td>&quot;Albania&quot;</td><td>&quot;ALB&quot;</td></tr><tr><td>&quot;Algeria&quot;</td><td>&quot;DZA&quot;</td></tr><tr><td>&quot;American Samoa&quot;</td><td>&quot;ASM&quot;</td></tr><tr><td>&quot;Andorra&quot;</td><td>&quot;AND&quot;</td></tr><tr><td>&hellip;</td><td>&hellip;</td></tr><tr><td>&quot;Yemen, Rep.&quot;</td><td>&quot;YEM&quot;</td></tr><tr><td>&quot;Yugoslavia&quot;</td><td>&quot;SER&quot;</td></tr><tr><td>&quot;Yugoslavia, FR (Serbia/Montene&quot;</td><td>&quot;YUG&quot;</td></tr><tr><td>&quot;Zambia&quot;</td><td>&quot;ZMB&quot;</td></tr><tr><td>&quot;Zimbabwe&quot;</td><td>&quot;ZWE&quot;</td></tr></tbody></table></div>"
      ],
      "text/plain": [
       "shape: (264, 2)\n",
       "┌────────────────────────────────┬──────┐\n",
       "│ Country_Name                   ┆ ISO3 │\n",
       "│ ---                            ┆ ---  │\n",
       "│ str                            ┆ str  │\n",
       "╞════════════════════════════════╪══════╡\n",
       "│ Afghanistan                    ┆ AFG  │\n",
       "│ Albania                        ┆ ALB  │\n",
       "│ Algeria                        ┆ DZA  │\n",
       "│ American Samoa                 ┆ ASM  │\n",
       "│ Andorra                        ┆ AND  │\n",
       "│ …                              ┆ …    │\n",
       "│ Yemen, Rep.                    ┆ YEM  │\n",
       "│ Yugoslavia                     ┆ SER  │\n",
       "│ Yugoslavia, FR (Serbia/Montene ┆ YUG  │\n",
       "│ Zambia                         ┆ ZMB  │\n",
       "│ Zimbabwe                       ┆ ZWE  │\n",
       "└────────────────────────────────┴──────┘"
      ]
     },
     "execution_count": 1063,
     "metadata": {},
     "output_type": "execute_result"
    }
   ],
   "source": [
    "country_codes = pl.read_csv(\"data/country_iso_codes.csv\")\n",
    "country_codes"
   ]
  },
  {
   "cell_type": "code",
   "execution_count": 1064,
   "metadata": {},
   "outputs": [],
   "source": [
    "TRK_13139_FY2021 = pl.read_csv('data/TRK_13139_FY2021.csv', ignore_errors=True)"
   ]
  },
  {
   "cell_type": "code",
   "execution_count": 1065,
   "metadata": {},
   "outputs": [
    {
     "name": "stdout",
     "output_type": "stream",
     "text": [
      "['bcn', 'country_of_birth', 'country_of_nationality', 'ben_date_of_birth', 'ben_year_of_birth', 'gender', 'employer_name', 'FEIN']\n",
      "['mail_addr', 'city', 'state', 'zip', 'agent_first_name', 'agent_last_name', 'lottery_year', 'status_type']\n",
      "['ben_multi_reg_ind', 'RECEIPT_NUMBER', 'rec_date', 'FIRST_DECISION', 'first_decision_date', 'i129_employer_name', 'PET_STREET', 'PET_CITY']\n",
      "['PET_STATE', 'PET_ZIP', 'REQUESTED_CLASS', 'BASIS_FOR_CLASSIFICATION', 'REQUESTED_ACTION', 'NUMBER_OF_BENEFICIARIES', 'BEN_SEX', 'BEN_COUNTRY_OF_BIRTH']\n",
      "['BEN_CURRENT_CLASS', 'JOB_TITLE', 'DOL_ETA_CASE_NUMBER', 'WORKSITE_STREET', 'WORKSITE_CITY', 'WORKSITE_STATE', 'WORKSITE_ZIP', 'FULL_TIME_IND']\n",
      "['WAGE_AMT', 'WAGE_UNIT', 'valid_from', 'valid_to', 'NUM_OF_EMP_IN_US', 'S1Q1A', 'S1Q1B', 'BEN_EDUCATION_CODE']\n",
      "['ED_LEVEL_DEFINITION', 'BEN_PFIELD_OF_STUDY', 'BEN_COMP_PAID', 'DOT_CODE', 'NAICS_CODE', 'S3Q1', 'S4Q1', 'T_U_VAWA_FLAG']\n"
     ]
    }
   ],
   "source": [
    "# Print columns in groups of 10\n",
    "columns = TRK_13139_FY2021.columns\n",
    "for i in range(0, len(columns), 8):\n",
    "    print(columns[i:i+8])"
   ]
  },
  {
   "cell_type": "code",
   "execution_count": 1066,
   "metadata": {},
   "outputs": [],
   "source": [
    "TRK_13139_FY2022 = pl.read_csv('data/TRK_13139_FY2022.csv', ignore_errors=True)"
   ]
  },
  {
   "cell_type": "code",
   "execution_count": 1067,
   "metadata": {},
   "outputs": [
    {
     "name": "stdout",
     "output_type": "stream",
     "text": [
      "['bcn', 'country_of_birth', 'country_of_nationality', 'ben_date_of_birth', 'ben_year_of_birth', 'gender', 'employer_name', 'FEIN']\n",
      "['mail_addr', 'city', 'state', 'zip', 'agent_first_name', 'agent_last_name', 'lottery_year', 'status_type']\n",
      "['ben_multi_reg_ind', 'RECEIPT_NUMBER', 'rec_date', 'FIRST_DECISION', 'first_decision_date', 'i129_employer_name', 'PET_STREET', 'PET_CITY']\n",
      "['PET_STATE', 'PET_ZIP', 'REQUESTED_CLASS', 'BASIS_FOR_CLASSIFICATION', 'REQUESTED_ACTION', 'NUMBER_OF_BENEFICIARIES', 'BEN_SEX', 'BEN_COUNTRY_OF_BIRTH']\n",
      "['BEN_CURRENT_CLASS', 'JOB_TITLE', 'DOL_ETA_CASE_NUMBER', 'WORKSITE_STREET', 'WORKSITE_CITY', 'WORKSITE_STATE', 'WORKSITE_ZIP', 'FULL_TIME_IND']\n",
      "['WAGE_AMT', 'WAGE_UNIT', 'valid_from', 'valid_to', 'NUM_OF_EMP_IN_US', 'S1Q1A', 'S1Q1B', 'BEN_EDUCATION_CODE']\n",
      "['ED_LEVEL_DEFINITION', 'BEN_PFIELD_OF_STUDY', 'BEN_COMP_PAID', 'DOT_CODE', 'NAICS_CODE', 'S3Q1', 'S4Q1', 'T_U_VAWA_FLAG']\n"
     ]
    }
   ],
   "source": [
    "# Print columns in groups of 10\n",
    "columns = TRK_13139_FY2022.columns\n",
    "for i in range(0, len(columns), 8):\n",
    "    print(columns[i:i+8])"
   ]
  },
  {
   "cell_type": "code",
   "execution_count": 1068,
   "metadata": {},
   "outputs": [],
   "source": [
    "TRK_13139_FY2023 = pl.read_csv('data/TRK_13139_FY2023.csv', ignore_errors=True)"
   ]
  },
  {
   "cell_type": "code",
   "execution_count": 1069,
   "metadata": {},
   "outputs": [
    {
     "name": "stdout",
     "output_type": "stream",
     "text": [
      "['bcn', 'country_of_birth', 'country_of_nationality', 'ben_date_of_birth', 'ben_year_of_birth', 'gender', 'employer_name', 'FEIN']\n",
      "['mail_addr', 'city', 'state', 'zip', 'agent_first_name', 'agent_last_name', 'lottery_year', 'status_type']\n",
      "['ben_multi_reg_ind', 'RECEIPT_NUMBER', 'rec_date', 'FIRST_DECISION', 'first_decision_date', 'i129_employer_name', 'PET_STREET', 'PET_CITY']\n",
      "['PET_STATE', 'PET_ZIP', 'REQUESTED_CLASS', 'BASIS_FOR_CLASSIFICATION', 'REQUESTED_ACTION', 'NUMBER_OF_BENEFICIARIES', 'BEN_SEX', 'BEN_COUNTRY_OF_BIRTH']\n",
      "['BEN_CURRENT_CLASS', 'JOB_TITLE', 'DOL_ETA_CASE_NUMBER', 'WORKSITE_STREET', 'WORKSITE_CITY', 'WORKSITE_STATE', 'WORKSITE_ZIP', 'FULL_TIME_IND']\n",
      "['WAGE_AMT', 'WAGE_UNIT', 'valid_from', 'valid_to', 'NUM_OF_EMP_IN_US', 'S1Q1A', 'S1Q1B', 'BEN_EDUCATION_CODE']\n",
      "['ED_LEVEL_DEFINITION', 'BEN_PFIELD_OF_STUDY', 'BEN_COMP_PAID', 'DOT_CODE', 'NAICS_CODE', 'S3Q1', 'S4Q1', 'T_U_VAWA_FLAG']\n"
     ]
    }
   ],
   "source": [
    "# Print columns in groups of 10\n",
    "columns = TRK_13139_FY2023.columns\n",
    "for i in range(0, len(columns), 8):\n",
    "    print(columns[i:i+8])"
   ]
  },
  {
   "cell_type": "code",
   "execution_count": 1070,
   "metadata": {},
   "outputs": [],
   "source": [
    "# Convert column names to lowercase for all datasets\n",
    "df_2021 = TRK_13139_FY2021.select(\n",
    "    [pl.col(col).alias(col.lower()) for col in TRK_13139_FY2021.columns]\n",
    ")\n",
    "df_2022 = TRK_13139_FY2022.select(\n",
    "    [pl.col(col).alias(col.lower()) for col in TRK_13139_FY2022.columns]\n",
    ")\n",
    "df_2023 = TRK_13139_FY2023.select(\n",
    "    [pl.col(col).alias(col.lower()) for col in TRK_13139_FY2023.columns]\n",
    ")\n"
   ]
  },
  {
   "cell_type": "code",
   "execution_count": 1071,
   "metadata": {},
   "outputs": [],
   "source": [
    "# Set columns to use lowercase to simplify vertical alignment\n",
    "cols_2021 = set(df_2021.columns)\n",
    "cols_2022 = set(df_2022.columns)\n",
    "cols_2023 = set(df_2023.columns)"
   ]
  },
  {
   "cell_type": "code",
   "execution_count": 1072,
   "metadata": {},
   "outputs": [],
   "source": [
    "# 1. Find columns common to all three datasets\n",
    "common_cols = cols_2021.intersection(cols_2022, cols_2023)\n"
   ]
  },
  {
   "cell_type": "code",
   "execution_count": 1073,
   "metadata": {},
   "outputs": [],
   "source": [
    "# 2. Find unique columns for each dataset\n",
    "unique_2021 = cols_2021 - (cols_2022.union(cols_2023))\n",
    "unique_2022 = cols_2022 - (cols_2021.union(cols_2023))\n",
    "unique_2023 = cols_2023 - (cols_2021.union(cols_2022))"
   ]
  },
  {
   "cell_type": "code",
   "execution_count": 1075,
   "metadata": {},
   "outputs": [
    {
     "name": "stdout",
     "output_type": "stream",
     "text": [
      "\n",
      "Summary DataFrame:\n",
      "shape: (4, 3)\n",
      "┌────────────────┬─────────────────────────────────┬───────┐\n",
      "│ Dataset        ┆ Columns                         ┆ Count │\n",
      "│ ---            ┆ ---                             ┆ ---   │\n",
      "│ str            ┆ str                             ┆ i64   │\n",
      "╞════════════════╪═════════════════════════════════╪═══════╡\n",
      "│ Common to all  ┆ agent_first_name, agent_last_n… ┆ 56    │\n",
      "│ Unique to 2021 ┆                                 ┆ 0     │\n",
      "│ Unique to 2022 ┆                                 ┆ 0     │\n",
      "│ Unique to 2023 ┆                                 ┆ 0     │\n",
      "└────────────────┴─────────────────────────────────┴───────┘\n"
     ]
    }
   ],
   "source": [
    "# Optional: Create a summary DataFrame of the results\n",
    "summary_df = pl.DataFrame({\n",
    "    'Dataset': ['Common to all', 'Unique to 2021', 'Unique to 2022', 'Unique to 2023'],\n",
    "    'Columns': [\n",
    "        ', '.join(sorted(common_cols)),\n",
    "        ', '.join(sorted(unique_2021)),\n",
    "        ', '.join(sorted(unique_2022)),\n",
    "        ', '.join(sorted(unique_2023))\n",
    "    ],\n",
    "    'Count': [\n",
    "        len(common_cols),\n",
    "        len(unique_2021),\n",
    "        len(unique_2022),\n",
    "        len(unique_2023)\n",
    "    ]\n",
    "})\n",
    "\n",
    "print(\"\\nSummary DataFrame:\")\n",
    "print(summary_df)"
   ]
  },
  {
   "cell_type": "code",
   "execution_count": 1076,
   "metadata": {},
   "outputs": [
    {
     "data": {
      "text/html": [
       "<div><style>\n",
       ".dataframe > thead > tr,\n",
       ".dataframe > tbody > tr {\n",
       "  text-align: right;\n",
       "  white-space: pre-wrap;\n",
       "}\n",
       "</style>\n",
       "<small>shape: (301_447, 56)</small><table border=\"1\" class=\"dataframe\"><thead><tr><th>bcn</th><th>country_of_birth</th><th>country_of_nationality</th><th>ben_date_of_birth</th><th>ben_year_of_birth</th><th>gender</th><th>employer_name</th><th>fein</th><th>mail_addr</th><th>city</th><th>state</th><th>zip</th><th>agent_first_name</th><th>agent_last_name</th><th>lottery_year</th><th>status_type</th><th>ben_multi_reg_ind</th><th>receipt_number</th><th>rec_date</th><th>first_decision</th><th>first_decision_date</th><th>i129_employer_name</th><th>pet_street</th><th>pet_city</th><th>pet_state</th><th>pet_zip</th><th>requested_class</th><th>basis_for_classification</th><th>requested_action</th><th>number_of_beneficiaries</th><th>ben_sex</th><th>ben_country_of_birth</th><th>ben_current_class</th><th>job_title</th><th>dol_eta_case_number</th><th>worksite_street</th><th>worksite_city</th><th>worksite_state</th><th>worksite_zip</th><th>full_time_ind</th><th>wage_amt</th><th>wage_unit</th><th>valid_from</th><th>valid_to</th><th>num_of_emp_in_us</th><th>s1q1a</th><th>s1q1b</th><th>ben_education_code</th><th>ed_level_definition</th><th>ben_pfield_of_study</th><th>ben_comp_paid</th><th>dot_code</th><th>naics_code</th><th>s3q1</th><th>s4q1</th><th>t_u_vawa_flag</th></tr><tr><td>str</td><td>str</td><td>str</td><td>str</td><td>i64</td><td>str</td><td>str</td><td>i64</td><td>str</td><td>str</td><td>str</td><td>str</td><td>str</td><td>str</td><td>i64</td><td>str</td><td>i64</td><td>str</td><td>str</td><td>str</td><td>str</td><td>str</td><td>str</td><td>str</td><td>str</td><td>i64</td><td>str</td><td>str</td><td>str</td><td>i64</td><td>str</td><td>str</td><td>str</td><td>str</td><td>str</td><td>str</td><td>str</td><td>str</td><td>i64</td><td>str</td><td>str</td><td>str</td><td>str</td><td>str</td><td>i64</td><td>str</td><td>str</td><td>str</td><td>str</td><td>str</td><td>f64</td><td>i64</td><td>i64</td><td>str</td><td>str</td><td>str</td></tr></thead><tbody><tr><td>&quot;(b)(6)&quot;</td><td>&quot;IND&quot;</td><td>&quot;IND&quot;</td><td>&quot;(b)(6)&quot;</td><td>1991</td><td>&quot;male&quot;</td><td>&quot;Client Software Services LLC.&quot;</td><td>460525861</td><td>&quot;101 Lakeforest Blvd&quot;</td><td>&quot;Gaithersburg&quot;</td><td>&quot;MD&quot;</td><td>&quot;20877-2634&quot;</td><td>&quot;Mamatha&quot;</td><td>&quot;Chittireddy&quot;</td><td>2022</td><td>&quot;SELECTED&quot;</td><td>0</td><td>null</td><td>null</td><td>null</td><td>null</td><td>null</td><td>null</td><td>null</td><td>null</td><td>null</td><td>null</td><td>null</td><td>null</td><td>null</td><td>null</td><td>null</td><td>null</td><td>null</td><td>null</td><td>null</td><td>null</td><td>null</td><td>null</td><td>null</td><td>null</td><td>null</td><td>null</td><td>null</td><td>null</td><td>null</td><td>null</td><td>null</td><td>null</td><td>null</td><td>null</td><td>null</td><td>null</td><td>null</td><td>null</td><td>null</td></tr><tr><td>&quot;(b)(6)&quot;</td><td>&quot;IND&quot;</td><td>&quot;IND&quot;</td><td>&quot;(b)(6)&quot;</td><td>1995</td><td>&quot;male&quot;</td><td>&quot;Primera Technology, Inc.&quot;</td><td>411899601</td><td>&quot;2 Carlson Pkwy N Ste 375&quot;</td><td>&quot;Plymouth&quot;</td><td>&quot;MN&quot;</td><td>&quot;55447-4446&quot;</td><td>&quot;Robert&quot;</td><td>&quot;Wingrove&quot;</td><td>2022</td><td>&quot;ELIGIBLE&quot;</td><td>0</td><td>null</td><td>null</td><td>null</td><td>null</td><td>null</td><td>null</td><td>null</td><td>null</td><td>null</td><td>null</td><td>null</td><td>null</td><td>null</td><td>null</td><td>null</td><td>null</td><td>null</td><td>null</td><td>null</td><td>null</td><td>null</td><td>null</td><td>null</td><td>null</td><td>null</td><td>null</td><td>null</td><td>null</td><td>null</td><td>null</td><td>null</td><td>null</td><td>null</td><td>null</td><td>null</td><td>null</td><td>null</td><td>null</td><td>null</td></tr><tr><td>&quot;(b)(6)&quot;</td><td>&quot;IND&quot;</td><td>&quot;IND&quot;</td><td>&quot;(b)(6)&quot;</td><td>1994</td><td>&quot;male&quot;</td><td>&quot;WIPRO LIMITED&quot;</td><td>980154401</td><td>&quot;2 Tower Center Blvd&quot;</td><td>&quot;E Brunswick&quot;</td><td>&quot;NJ&quot;</td><td>&quot;08816-1100&quot;</td><td>&quot;RAMESH BABU&quot;</td><td>&quot;DARIYA&quot;</td><td>2022</td><td>&quot;ELIGIBLE&quot;</td><td>0</td><td>null</td><td>null</td><td>null</td><td>null</td><td>null</td><td>null</td><td>null</td><td>null</td><td>null</td><td>null</td><td>null</td><td>null</td><td>null</td><td>null</td><td>null</td><td>null</td><td>null</td><td>null</td><td>null</td><td>null</td><td>null</td><td>null</td><td>null</td><td>null</td><td>null</td><td>null</td><td>null</td><td>null</td><td>null</td><td>null</td><td>null</td><td>null</td><td>null</td><td>null</td><td>null</td><td>null</td><td>null</td><td>null</td><td>null</td></tr><tr><td>&quot;(b)(6)&quot;</td><td>&quot;IND&quot;</td><td>&quot;IND&quot;</td><td>&quot;(b)(6)&quot;</td><td>1989</td><td>&quot;male&quot;</td><td>&quot;SOFTWARE ENTERPRISE LLC&quot;</td><td>260452051</td><td>&quot;360 Bloomfield Ave&quot;</td><td>&quot;Windsor&quot;</td><td>&quot;CT&quot;</td><td>&quot;06095-2700&quot;</td><td>&quot;RAO&quot;</td><td>&quot;YALAMANCHILI&quot;</td><td>2022</td><td>&quot;SELECTED&quot;</td><td>1</td><td>null</td><td>null</td><td>null</td><td>null</td><td>null</td><td>null</td><td>null</td><td>null</td><td>null</td><td>null</td><td>null</td><td>null</td><td>null</td><td>null</td><td>null</td><td>null</td><td>null</td><td>null</td><td>null</td><td>null</td><td>null</td><td>null</td><td>null</td><td>null</td><td>null</td><td>null</td><td>null</td><td>null</td><td>null</td><td>null</td><td>null</td><td>null</td><td>null</td><td>null</td><td>null</td><td>null</td><td>null</td><td>null</td><td>null</td></tr><tr><td>&quot;(b)(6)&quot;</td><td>&quot;IND&quot;</td><td>&quot;IND&quot;</td><td>&quot;(b)(6)&quot;</td><td>1991</td><td>&quot;male&quot;</td><td>&quot;BLOCKCHAIN TECHNOLOGIES LLC&quot;</td><td>611863670</td><td>&quot;640 S Pine St&quot;</td><td>&quot;Grand Island&quot;</td><td>&quot;NE&quot;</td><td>&quot;68801-7981&quot;</td><td>&quot;ANKITH REDDY&quot;</td><td>&quot;CHILUKURI&quot;</td><td>2022</td><td>&quot;SELECTED&quot;</td><td>1</td><td>null</td><td>null</td><td>null</td><td>null</td><td>null</td><td>null</td><td>null</td><td>null</td><td>null</td><td>null</td><td>null</td><td>null</td><td>null</td><td>null</td><td>null</td><td>null</td><td>null</td><td>null</td><td>null</td><td>null</td><td>null</td><td>null</td><td>null</td><td>null</td><td>null</td><td>null</td><td>null</td><td>null</td><td>null</td><td>null</td><td>null</td><td>null</td><td>null</td><td>null</td><td>null</td><td>null</td><td>null</td><td>null</td><td>null</td></tr><tr><td>&hellip;</td><td>&hellip;</td><td>&hellip;</td><td>&hellip;</td><td>&hellip;</td><td>&hellip;</td><td>&hellip;</td><td>&hellip;</td><td>&hellip;</td><td>&hellip;</td><td>&hellip;</td><td>&hellip;</td><td>&hellip;</td><td>&hellip;</td><td>&hellip;</td><td>&hellip;</td><td>&hellip;</td><td>&hellip;</td><td>&hellip;</td><td>&hellip;</td><td>&hellip;</td><td>&hellip;</td><td>&hellip;</td><td>&hellip;</td><td>&hellip;</td><td>&hellip;</td><td>&hellip;</td><td>&hellip;</td><td>&hellip;</td><td>&hellip;</td><td>&hellip;</td><td>&hellip;</td><td>&hellip;</td><td>&hellip;</td><td>&hellip;</td><td>&hellip;</td><td>&hellip;</td><td>&hellip;</td><td>&hellip;</td><td>&hellip;</td><td>&hellip;</td><td>&hellip;</td><td>&hellip;</td><td>&hellip;</td><td>&hellip;</td><td>&hellip;</td><td>&hellip;</td><td>&hellip;</td><td>&hellip;</td><td>&hellip;</td><td>&hellip;</td><td>&hellip;</td><td>&hellip;</td><td>&hellip;</td><td>&hellip;</td><td>&hellip;</td></tr><tr><td>&quot;(b)(6)&quot;</td><td>&quot;CHN&quot;</td><td>&quot;CHN&quot;</td><td>&quot;(b)(6)&quot;</td><td>1993</td><td>&quot;female&quot;</td><td>&quot;The Club at Las Campanas, Inc.&quot;</td><td>263558199</td><td>&quot;132 Clubhouse Drive&quot;</td><td>&quot;Santa Fe&quot;</td><td>&quot;NM&quot;</td><td>&quot;87506&quot;</td><td>&quot;Albert&quot;</td><td>&quot;Antonez&quot;</td><td>2022</td><td>&quot;SELECTED&quot;</td><td>0</td><td>&quot;(b)(6)&quot;</td><td>&quot;5/3/2021&quot;</td><td>&quot;Approved&quot;</td><td>&quot;5/13/2021&quot;</td><td>&quot;CLUB AT LAS CAMPANAS INC&quot;</td><td>&quot;132 CLUBHOUSE DRIVE&quot;</td><td>&quot;SANTA FE&quot;</td><td>&quot;NM&quot;</td><td>87506</td><td>&quot;1B1&quot;</td><td>&quot;A&quot;</td><td>&quot;B&quot;</td><td>1</td><td>&quot;F&quot;</td><td>&quot;CHINA&quot;</td><td>&quot;F1&quot;</td><td>&quot;ASSISTANT CLUBHOUSE MANAGER&quot;</td><td>&quot;(b)(6)&quot;</td><td>&quot;132 CLUBHOUSE DRIVE&quot;</td><td>&quot;SANTA FE&quot;</td><td>&quot;NM&quot;</td><td>87506</td><td>null</td><td>null</td><td>null</td><td>&quot;10/1/2021&quot;</td><td>&quot;9/30/2024&quot;</td><td>0</td><td>&quot;N&quot;</td><td>null</td><td>&quot;G&quot;</td><td>&quot;MASTER&#x27;S DEGREE&quot;</td><td>&quot;HOSPITALITY MANAGEMENT&quot;</td><td>59600.0</td><td>12</td><td>713910</td><td>&quot;B&quot;</td><td>&quot;N&quot;</td><td>null</td></tr><tr><td>&quot;(b)(6)&quot;</td><td>&quot;IND&quot;</td><td>&quot;IND&quot;</td><td>&quot;(b)(6)&quot;</td><td>1984</td><td>&quot;male&quot;</td><td>&quot;IMAGEVISION.AI LLC&quot;</td><td>844349832</td><td>&quot;5055 Keller Springs Rd&quot;</td><td>&quot;Addison&quot;</td><td>&quot;TX&quot;</td><td>&quot;75001-6911&quot;</td><td>&quot;VENKATA&quot;</td><td>&quot;GUTTA&quot;</td><td>2022</td><td>&quot;ELIGIBLE&quot;</td><td>0</td><td>null</td><td>null</td><td>null</td><td>null</td><td>null</td><td>null</td><td>null</td><td>null</td><td>null</td><td>null</td><td>null</td><td>null</td><td>null</td><td>null</td><td>null</td><td>null</td><td>null</td><td>null</td><td>null</td><td>null</td><td>null</td><td>null</td><td>null</td><td>null</td><td>null</td><td>null</td><td>null</td><td>null</td><td>null</td><td>null</td><td>null</td><td>null</td><td>null</td><td>null</td><td>null</td><td>null</td><td>null</td><td>null</td><td>null</td></tr><tr><td>&quot;(b)(6)&quot;</td><td>&quot;IND&quot;</td><td>&quot;IND&quot;</td><td>&quot;(b)(6)&quot;</td><td>1991</td><td>&quot;male&quot;</td><td>&quot;HCL America Inc&quot;</td><td>770205035</td><td>&quot;330 Potrero Avenue&quot;</td><td>&quot;Sunnyvale&quot;</td><td>&quot;CA&quot;</td><td>&quot;94085&quot;</td><td>&quot;Hanimireddy&quot;</td><td>&quot;Evuri&quot;</td><td>2022</td><td>&quot;SELECTED&quot;</td><td>0</td><td>null</td><td>null</td><td>null</td><td>null</td><td>null</td><td>null</td><td>null</td><td>null</td><td>null</td><td>null</td><td>null</td><td>null</td><td>null</td><td>null</td><td>null</td><td>null</td><td>null</td><td>null</td><td>null</td><td>null</td><td>null</td><td>null</td><td>null</td><td>null</td><td>null</td><td>null</td><td>null</td><td>null</td><td>null</td><td>null</td><td>null</td><td>null</td><td>null</td><td>null</td><td>null</td><td>null</td><td>null</td><td>null</td><td>null</td></tr><tr><td>&quot;(b)(6)&quot;</td><td>&quot;IND&quot;</td><td>&quot;IND&quot;</td><td>&quot;(b)(6)&quot;</td><td>1988</td><td>&quot;male&quot;</td><td>&quot;Tata Consultancy Services Limi…</td><td>980429806</td><td>&quot;9201 Corporate Blvd&quot;</td><td>&quot;Rockville&quot;</td><td>&quot;MD&quot;</td><td>&quot;20850-6522&quot;</td><td>&quot;Amit&quot;</td><td>&quot;Jindal&quot;</td><td>2022</td><td>&quot;SELECTED&quot;</td><td>0</td><td>&quot;(b)(6)&quot;</td><td>&quot;6/17/2021&quot;</td><td>&quot;Approved&quot;</td><td>&quot;9/4/2021&quot;</td><td>&quot;TATA CONSULTANCY SVCS LTD&quot;</td><td>&quot;9201 CORPORATE BLVD STE 320&quot;</td><td>&quot;ROCKVILLE&quot;</td><td>&quot;MD&quot;</td><td>20850</td><td>&quot;1B1&quot;</td><td>&quot;A&quot;</td><td>&quot;A&quot;</td><td>1</td><td>&quot;M&quot;</td><td>&quot;INDIA&quot;</td><td>&quot;UU&quot;</td><td>null</td><td>&quot;(b)(6)&quot;</td><td>&quot;7979 E TUFTS AVENUE STE 1200&quot;</td><td>&quot;DENVER&quot;</td><td>&quot;CO&quot;</td><td>80237</td><td>null</td><td>null</td><td>null</td><td>&quot;10/1/2021&quot;</td><td>&quot;9/30/2024&quot;</td><td>0</td><td>&quot;Y&quot;</td><td>null</td><td>&quot;F&quot;</td><td>&quot;BACHELOR&#x27;S DEGREE&quot;</td><td>&quot;COMPUTER SCIENCE&quot;</td><td>90300.0</td><td>30</td><td>54151</td><td>&quot;B&quot;</td><td>&quot;N&quot;</td><td>null</td></tr><tr><td>&quot;(b)(6)&quot;</td><td>&quot;IND&quot;</td><td>&quot;IND&quot;</td><td>&quot;(b)(6)&quot;</td><td>1988</td><td>&quot;female&quot;</td><td>&quot;Bits and Binaries Inc&quot;</td><td>821370788</td><td>&quot;4425 W Airport Fwy&quot;</td><td>&quot;Irving&quot;</td><td>&quot;TX&quot;</td><td>&quot;75062-5814&quot;</td><td>&quot;Henry&quot;</td><td>&quot;Ehioghiren&quot;</td><td>2022</td><td>&quot;ELIGIBLE&quot;</td><td>0</td><td>null</td><td>null</td><td>null</td><td>null</td><td>null</td><td>null</td><td>null</td><td>null</td><td>null</td><td>null</td><td>null</td><td>null</td><td>null</td><td>null</td><td>null</td><td>null</td><td>null</td><td>null</td><td>null</td><td>null</td><td>null</td><td>null</td><td>null</td><td>null</td><td>null</td><td>null</td><td>null</td><td>null</td><td>null</td><td>null</td><td>null</td><td>null</td><td>null</td><td>null</td><td>null</td><td>null</td><td>null</td><td>null</td><td>null</td></tr></tbody></table></div>"
      ],
      "text/plain": [
       "shape: (301_447, 56)\n",
       "┌────────┬──────────────┬──────────────┬──────────────┬───┬────────────┬──────┬──────┬─────────────┐\n",
       "│ bcn    ┆ country_of_b ┆ country_of_n ┆ ben_date_of_ ┆ … ┆ naics_code ┆ s3q1 ┆ s4q1 ┆ t_u_vawa_fl │\n",
       "│ ---    ┆ irth         ┆ ationality   ┆ birth        ┆   ┆ ---        ┆ ---  ┆ ---  ┆ ag          │\n",
       "│ str    ┆ ---          ┆ ---          ┆ ---          ┆   ┆ i64        ┆ str  ┆ str  ┆ ---         │\n",
       "│        ┆ str          ┆ str          ┆ str          ┆   ┆            ┆      ┆      ┆ str         │\n",
       "╞════════╪══════════════╪══════════════╪══════════════╪═══╪════════════╪══════╪══════╪═════════════╡\n",
       "│ (b)(6) ┆ IND          ┆ IND          ┆ (b)(6)       ┆ … ┆ null       ┆ null ┆ null ┆ null        │\n",
       "│ (b)(6) ┆ IND          ┆ IND          ┆ (b)(6)       ┆ … ┆ null       ┆ null ┆ null ┆ null        │\n",
       "│ (b)(6) ┆ IND          ┆ IND          ┆ (b)(6)       ┆ … ┆ null       ┆ null ┆ null ┆ null        │\n",
       "│ (b)(6) ┆ IND          ┆ IND          ┆ (b)(6)       ┆ … ┆ null       ┆ null ┆ null ┆ null        │\n",
       "│ (b)(6) ┆ IND          ┆ IND          ┆ (b)(6)       ┆ … ┆ null       ┆ null ┆ null ┆ null        │\n",
       "│ …      ┆ …            ┆ …            ┆ …            ┆ … ┆ …          ┆ …    ┆ …    ┆ …           │\n",
       "│ (b)(6) ┆ CHN          ┆ CHN          ┆ (b)(6)       ┆ … ┆ 713910     ┆ B    ┆ N    ┆ null        │\n",
       "│ (b)(6) ┆ IND          ┆ IND          ┆ (b)(6)       ┆ … ┆ null       ┆ null ┆ null ┆ null        │\n",
       "│ (b)(6) ┆ IND          ┆ IND          ┆ (b)(6)       ┆ … ┆ null       ┆ null ┆ null ┆ null        │\n",
       "│ (b)(6) ┆ IND          ┆ IND          ┆ (b)(6)       ┆ … ┆ 54151      ┆ B    ┆ N    ┆ null        │\n",
       "│ (b)(6) ┆ IND          ┆ IND          ┆ (b)(6)       ┆ … ┆ null       ┆ null ┆ null ┆ null        │\n",
       "└────────┴──────────────┴──────────────┴──────────────┴───┴────────────┴──────┴──────┴─────────────┘"
      ]
     },
     "execution_count": 1076,
     "metadata": {},
     "output_type": "execute_result"
    }
   ],
   "source": [
    "df_2022"
   ]
  },
  {
   "cell_type": "code",
   "execution_count": 1077,
   "metadata": {},
   "outputs": [
    {
     "name": "stdout",
     "output_type": "stream",
     "text": [
      "2021 Schema:\n",
      "Schema([('bcn', String), ('country_of_birth', String), ('country_of_nationality', String), ('ben_date_of_birth', String), ('ben_year_of_birth', Int64), ('gender', String), ('employer_name', String), ('fein', Int64), ('mail_addr', String), ('city', String), ('state', String), ('zip', String), ('agent_first_name', String), ('agent_last_name', String), ('lottery_year', Int64), ('status_type', String), ('ben_multi_reg_ind', Int64), ('receipt_number', String), ('rec_date', String), ('first_decision', String), ('first_decision_date', String), ('i129_employer_name', String), ('pet_street', String), ('pet_city', String), ('pet_state', String), ('pet_zip', Int64), ('requested_class', String), ('basis_for_classification', String), ('requested_action', String), ('number_of_beneficiaries', Int64), ('ben_sex', String), ('ben_country_of_birth', String), ('ben_current_class', String), ('job_title', String), ('dol_eta_case_number', String), ('worksite_street', String), ('worksite_city', String), ('worksite_state', String), ('worksite_zip', Int64), ('full_time_ind', String), ('wage_amt', String), ('wage_unit', String), ('valid_from', String), ('valid_to', String), ('num_of_emp_in_us', Int64), ('s1q1a', String), ('s1q1b', String), ('ben_education_code', String), ('ed_level_definition', String), ('ben_pfield_of_study', String), ('ben_comp_paid', Float64), ('dot_code', Int64), ('naics_code', Int64), ('s3q1', String), ('s4q1', String), ('t_u_vawa_flag', String)])\n",
      "\n",
      "2022 Schema:\n",
      "Schema([('bcn', String), ('country_of_birth', String), ('country_of_nationality', String), ('ben_date_of_birth', String), ('ben_year_of_birth', Int64), ('gender', String), ('employer_name', String), ('fein', Int64), ('mail_addr', String), ('city', String), ('state', String), ('zip', String), ('agent_first_name', String), ('agent_last_name', String), ('lottery_year', Int64), ('status_type', String), ('ben_multi_reg_ind', Int64), ('receipt_number', String), ('rec_date', String), ('first_decision', String), ('first_decision_date', String), ('i129_employer_name', String), ('pet_street', String), ('pet_city', String), ('pet_state', String), ('pet_zip', Int64), ('requested_class', String), ('basis_for_classification', String), ('requested_action', String), ('number_of_beneficiaries', Int64), ('ben_sex', String), ('ben_country_of_birth', String), ('ben_current_class', String), ('job_title', String), ('dol_eta_case_number', String), ('worksite_street', String), ('worksite_city', String), ('worksite_state', String), ('worksite_zip', Int64), ('full_time_ind', String), ('wage_amt', String), ('wage_unit', String), ('valid_from', String), ('valid_to', String), ('num_of_emp_in_us', Int64), ('s1q1a', String), ('s1q1b', String), ('ben_education_code', String), ('ed_level_definition', String), ('ben_pfield_of_study', String), ('ben_comp_paid', Float64), ('dot_code', Int64), ('naics_code', Int64), ('s3q1', String), ('s4q1', String), ('t_u_vawa_flag', String)])\n",
      "\n",
      "2023 Schema:\n",
      "Schema([('bcn', String), ('country_of_birth', String), ('country_of_nationality', String), ('ben_date_of_birth', String), ('ben_year_of_birth', Int64), ('gender', String), ('employer_name', String), ('fein', Int64), ('mail_addr', String), ('city', String), ('state', String), ('zip', String), ('agent_first_name', String), ('agent_last_name', String), ('lottery_year', Int64), ('status_type', String), ('ben_multi_reg_ind', Int64), ('receipt_number', String), ('rec_date', String), ('first_decision', String), ('first_decision_date', String), ('i129_employer_name', String), ('pet_street', String), ('pet_city', String), ('pet_state', String), ('pet_zip', Int64), ('requested_class', String), ('basis_for_classification', String), ('requested_action', String), ('number_of_beneficiaries', Int64), ('ben_sex', String), ('ben_country_of_birth', String), ('ben_current_class', String), ('job_title', String), ('dol_eta_case_number', String), ('worksite_street', String), ('worksite_city', String), ('worksite_state', String), ('worksite_zip', Int64), ('full_time_ind', String), ('wage_amt', Int64), ('wage_unit', String), ('valid_from', String), ('valid_to', String), ('num_of_emp_in_us', Int64), ('s1q1a', String), ('s1q1b', String), ('ben_education_code', String), ('ed_level_definition', String), ('ben_pfield_of_study', String), ('ben_comp_paid', Int64), ('dot_code', Int64), ('naics_code', Int64), ('s3q1', String), ('s4q1', String), ('t_u_vawa_flag', String)])\n"
     ]
    }
   ],
   "source": [
    "# First check data types in each dataset\n",
    "print(\"2021 Schema:\")\n",
    "print(df_2021.schema)\n",
    "print(\"\\n2022 Schema:\")\n",
    "print(df_2022.schema)\n",
    "print(\"\\n2023 Schema:\")\n",
    "print(df_2023.schema)"
   ]
  },
  {
   "cell_type": "code",
   "execution_count": 1078,
   "metadata": {},
   "outputs": [],
   "source": [
    "# Convert and standardize data types before concatenation\n",
    "df_2021 = (df_2021\n",
    "    .with_columns([\n",
    "        pl.col(\"wage_amt\").cast(pl.String).alias(\"wage_amt\"),\n",
    "        pl.col(\"ben_comp_paid\").cast(pl.String).alias(\"ben_comp_paid\"),\n",
    "        pl.lit(2021).alias('fiscal_year')\n",
    "    ])\n",
    "    .select([pl.col(\"*\").name.map(lambda x: x.lower())])\n",
    ")"
   ]
  },
  {
   "cell_type": "code",
   "execution_count": 1079,
   "metadata": {},
   "outputs": [
    {
     "data": {
      "text/html": [
       "<div><style>\n",
       ".dataframe > thead > tr,\n",
       ".dataframe > tbody > tr {\n",
       "  text-align: right;\n",
       "  white-space: pre-wrap;\n",
       "}\n",
       "</style>\n",
       "<small>shape: (269_424, 57)</small><table border=\"1\" class=\"dataframe\"><thead><tr><th>bcn</th><th>country_of_birth</th><th>country_of_nationality</th><th>ben_date_of_birth</th><th>ben_year_of_birth</th><th>gender</th><th>employer_name</th><th>fein</th><th>mail_addr</th><th>city</th><th>state</th><th>zip</th><th>agent_first_name</th><th>agent_last_name</th><th>lottery_year</th><th>status_type</th><th>ben_multi_reg_ind</th><th>receipt_number</th><th>rec_date</th><th>first_decision</th><th>first_decision_date</th><th>i129_employer_name</th><th>pet_street</th><th>pet_city</th><th>pet_state</th><th>pet_zip</th><th>requested_class</th><th>basis_for_classification</th><th>requested_action</th><th>number_of_beneficiaries</th><th>ben_sex</th><th>ben_country_of_birth</th><th>ben_current_class</th><th>job_title</th><th>dol_eta_case_number</th><th>worksite_street</th><th>worksite_city</th><th>worksite_state</th><th>worksite_zip</th><th>full_time_ind</th><th>wage_amt</th><th>wage_unit</th><th>valid_from</th><th>valid_to</th><th>num_of_emp_in_us</th><th>s1q1a</th><th>s1q1b</th><th>ben_education_code</th><th>ed_level_definition</th><th>ben_pfield_of_study</th><th>ben_comp_paid</th><th>dot_code</th><th>naics_code</th><th>s3q1</th><th>s4q1</th><th>t_u_vawa_flag</th><th>fiscal_year</th></tr><tr><td>str</td><td>str</td><td>str</td><td>str</td><td>i64</td><td>str</td><td>str</td><td>i64</td><td>str</td><td>str</td><td>str</td><td>str</td><td>str</td><td>str</td><td>i64</td><td>str</td><td>i64</td><td>str</td><td>str</td><td>str</td><td>str</td><td>str</td><td>str</td><td>str</td><td>str</td><td>i64</td><td>str</td><td>str</td><td>str</td><td>i64</td><td>str</td><td>str</td><td>str</td><td>str</td><td>str</td><td>str</td><td>str</td><td>str</td><td>i64</td><td>str</td><td>str</td><td>str</td><td>str</td><td>str</td><td>i64</td><td>str</td><td>str</td><td>str</td><td>str</td><td>str</td><td>str</td><td>i64</td><td>i64</td><td>str</td><td>str</td><td>str</td><td>i32</td></tr></thead><tbody><tr><td>&quot;(b)(6)&quot;</td><td>&quot;CHN&quot;</td><td>&quot;CHN&quot;</td><td>&quot;(b)(6)&quot;</td><td>1981</td><td>&quot;male&quot;</td><td>&quot;D&amp;R I.P. Law Firm&quot;</td><td>453745389</td><td>&quot;108 N Ynez Ave&quot;</td><td>&quot;Monterey Park&quot;</td><td>&quot;CA&quot;</td><td>&quot;91754-1680&quot;</td><td>&quot;Tony&quot;</td><td>&quot;Wong&quot;</td><td>2021</td><td>&quot;CREATED&quot;</td><td>0</td><td>null</td><td>null</td><td>null</td><td>null</td><td>null</td><td>null</td><td>null</td><td>null</td><td>null</td><td>null</td><td>null</td><td>null</td><td>null</td><td>null</td><td>null</td><td>null</td><td>null</td><td>null</td><td>null</td><td>null</td><td>null</td><td>null</td><td>null</td><td>null</td><td>null</td><td>null</td><td>null</td><td>null</td><td>null</td><td>null</td><td>null</td><td>null</td><td>null</td><td>null</td><td>null</td><td>null</td><td>null</td><td>null</td><td>null</td><td>2021</td></tr><tr><td>&quot;(b)(6)&quot;</td><td>&quot;IND&quot;</td><td>&quot;IND&quot;</td><td>&quot;(b)(6)&quot;</td><td>1994</td><td>&quot;male&quot;</td><td>&quot;ITTECHNICA INC&quot;</td><td>824530582</td><td>&quot;1825 W Walnut Hill Ln&quot;</td><td>&quot;Irving&quot;</td><td>&quot;TX&quot;</td><td>&quot;75038-4453&quot;</td><td>&quot;TAMANNA&quot;</td><td>&quot;ORNI&quot;</td><td>2021</td><td>&quot;CREATED&quot;</td><td>1</td><td>null</td><td>null</td><td>null</td><td>null</td><td>null</td><td>null</td><td>null</td><td>null</td><td>null</td><td>null</td><td>null</td><td>null</td><td>null</td><td>null</td><td>null</td><td>null</td><td>null</td><td>null</td><td>null</td><td>null</td><td>null</td><td>null</td><td>null</td><td>null</td><td>null</td><td>null</td><td>null</td><td>null</td><td>null</td><td>null</td><td>null</td><td>null</td><td>null</td><td>null</td><td>null</td><td>null</td><td>null</td><td>null</td><td>null</td><td>2021</td></tr><tr><td>&quot;(b)(6)&quot;</td><td>&quot;CAN&quot;</td><td>&quot;CAN&quot;</td><td>&quot;(b)(6)&quot;</td><td>1988</td><td>&quot;male&quot;</td><td>&quot;Tesla, Inc.&quot;</td><td>912197729</td><td>&quot;3500 Deer Creek Rd&quot;</td><td>&quot;Palo Alto&quot;</td><td>&quot;CA&quot;</td><td>&quot;94304-1317&quot;</td><td>&quot;Shannon&quot;</td><td>&quot;Napier Barnes&quot;</td><td>2021</td><td>&quot;SELECTED&quot;</td><td>0</td><td>&quot;(b)(6)&quot;</td><td>&quot;6/22/2020&quot;</td><td>&quot;Approved&quot;</td><td>&quot;8/13/2020&quot;</td><td>&quot;TESLA INC&quot;</td><td>&quot;3500 DEER CREEK RD&quot;</td><td>&quot;PALO ALTO&quot;</td><td>&quot;CA&quot;</td><td>94304</td><td>&quot;1B1&quot;</td><td>&quot;A&quot;</td><td>&quot;A&quot;</td><td>1</td><td>&quot;M&quot;</td><td>&quot;CANAD&quot;</td><td>&quot;UU&quot;</td><td>&quot;SR MANUFACTURING CONTROLS DEV …</td><td>&quot;(b)(6)&quot;</td><td>&quot;45500 FREMONT BLVD&quot;</td><td>&quot;FREMONT&quot;</td><td>&quot;CA&quot;</td><td>94538</td><td>null</td><td>null</td><td>null</td><td>&quot;10/1/2020&quot;</td><td>&quot;9/30/2023&quot;</td><td>0</td><td>&quot;N&quot;</td><td>null</td><td>&quot;G&quot;</td><td>&quot;MASTER&#x27;S DEGREE&quot;</td><td>&quot;COMPUTER ENGINEERING&quot;</td><td>&quot;125000.0&quot;</td><td>7</td><td>336111</td><td>&quot;B&quot;</td><td>&quot;N&quot;</td><td>null</td><td>2021</td></tr><tr><td>&quot;(b)(6)&quot;</td><td>&quot;PAK&quot;</td><td>&quot;PAK&quot;</td><td>&quot;(b)(6)&quot;</td><td>1993</td><td>&quot;male&quot;</td><td>&quot;Crorama Inc.&quot;</td><td>208487164</td><td>&quot;391 Thor Pl&quot;</td><td>&quot;Brea&quot;</td><td>&quot;CA&quot;</td><td>&quot;92821-4133&quot;</td><td>&quot;Husnain&quot;</td><td>&quot;Alamdar&quot;</td><td>2021</td><td>&quot;CREATED&quot;</td><td>0</td><td>null</td><td>null</td><td>null</td><td>null</td><td>null</td><td>null</td><td>null</td><td>null</td><td>null</td><td>null</td><td>null</td><td>null</td><td>null</td><td>null</td><td>null</td><td>null</td><td>null</td><td>null</td><td>null</td><td>null</td><td>null</td><td>null</td><td>null</td><td>null</td><td>null</td><td>null</td><td>null</td><td>null</td><td>null</td><td>null</td><td>null</td><td>null</td><td>null</td><td>null</td><td>null</td><td>null</td><td>null</td><td>null</td><td>null</td><td>2021</td></tr><tr><td>&quot;(b)(6)&quot;</td><td>&quot;IND&quot;</td><td>&quot;IND&quot;</td><td>&quot;(b)(6)&quot;</td><td>1990</td><td>&quot;male&quot;</td><td>&quot;XENON INFOTEK INC&quot;</td><td>223816438</td><td>&quot;2 Kilmer Rd Ste B&quot;</td><td>&quot;Edison&quot;</td><td>&quot;NJ&quot;</td><td>&quot;08817-2436&quot;</td><td>&quot;AMITA&quot;</td><td>&quot;MISHRA&quot;</td><td>2021</td><td>&quot;SELECTED&quot;</td><td>1</td><td>&quot;(b)(6)&quot;</td><td>&quot;6/30/2020&quot;</td><td>&quot;Denied&quot;</td><td>&quot;6/25/2021&quot;</td><td>&quot;XENON INFOTEK INC&quot;</td><td>&quot;2 KILMER ROAD STE B&quot;</td><td>&quot;EDISON&quot;</td><td>&quot;NJ&quot;</td><td>8817</td><td>&quot;1B1&quot;</td><td>&quot;A&quot;</td><td>&quot;B&quot;</td><td>1</td><td>&quot;M&quot;</td><td>&quot;INDIA&quot;</td><td>&quot;F1&quot;</td><td>null</td><td>&quot;(b)(6)&quot;</td><td>&quot;429 SYLVAN AVE FLR SECOND&quot;</td><td>&quot;ENGLEWOOD CLIFFS&quot;</td><td>&quot;NJ&quot;</td><td>7632</td><td>null</td><td>null</td><td>null</td><td>null</td><td>null</td><td>0</td><td>&quot;Y&quot;</td><td>null</td><td>&quot;G&quot;</td><td>&quot;MASTER&#x27;S DEGREE&quot;</td><td>&quot;COMPUTER SCI&quot;</td><td>&quot;93496.0&quot;</td><td>null</td><td>541511</td><td>&quot;B&quot;</td><td>&quot;Y&quot;</td><td>null</td><td>2021</td></tr><tr><td>&hellip;</td><td>&hellip;</td><td>&hellip;</td><td>&hellip;</td><td>&hellip;</td><td>&hellip;</td><td>&hellip;</td><td>&hellip;</td><td>&hellip;</td><td>&hellip;</td><td>&hellip;</td><td>&hellip;</td><td>&hellip;</td><td>&hellip;</td><td>&hellip;</td><td>&hellip;</td><td>&hellip;</td><td>&hellip;</td><td>&hellip;</td><td>&hellip;</td><td>&hellip;</td><td>&hellip;</td><td>&hellip;</td><td>&hellip;</td><td>&hellip;</td><td>&hellip;</td><td>&hellip;</td><td>&hellip;</td><td>&hellip;</td><td>&hellip;</td><td>&hellip;</td><td>&hellip;</td><td>&hellip;</td><td>&hellip;</td><td>&hellip;</td><td>&hellip;</td><td>&hellip;</td><td>&hellip;</td><td>&hellip;</td><td>&hellip;</td><td>&hellip;</td><td>&hellip;</td><td>&hellip;</td><td>&hellip;</td><td>&hellip;</td><td>&hellip;</td><td>&hellip;</td><td>&hellip;</td><td>&hellip;</td><td>&hellip;</td><td>&hellip;</td><td>&hellip;</td><td>&hellip;</td><td>&hellip;</td><td>&hellip;</td><td>&hellip;</td><td>&hellip;</td></tr><tr><td>&quot;(b)(6)&quot;</td><td>&quot;IND&quot;</td><td>&quot;IND&quot;</td><td>&quot;(b)(6)&quot;</td><td>1992</td><td>&quot;male&quot;</td><td>&quot;Larsen &amp; Toubro Infotech Limit…</td><td>223524303</td><td>&quot;2035 Lincoln Hwy, Edison Squar…</td><td>&quot;Edison&quot;</td><td>&quot;NJ&quot;</td><td>&quot;08817&quot;</td><td>&quot;Vikram&quot;</td><td>&quot;Mehta&quot;</td><td>2021</td><td>&quot;CREATED&quot;</td><td>0</td><td>null</td><td>null</td><td>null</td><td>null</td><td>null</td><td>null</td><td>null</td><td>null</td><td>null</td><td>null</td><td>null</td><td>null</td><td>null</td><td>null</td><td>null</td><td>null</td><td>null</td><td>null</td><td>null</td><td>null</td><td>null</td><td>null</td><td>null</td><td>null</td><td>null</td><td>null</td><td>null</td><td>null</td><td>null</td><td>null</td><td>null</td><td>null</td><td>null</td><td>null</td><td>null</td><td>null</td><td>null</td><td>null</td><td>null</td><td>2021</td></tr><tr><td>&quot;(b)(6)&quot;</td><td>&quot;IND&quot;</td><td>&quot;IND&quot;</td><td>&quot;(b)(6)&quot;</td><td>1987</td><td>&quot;male&quot;</td><td>&quot;HCL America Solutions Inc&quot;</td><td>455639384</td><td>&quot;330 Potrero Avenue&quot;</td><td>&quot;Sunnyvale&quot;</td><td>&quot;CA&quot;</td><td>&quot;94085&quot;</td><td>&quot;Priti&quot;</td><td>&quot;Gokhale&quot;</td><td>2021</td><td>&quot;CREATED&quot;</td><td>0</td><td>null</td><td>null</td><td>null</td><td>null</td><td>null</td><td>null</td><td>null</td><td>null</td><td>null</td><td>null</td><td>null</td><td>null</td><td>null</td><td>null</td><td>null</td><td>null</td><td>null</td><td>null</td><td>null</td><td>null</td><td>null</td><td>null</td><td>null</td><td>null</td><td>null</td><td>null</td><td>null</td><td>null</td><td>null</td><td>null</td><td>null</td><td>null</td><td>null</td><td>null</td><td>null</td><td>null</td><td>null</td><td>null</td><td>null</td><td>2021</td></tr><tr><td>&quot;(b)(6)&quot;</td><td>&quot;IND&quot;</td><td>&quot;IND&quot;</td><td>&quot;(b)(6)&quot;</td><td>1984</td><td>&quot;male&quot;</td><td>&quot;Capgemini America, Inc.&quot;</td><td>222575929</td><td>&quot;333 West Wacker Drive&quot;</td><td>&quot;Chicago&quot;</td><td>&quot;IL&quot;</td><td>&quot;60606&quot;</td><td>&quot;Jean&quot;</td><td>&quot;Taylor&quot;</td><td>2021</td><td>&quot;CREATED&quot;</td><td>0</td><td>null</td><td>null</td><td>null</td><td>null</td><td>null</td><td>null</td><td>null</td><td>null</td><td>null</td><td>null</td><td>null</td><td>null</td><td>null</td><td>null</td><td>null</td><td>null</td><td>null</td><td>null</td><td>null</td><td>null</td><td>null</td><td>null</td><td>null</td><td>null</td><td>null</td><td>null</td><td>null</td><td>null</td><td>null</td><td>null</td><td>null</td><td>null</td><td>null</td><td>null</td><td>null</td><td>null</td><td>null</td><td>null</td><td>null</td><td>2021</td></tr><tr><td>&quot;(b)(6)&quot;</td><td>&quot;IND&quot;</td><td>&quot;IND&quot;</td><td>&quot;(b)(6)&quot;</td><td>1986</td><td>&quot;male&quot;</td><td>&quot;QUEST GLOBAL SERVICE NA, INC&quot;</td><td>311393419</td><td>&quot;111 Founders Plz&quot;</td><td>&quot;East Hartford&quot;</td><td>&quot;CT&quot;</td><td>&quot;06108-3289&quot;</td><td>&quot;MANJUNATH&quot;</td><td>&quot;SURESH&quot;</td><td>2021</td><td>&quot;SELECTED&quot;</td><td>0</td><td>&quot;(b)(6)&quot;</td><td>&quot;5/26/2020&quot;</td><td>&quot;Approved&quot;</td><td>&quot;9/10/2020&quot;</td><td>&quot;QUEST GLOBAL SERVICES-NA INC&quot;</td><td>&quot;111 FOUNDERS PLAZA STE 1701&quot;</td><td>&quot;EAST HARTFORD&quot;</td><td>&quot;CT&quot;</td><td>6108</td><td>&quot;1B1&quot;</td><td>&quot;A&quot;</td><td>&quot;A&quot;</td><td>1</td><td>&quot;M&quot;</td><td>&quot;INDIA&quot;</td><td>&quot;UU&quot;</td><td>null</td><td>&quot;(b)(6)&quot;</td><td>&quot;5300 RIATA PARK COURT BLDG C&quot;</td><td>&quot;AUSTIN&quot;</td><td>&quot;TX&quot;</td><td>78727</td><td>null</td><td>null</td><td>null</td><td>&quot;10/1/2020&quot;</td><td>&quot;7/31/2023&quot;</td><td>1900</td><td>&quot;Y&quot;</td><td>null</td><td>&quot;F&quot;</td><td>&quot;BACHELOR&#x27;S DEGREE&quot;</td><td>&quot;TELECOMM ENGRG&quot;</td><td>&quot;91957.0&quot;</td><td>30</td><td>541330</td><td>&quot;B&quot;</td><td>&quot;Y&quot;</td><td>null</td><td>2021</td></tr><tr><td>&quot;(b)(6)&quot;</td><td>&quot;IND&quot;</td><td>&quot;IND&quot;</td><td>&quot;(b)(6)&quot;</td><td>1980</td><td>&quot;male&quot;</td><td>&quot;Bristlecone Inc.&quot;</td><td>770485545</td><td>&quot;10 Almaden Blvd Ste 600&quot;</td><td>&quot;San Jose&quot;</td><td>&quot;CA&quot;</td><td>&quot;95113-2226&quot;</td><td>&quot;Devyani&quot;</td><td>&quot;Abhyankar&quot;</td><td>2021</td><td>&quot;CREATED&quot;</td><td>0</td><td>null</td><td>null</td><td>null</td><td>null</td><td>null</td><td>null</td><td>null</td><td>null</td><td>null</td><td>null</td><td>null</td><td>null</td><td>null</td><td>null</td><td>null</td><td>null</td><td>null</td><td>null</td><td>null</td><td>null</td><td>null</td><td>null</td><td>null</td><td>null</td><td>null</td><td>null</td><td>null</td><td>null</td><td>null</td><td>null</td><td>null</td><td>null</td><td>null</td><td>null</td><td>null</td><td>null</td><td>null</td><td>null</td><td>null</td><td>2021</td></tr></tbody></table></div>"
      ],
      "text/plain": [
       "shape: (269_424, 57)\n",
       "┌────────┬──────────────┬──────────────┬─────────────┬───┬──────┬──────┬─────────────┬─────────────┐\n",
       "│ bcn    ┆ country_of_b ┆ country_of_n ┆ ben_date_of ┆ … ┆ s3q1 ┆ s4q1 ┆ t_u_vawa_fl ┆ fiscal_year │\n",
       "│ ---    ┆ irth         ┆ ationality   ┆ _birth      ┆   ┆ ---  ┆ ---  ┆ ag          ┆ ---         │\n",
       "│ str    ┆ ---          ┆ ---          ┆ ---         ┆   ┆ str  ┆ str  ┆ ---         ┆ i32         │\n",
       "│        ┆ str          ┆ str          ┆ str         ┆   ┆      ┆      ┆ str         ┆             │\n",
       "╞════════╪══════════════╪══════════════╪═════════════╪═══╪══════╪══════╪═════════════╪═════════════╡\n",
       "│ (b)(6) ┆ CHN          ┆ CHN          ┆ (b)(6)      ┆ … ┆ null ┆ null ┆ null        ┆ 2021        │\n",
       "│ (b)(6) ┆ IND          ┆ IND          ┆ (b)(6)      ┆ … ┆ null ┆ null ┆ null        ┆ 2021        │\n",
       "│ (b)(6) ┆ CAN          ┆ CAN          ┆ (b)(6)      ┆ … ┆ B    ┆ N    ┆ null        ┆ 2021        │\n",
       "│ (b)(6) ┆ PAK          ┆ PAK          ┆ (b)(6)      ┆ … ┆ null ┆ null ┆ null        ┆ 2021        │\n",
       "│ (b)(6) ┆ IND          ┆ IND          ┆ (b)(6)      ┆ … ┆ B    ┆ Y    ┆ null        ┆ 2021        │\n",
       "│ …      ┆ …            ┆ …            ┆ …           ┆ … ┆ …    ┆ …    ┆ …           ┆ …           │\n",
       "│ (b)(6) ┆ IND          ┆ IND          ┆ (b)(6)      ┆ … ┆ null ┆ null ┆ null        ┆ 2021        │\n",
       "│ (b)(6) ┆ IND          ┆ IND          ┆ (b)(6)      ┆ … ┆ null ┆ null ┆ null        ┆ 2021        │\n",
       "│ (b)(6) ┆ IND          ┆ IND          ┆ (b)(6)      ┆ … ┆ null ┆ null ┆ null        ┆ 2021        │\n",
       "│ (b)(6) ┆ IND          ┆ IND          ┆ (b)(6)      ┆ … ┆ B    ┆ Y    ┆ null        ┆ 2021        │\n",
       "│ (b)(6) ┆ IND          ┆ IND          ┆ (b)(6)      ┆ … ┆ null ┆ null ┆ null        ┆ 2021        │\n",
       "└────────┴──────────────┴──────────────┴─────────────┴───┴──────┴──────┴─────────────┴─────────────┘"
      ]
     },
     "execution_count": 1079,
     "metadata": {},
     "output_type": "execute_result"
    }
   ],
   "source": [
    "df_2021"
   ]
  },
  {
   "cell_type": "code",
   "execution_count": 1080,
   "metadata": {},
   "outputs": [
    {
     "data": {
      "text/html": [
       "<div><style>\n",
       ".dataframe > thead > tr,\n",
       ".dataframe > tbody > tr {\n",
       "  text-align: right;\n",
       "  white-space: pre-wrap;\n",
       "}\n",
       "</style>\n",
       "<small>shape: (301_447, 57)</small><table border=\"1\" class=\"dataframe\"><thead><tr><th>bcn</th><th>country_of_birth</th><th>country_of_nationality</th><th>ben_date_of_birth</th><th>ben_year_of_birth</th><th>gender</th><th>employer_name</th><th>fein</th><th>mail_addr</th><th>city</th><th>state</th><th>zip</th><th>agent_first_name</th><th>agent_last_name</th><th>lottery_year</th><th>status_type</th><th>ben_multi_reg_ind</th><th>receipt_number</th><th>rec_date</th><th>first_decision</th><th>first_decision_date</th><th>i129_employer_name</th><th>pet_street</th><th>pet_city</th><th>pet_state</th><th>pet_zip</th><th>requested_class</th><th>basis_for_classification</th><th>requested_action</th><th>number_of_beneficiaries</th><th>ben_sex</th><th>ben_country_of_birth</th><th>ben_current_class</th><th>job_title</th><th>dol_eta_case_number</th><th>worksite_street</th><th>worksite_city</th><th>worksite_state</th><th>worksite_zip</th><th>full_time_ind</th><th>wage_amt</th><th>wage_unit</th><th>valid_from</th><th>valid_to</th><th>num_of_emp_in_us</th><th>s1q1a</th><th>s1q1b</th><th>ben_education_code</th><th>ed_level_definition</th><th>ben_pfield_of_study</th><th>ben_comp_paid</th><th>dot_code</th><th>naics_code</th><th>s3q1</th><th>s4q1</th><th>t_u_vawa_flag</th><th>fiscal_year</th></tr><tr><td>str</td><td>str</td><td>str</td><td>str</td><td>i64</td><td>str</td><td>str</td><td>i64</td><td>str</td><td>str</td><td>str</td><td>str</td><td>str</td><td>str</td><td>i64</td><td>str</td><td>i64</td><td>str</td><td>str</td><td>str</td><td>str</td><td>str</td><td>str</td><td>str</td><td>str</td><td>i64</td><td>str</td><td>str</td><td>str</td><td>i64</td><td>str</td><td>str</td><td>str</td><td>str</td><td>str</td><td>str</td><td>str</td><td>str</td><td>i64</td><td>str</td><td>str</td><td>str</td><td>str</td><td>str</td><td>i64</td><td>str</td><td>str</td><td>str</td><td>str</td><td>str</td><td>str</td><td>i64</td><td>i64</td><td>str</td><td>str</td><td>str</td><td>i32</td></tr></thead><tbody><tr><td>&quot;(b)(6)&quot;</td><td>&quot;IND&quot;</td><td>&quot;IND&quot;</td><td>&quot;(b)(6)&quot;</td><td>1991</td><td>&quot;male&quot;</td><td>&quot;Client Software Services LLC.&quot;</td><td>460525861</td><td>&quot;101 Lakeforest Blvd&quot;</td><td>&quot;Gaithersburg&quot;</td><td>&quot;MD&quot;</td><td>&quot;20877-2634&quot;</td><td>&quot;Mamatha&quot;</td><td>&quot;Chittireddy&quot;</td><td>2022</td><td>&quot;SELECTED&quot;</td><td>0</td><td>null</td><td>null</td><td>null</td><td>null</td><td>null</td><td>null</td><td>null</td><td>null</td><td>null</td><td>null</td><td>null</td><td>null</td><td>null</td><td>null</td><td>null</td><td>null</td><td>null</td><td>null</td><td>null</td><td>null</td><td>null</td><td>null</td><td>null</td><td>null</td><td>null</td><td>null</td><td>null</td><td>null</td><td>null</td><td>null</td><td>null</td><td>null</td><td>null</td><td>null</td><td>null</td><td>null</td><td>null</td><td>null</td><td>null</td><td>2022</td></tr><tr><td>&quot;(b)(6)&quot;</td><td>&quot;IND&quot;</td><td>&quot;IND&quot;</td><td>&quot;(b)(6)&quot;</td><td>1995</td><td>&quot;male&quot;</td><td>&quot;Primera Technology, Inc.&quot;</td><td>411899601</td><td>&quot;2 Carlson Pkwy N Ste 375&quot;</td><td>&quot;Plymouth&quot;</td><td>&quot;MN&quot;</td><td>&quot;55447-4446&quot;</td><td>&quot;Robert&quot;</td><td>&quot;Wingrove&quot;</td><td>2022</td><td>&quot;ELIGIBLE&quot;</td><td>0</td><td>null</td><td>null</td><td>null</td><td>null</td><td>null</td><td>null</td><td>null</td><td>null</td><td>null</td><td>null</td><td>null</td><td>null</td><td>null</td><td>null</td><td>null</td><td>null</td><td>null</td><td>null</td><td>null</td><td>null</td><td>null</td><td>null</td><td>null</td><td>null</td><td>null</td><td>null</td><td>null</td><td>null</td><td>null</td><td>null</td><td>null</td><td>null</td><td>null</td><td>null</td><td>null</td><td>null</td><td>null</td><td>null</td><td>null</td><td>2022</td></tr><tr><td>&quot;(b)(6)&quot;</td><td>&quot;IND&quot;</td><td>&quot;IND&quot;</td><td>&quot;(b)(6)&quot;</td><td>1994</td><td>&quot;male&quot;</td><td>&quot;WIPRO LIMITED&quot;</td><td>980154401</td><td>&quot;2 Tower Center Blvd&quot;</td><td>&quot;E Brunswick&quot;</td><td>&quot;NJ&quot;</td><td>&quot;08816-1100&quot;</td><td>&quot;RAMESH BABU&quot;</td><td>&quot;DARIYA&quot;</td><td>2022</td><td>&quot;ELIGIBLE&quot;</td><td>0</td><td>null</td><td>null</td><td>null</td><td>null</td><td>null</td><td>null</td><td>null</td><td>null</td><td>null</td><td>null</td><td>null</td><td>null</td><td>null</td><td>null</td><td>null</td><td>null</td><td>null</td><td>null</td><td>null</td><td>null</td><td>null</td><td>null</td><td>null</td><td>null</td><td>null</td><td>null</td><td>null</td><td>null</td><td>null</td><td>null</td><td>null</td><td>null</td><td>null</td><td>null</td><td>null</td><td>null</td><td>null</td><td>null</td><td>null</td><td>2022</td></tr><tr><td>&quot;(b)(6)&quot;</td><td>&quot;IND&quot;</td><td>&quot;IND&quot;</td><td>&quot;(b)(6)&quot;</td><td>1989</td><td>&quot;male&quot;</td><td>&quot;SOFTWARE ENTERPRISE LLC&quot;</td><td>260452051</td><td>&quot;360 Bloomfield Ave&quot;</td><td>&quot;Windsor&quot;</td><td>&quot;CT&quot;</td><td>&quot;06095-2700&quot;</td><td>&quot;RAO&quot;</td><td>&quot;YALAMANCHILI&quot;</td><td>2022</td><td>&quot;SELECTED&quot;</td><td>1</td><td>null</td><td>null</td><td>null</td><td>null</td><td>null</td><td>null</td><td>null</td><td>null</td><td>null</td><td>null</td><td>null</td><td>null</td><td>null</td><td>null</td><td>null</td><td>null</td><td>null</td><td>null</td><td>null</td><td>null</td><td>null</td><td>null</td><td>null</td><td>null</td><td>null</td><td>null</td><td>null</td><td>null</td><td>null</td><td>null</td><td>null</td><td>null</td><td>null</td><td>null</td><td>null</td><td>null</td><td>null</td><td>null</td><td>null</td><td>2022</td></tr><tr><td>&quot;(b)(6)&quot;</td><td>&quot;IND&quot;</td><td>&quot;IND&quot;</td><td>&quot;(b)(6)&quot;</td><td>1991</td><td>&quot;male&quot;</td><td>&quot;BLOCKCHAIN TECHNOLOGIES LLC&quot;</td><td>611863670</td><td>&quot;640 S Pine St&quot;</td><td>&quot;Grand Island&quot;</td><td>&quot;NE&quot;</td><td>&quot;68801-7981&quot;</td><td>&quot;ANKITH REDDY&quot;</td><td>&quot;CHILUKURI&quot;</td><td>2022</td><td>&quot;SELECTED&quot;</td><td>1</td><td>null</td><td>null</td><td>null</td><td>null</td><td>null</td><td>null</td><td>null</td><td>null</td><td>null</td><td>null</td><td>null</td><td>null</td><td>null</td><td>null</td><td>null</td><td>null</td><td>null</td><td>null</td><td>null</td><td>null</td><td>null</td><td>null</td><td>null</td><td>null</td><td>null</td><td>null</td><td>null</td><td>null</td><td>null</td><td>null</td><td>null</td><td>null</td><td>null</td><td>null</td><td>null</td><td>null</td><td>null</td><td>null</td><td>null</td><td>2022</td></tr><tr><td>&hellip;</td><td>&hellip;</td><td>&hellip;</td><td>&hellip;</td><td>&hellip;</td><td>&hellip;</td><td>&hellip;</td><td>&hellip;</td><td>&hellip;</td><td>&hellip;</td><td>&hellip;</td><td>&hellip;</td><td>&hellip;</td><td>&hellip;</td><td>&hellip;</td><td>&hellip;</td><td>&hellip;</td><td>&hellip;</td><td>&hellip;</td><td>&hellip;</td><td>&hellip;</td><td>&hellip;</td><td>&hellip;</td><td>&hellip;</td><td>&hellip;</td><td>&hellip;</td><td>&hellip;</td><td>&hellip;</td><td>&hellip;</td><td>&hellip;</td><td>&hellip;</td><td>&hellip;</td><td>&hellip;</td><td>&hellip;</td><td>&hellip;</td><td>&hellip;</td><td>&hellip;</td><td>&hellip;</td><td>&hellip;</td><td>&hellip;</td><td>&hellip;</td><td>&hellip;</td><td>&hellip;</td><td>&hellip;</td><td>&hellip;</td><td>&hellip;</td><td>&hellip;</td><td>&hellip;</td><td>&hellip;</td><td>&hellip;</td><td>&hellip;</td><td>&hellip;</td><td>&hellip;</td><td>&hellip;</td><td>&hellip;</td><td>&hellip;</td><td>&hellip;</td></tr><tr><td>&quot;(b)(6)&quot;</td><td>&quot;CHN&quot;</td><td>&quot;CHN&quot;</td><td>&quot;(b)(6)&quot;</td><td>1993</td><td>&quot;female&quot;</td><td>&quot;The Club at Las Campanas, Inc.&quot;</td><td>263558199</td><td>&quot;132 Clubhouse Drive&quot;</td><td>&quot;Santa Fe&quot;</td><td>&quot;NM&quot;</td><td>&quot;87506&quot;</td><td>&quot;Albert&quot;</td><td>&quot;Antonez&quot;</td><td>2022</td><td>&quot;SELECTED&quot;</td><td>0</td><td>&quot;(b)(6)&quot;</td><td>&quot;5/3/2021&quot;</td><td>&quot;Approved&quot;</td><td>&quot;5/13/2021&quot;</td><td>&quot;CLUB AT LAS CAMPANAS INC&quot;</td><td>&quot;132 CLUBHOUSE DRIVE&quot;</td><td>&quot;SANTA FE&quot;</td><td>&quot;NM&quot;</td><td>87506</td><td>&quot;1B1&quot;</td><td>&quot;A&quot;</td><td>&quot;B&quot;</td><td>1</td><td>&quot;F&quot;</td><td>&quot;CHINA&quot;</td><td>&quot;F1&quot;</td><td>&quot;ASSISTANT CLUBHOUSE MANAGER&quot;</td><td>&quot;(b)(6)&quot;</td><td>&quot;132 CLUBHOUSE DRIVE&quot;</td><td>&quot;SANTA FE&quot;</td><td>&quot;NM&quot;</td><td>87506</td><td>null</td><td>null</td><td>null</td><td>&quot;10/1/2021&quot;</td><td>&quot;9/30/2024&quot;</td><td>0</td><td>&quot;N&quot;</td><td>null</td><td>&quot;G&quot;</td><td>&quot;MASTER&#x27;S DEGREE&quot;</td><td>&quot;HOSPITALITY MANAGEMENT&quot;</td><td>&quot;59600.0&quot;</td><td>12</td><td>713910</td><td>&quot;B&quot;</td><td>&quot;N&quot;</td><td>null</td><td>2022</td></tr><tr><td>&quot;(b)(6)&quot;</td><td>&quot;IND&quot;</td><td>&quot;IND&quot;</td><td>&quot;(b)(6)&quot;</td><td>1984</td><td>&quot;male&quot;</td><td>&quot;IMAGEVISION.AI LLC&quot;</td><td>844349832</td><td>&quot;5055 Keller Springs Rd&quot;</td><td>&quot;Addison&quot;</td><td>&quot;TX&quot;</td><td>&quot;75001-6911&quot;</td><td>&quot;VENKATA&quot;</td><td>&quot;GUTTA&quot;</td><td>2022</td><td>&quot;ELIGIBLE&quot;</td><td>0</td><td>null</td><td>null</td><td>null</td><td>null</td><td>null</td><td>null</td><td>null</td><td>null</td><td>null</td><td>null</td><td>null</td><td>null</td><td>null</td><td>null</td><td>null</td><td>null</td><td>null</td><td>null</td><td>null</td><td>null</td><td>null</td><td>null</td><td>null</td><td>null</td><td>null</td><td>null</td><td>null</td><td>null</td><td>null</td><td>null</td><td>null</td><td>null</td><td>null</td><td>null</td><td>null</td><td>null</td><td>null</td><td>null</td><td>null</td><td>2022</td></tr><tr><td>&quot;(b)(6)&quot;</td><td>&quot;IND&quot;</td><td>&quot;IND&quot;</td><td>&quot;(b)(6)&quot;</td><td>1991</td><td>&quot;male&quot;</td><td>&quot;HCL America Inc&quot;</td><td>770205035</td><td>&quot;330 Potrero Avenue&quot;</td><td>&quot;Sunnyvale&quot;</td><td>&quot;CA&quot;</td><td>&quot;94085&quot;</td><td>&quot;Hanimireddy&quot;</td><td>&quot;Evuri&quot;</td><td>2022</td><td>&quot;SELECTED&quot;</td><td>0</td><td>null</td><td>null</td><td>null</td><td>null</td><td>null</td><td>null</td><td>null</td><td>null</td><td>null</td><td>null</td><td>null</td><td>null</td><td>null</td><td>null</td><td>null</td><td>null</td><td>null</td><td>null</td><td>null</td><td>null</td><td>null</td><td>null</td><td>null</td><td>null</td><td>null</td><td>null</td><td>null</td><td>null</td><td>null</td><td>null</td><td>null</td><td>null</td><td>null</td><td>null</td><td>null</td><td>null</td><td>null</td><td>null</td><td>null</td><td>2022</td></tr><tr><td>&quot;(b)(6)&quot;</td><td>&quot;IND&quot;</td><td>&quot;IND&quot;</td><td>&quot;(b)(6)&quot;</td><td>1988</td><td>&quot;male&quot;</td><td>&quot;Tata Consultancy Services Limi…</td><td>980429806</td><td>&quot;9201 Corporate Blvd&quot;</td><td>&quot;Rockville&quot;</td><td>&quot;MD&quot;</td><td>&quot;20850-6522&quot;</td><td>&quot;Amit&quot;</td><td>&quot;Jindal&quot;</td><td>2022</td><td>&quot;SELECTED&quot;</td><td>0</td><td>&quot;(b)(6)&quot;</td><td>&quot;6/17/2021&quot;</td><td>&quot;Approved&quot;</td><td>&quot;9/4/2021&quot;</td><td>&quot;TATA CONSULTANCY SVCS LTD&quot;</td><td>&quot;9201 CORPORATE BLVD STE 320&quot;</td><td>&quot;ROCKVILLE&quot;</td><td>&quot;MD&quot;</td><td>20850</td><td>&quot;1B1&quot;</td><td>&quot;A&quot;</td><td>&quot;A&quot;</td><td>1</td><td>&quot;M&quot;</td><td>&quot;INDIA&quot;</td><td>&quot;UU&quot;</td><td>null</td><td>&quot;(b)(6)&quot;</td><td>&quot;7979 E TUFTS AVENUE STE 1200&quot;</td><td>&quot;DENVER&quot;</td><td>&quot;CO&quot;</td><td>80237</td><td>null</td><td>null</td><td>null</td><td>&quot;10/1/2021&quot;</td><td>&quot;9/30/2024&quot;</td><td>0</td><td>&quot;Y&quot;</td><td>null</td><td>&quot;F&quot;</td><td>&quot;BACHELOR&#x27;S DEGREE&quot;</td><td>&quot;COMPUTER SCIENCE&quot;</td><td>&quot;90300.0&quot;</td><td>30</td><td>54151</td><td>&quot;B&quot;</td><td>&quot;N&quot;</td><td>null</td><td>2022</td></tr><tr><td>&quot;(b)(6)&quot;</td><td>&quot;IND&quot;</td><td>&quot;IND&quot;</td><td>&quot;(b)(6)&quot;</td><td>1988</td><td>&quot;female&quot;</td><td>&quot;Bits and Binaries Inc&quot;</td><td>821370788</td><td>&quot;4425 W Airport Fwy&quot;</td><td>&quot;Irving&quot;</td><td>&quot;TX&quot;</td><td>&quot;75062-5814&quot;</td><td>&quot;Henry&quot;</td><td>&quot;Ehioghiren&quot;</td><td>2022</td><td>&quot;ELIGIBLE&quot;</td><td>0</td><td>null</td><td>null</td><td>null</td><td>null</td><td>null</td><td>null</td><td>null</td><td>null</td><td>null</td><td>null</td><td>null</td><td>null</td><td>null</td><td>null</td><td>null</td><td>null</td><td>null</td><td>null</td><td>null</td><td>null</td><td>null</td><td>null</td><td>null</td><td>null</td><td>null</td><td>null</td><td>null</td><td>null</td><td>null</td><td>null</td><td>null</td><td>null</td><td>null</td><td>null</td><td>null</td><td>null</td><td>null</td><td>null</td><td>null</td><td>2022</td></tr></tbody></table></div>"
      ],
      "text/plain": [
       "shape: (301_447, 57)\n",
       "┌────────┬──────────────┬──────────────┬─────────────┬───┬──────┬──────┬─────────────┬─────────────┐\n",
       "│ bcn    ┆ country_of_b ┆ country_of_n ┆ ben_date_of ┆ … ┆ s3q1 ┆ s4q1 ┆ t_u_vawa_fl ┆ fiscal_year │\n",
       "│ ---    ┆ irth         ┆ ationality   ┆ _birth      ┆   ┆ ---  ┆ ---  ┆ ag          ┆ ---         │\n",
       "│ str    ┆ ---          ┆ ---          ┆ ---         ┆   ┆ str  ┆ str  ┆ ---         ┆ i32         │\n",
       "│        ┆ str          ┆ str          ┆ str         ┆   ┆      ┆      ┆ str         ┆             │\n",
       "╞════════╪══════════════╪══════════════╪═════════════╪═══╪══════╪══════╪═════════════╪═════════════╡\n",
       "│ (b)(6) ┆ IND          ┆ IND          ┆ (b)(6)      ┆ … ┆ null ┆ null ┆ null        ┆ 2022        │\n",
       "│ (b)(6) ┆ IND          ┆ IND          ┆ (b)(6)      ┆ … ┆ null ┆ null ┆ null        ┆ 2022        │\n",
       "│ (b)(6) ┆ IND          ┆ IND          ┆ (b)(6)      ┆ … ┆ null ┆ null ┆ null        ┆ 2022        │\n",
       "│ (b)(6) ┆ IND          ┆ IND          ┆ (b)(6)      ┆ … ┆ null ┆ null ┆ null        ┆ 2022        │\n",
       "│ (b)(6) ┆ IND          ┆ IND          ┆ (b)(6)      ┆ … ┆ null ┆ null ┆ null        ┆ 2022        │\n",
       "│ …      ┆ …            ┆ …            ┆ …           ┆ … ┆ …    ┆ …    ┆ …           ┆ …           │\n",
       "│ (b)(6) ┆ CHN          ┆ CHN          ┆ (b)(6)      ┆ … ┆ B    ┆ N    ┆ null        ┆ 2022        │\n",
       "│ (b)(6) ┆ IND          ┆ IND          ┆ (b)(6)      ┆ … ┆ null ┆ null ┆ null        ┆ 2022        │\n",
       "│ (b)(6) ┆ IND          ┆ IND          ┆ (b)(6)      ┆ … ┆ null ┆ null ┆ null        ┆ 2022        │\n",
       "│ (b)(6) ┆ IND          ┆ IND          ┆ (b)(6)      ┆ … ┆ B    ┆ N    ┆ null        ┆ 2022        │\n",
       "│ (b)(6) ┆ IND          ┆ IND          ┆ (b)(6)      ┆ … ┆ null ┆ null ┆ null        ┆ 2022        │\n",
       "└────────┴──────────────┴──────────────┴─────────────┴───┴──────┴──────┴─────────────┴─────────────┘"
      ]
     },
     "execution_count": 1080,
     "metadata": {},
     "output_type": "execute_result"
    }
   ],
   "source": [
    "df_2022 = (df_2022\n",
    "    .with_columns([\n",
    "        pl.col(\"wage_amt\").cast(pl.String).alias(\"wage_amt\"),\n",
    "        pl.col(\"ben_comp_paid\").cast(pl.String).alias(\"ben_comp_paid\"),\n",
    "        pl.lit(2022).alias('fiscal_year')\n",
    "    ])\n",
    "    .select([pl.col(\"*\").name.map(lambda x: x.lower())])\n",
    ")\n",
    "df_2022"
   ]
  },
  {
   "cell_type": "code",
   "execution_count": 1081,
   "metadata": {},
   "outputs": [
    {
     "data": {
      "text/html": [
       "<div><style>\n",
       ".dataframe > thead > tr,\n",
       ".dataframe > tbody > tr {\n",
       "  text-align: right;\n",
       "  white-space: pre-wrap;\n",
       "}\n",
       "</style>\n",
       "<small>shape: (474_421, 57)</small><table border=\"1\" class=\"dataframe\"><thead><tr><th>bcn</th><th>country_of_birth</th><th>country_of_nationality</th><th>ben_date_of_birth</th><th>ben_year_of_birth</th><th>gender</th><th>employer_name</th><th>fein</th><th>mail_addr</th><th>city</th><th>state</th><th>zip</th><th>agent_first_name</th><th>agent_last_name</th><th>lottery_year</th><th>status_type</th><th>ben_multi_reg_ind</th><th>receipt_number</th><th>rec_date</th><th>first_decision</th><th>first_decision_date</th><th>i129_employer_name</th><th>pet_street</th><th>pet_city</th><th>pet_state</th><th>pet_zip</th><th>requested_class</th><th>basis_for_classification</th><th>requested_action</th><th>number_of_beneficiaries</th><th>ben_sex</th><th>ben_country_of_birth</th><th>ben_current_class</th><th>job_title</th><th>dol_eta_case_number</th><th>worksite_street</th><th>worksite_city</th><th>worksite_state</th><th>worksite_zip</th><th>full_time_ind</th><th>wage_amt</th><th>wage_unit</th><th>valid_from</th><th>valid_to</th><th>num_of_emp_in_us</th><th>s1q1a</th><th>s1q1b</th><th>ben_education_code</th><th>ed_level_definition</th><th>ben_pfield_of_study</th><th>ben_comp_paid</th><th>dot_code</th><th>naics_code</th><th>s3q1</th><th>s4q1</th><th>t_u_vawa_flag</th><th>fiscal_year</th></tr><tr><td>str</td><td>str</td><td>str</td><td>str</td><td>i64</td><td>str</td><td>str</td><td>i64</td><td>str</td><td>str</td><td>str</td><td>str</td><td>str</td><td>str</td><td>i64</td><td>str</td><td>i64</td><td>str</td><td>str</td><td>str</td><td>str</td><td>str</td><td>str</td><td>str</td><td>str</td><td>i64</td><td>str</td><td>str</td><td>str</td><td>i64</td><td>str</td><td>str</td><td>str</td><td>str</td><td>str</td><td>str</td><td>str</td><td>str</td><td>i64</td><td>str</td><td>str</td><td>str</td><td>str</td><td>str</td><td>i64</td><td>str</td><td>str</td><td>str</td><td>str</td><td>str</td><td>str</td><td>i64</td><td>i64</td><td>str</td><td>str</td><td>str</td><td>i32</td></tr></thead><tbody><tr><td>&quot;(b)(6)&quot;</td><td>&quot;IND&quot;</td><td>&quot;IND&quot;</td><td>&quot;(b)(6)&quot;</td><td>1993</td><td>&quot;male&quot;</td><td>&quot;Ethos Tek LLC&quot;</td><td>611979831</td><td>&quot;539 W. Commerce St&quot;</td><td>&quot;Dallas&quot;</td><td>&quot;TX&quot;</td><td>&quot;75208&quot;</td><td>&quot;Shiva Bharath&quot;</td><td>&quot;Satla&quot;</td><td>2023</td><td>&quot;ELIGIBLE&quot;</td><td>1</td><td>null</td><td>null</td><td>null</td><td>null</td><td>null</td><td>null</td><td>null</td><td>null</td><td>null</td><td>null</td><td>null</td><td>null</td><td>null</td><td>null</td><td>null</td><td>null</td><td>null</td><td>null</td><td>null</td><td>null</td><td>null</td><td>null</td><td>null</td><td>null</td><td>null</td><td>null</td><td>null</td><td>null</td><td>null</td><td>null</td><td>null</td><td>null</td><td>null</td><td>null</td><td>null</td><td>null</td><td>null</td><td>null</td><td>null</td><td>2023</td></tr><tr><td>&quot;(b)(6)&quot;</td><td>&quot;IND&quot;</td><td>&quot;IND&quot;</td><td>&quot;(b)(6)&quot;</td><td>1994</td><td>&quot;female&quot;</td><td>&quot;AbDev Solutions Inc&quot;</td><td>872692550</td><td>&quot;20130 Lakeview Center Plaza&quot;</td><td>&quot;Ashburn&quot;</td><td>&quot;VA&quot;</td><td>&quot;20147&quot;</td><td>&quot;Sravan&quot;</td><td>&quot;Thakkalapalli&quot;</td><td>2023</td><td>&quot;ELIGIBLE&quot;</td><td>0</td><td>null</td><td>null</td><td>null</td><td>null</td><td>null</td><td>null</td><td>null</td><td>null</td><td>null</td><td>null</td><td>null</td><td>null</td><td>null</td><td>null</td><td>null</td><td>null</td><td>null</td><td>null</td><td>null</td><td>null</td><td>null</td><td>null</td><td>null</td><td>null</td><td>null</td><td>null</td><td>null</td><td>null</td><td>null</td><td>null</td><td>null</td><td>null</td><td>null</td><td>null</td><td>null</td><td>null</td><td>null</td><td>null</td><td>null</td><td>2023</td></tr><tr><td>&quot;(b)(6)&quot;</td><td>&quot;IND&quot;</td><td>&quot;IND&quot;</td><td>&quot;(b)(6)&quot;</td><td>1991</td><td>&quot;female&quot;</td><td>&quot;ArisGlobal, LLC.&quot;</td><td>43604669</td><td>&quot;3119 Ponce De Leon Blvd&quot;</td><td>&quot;Coral Gables&quot;</td><td>&quot;FL&quot;</td><td>&quot;33134-6816&quot;</td><td>&quot;Arunkumar&quot;</td><td>&quot;Mohan&quot;</td><td>2023</td><td>&quot;SELECTED&quot;</td><td>0</td><td>null</td><td>null</td><td>null</td><td>null</td><td>null</td><td>null</td><td>null</td><td>null</td><td>null</td><td>null</td><td>null</td><td>null</td><td>null</td><td>null</td><td>null</td><td>null</td><td>null</td><td>null</td><td>null</td><td>null</td><td>null</td><td>null</td><td>null</td><td>null</td><td>null</td><td>null</td><td>null</td><td>null</td><td>null</td><td>null</td><td>null</td><td>null</td><td>null</td><td>null</td><td>null</td><td>null</td><td>null</td><td>null</td><td>null</td><td>2023</td></tr><tr><td>&quot;(b)(6)&quot;</td><td>&quot;IND&quot;</td><td>&quot;IND&quot;</td><td>&quot;(b)(6)&quot;</td><td>1990</td><td>&quot;female&quot;</td><td>&quot;TekPro IT LLC&quot;</td><td>874570618</td><td>&quot;2315 W Arbors Dr, Suit&nbsp;&nbsp;200-7&quot;</td><td>&quot;Charlotte&quot;</td><td>&quot;NC&quot;</td><td>&quot;28262&quot;</td><td>&quot;Ajay&quot;</td><td>&quot;Vemuri&quot;</td><td>2023</td><td>&quot;ELIGIBLE&quot;</td><td>1</td><td>null</td><td>null</td><td>null</td><td>null</td><td>null</td><td>null</td><td>null</td><td>null</td><td>null</td><td>null</td><td>null</td><td>null</td><td>null</td><td>null</td><td>null</td><td>null</td><td>null</td><td>null</td><td>null</td><td>null</td><td>null</td><td>null</td><td>null</td><td>null</td><td>null</td><td>null</td><td>null</td><td>null</td><td>null</td><td>null</td><td>null</td><td>null</td><td>null</td><td>null</td><td>null</td><td>null</td><td>null</td><td>null</td><td>null</td><td>2023</td></tr><tr><td>&quot;(b)(6)&quot;</td><td>&quot;IND&quot;</td><td>&quot;IND&quot;</td><td>&quot;(b)(6)&quot;</td><td>1990</td><td>&quot;male&quot;</td><td>&quot;Cuboid LLC&quot;</td><td>464263700</td><td>&quot;4701 Patrick Henry Drive Bldg …</td><td>&quot;Santa Clara&quot;</td><td>&quot;CA&quot;</td><td>&quot;95054&quot;</td><td>&quot;Ritesh&quot;</td><td>&quot;Bhattarai&quot;</td><td>2023</td><td>&quot;ELIGIBLE&quot;</td><td>1</td><td>null</td><td>null</td><td>null</td><td>null</td><td>null</td><td>null</td><td>null</td><td>null</td><td>null</td><td>null</td><td>null</td><td>null</td><td>null</td><td>null</td><td>null</td><td>null</td><td>null</td><td>null</td><td>null</td><td>null</td><td>null</td><td>null</td><td>null</td><td>null</td><td>null</td><td>null</td><td>null</td><td>null</td><td>null</td><td>null</td><td>null</td><td>null</td><td>null</td><td>null</td><td>null</td><td>null</td><td>null</td><td>null</td><td>null</td><td>2023</td></tr><tr><td>&hellip;</td><td>&hellip;</td><td>&hellip;</td><td>&hellip;</td><td>&hellip;</td><td>&hellip;</td><td>&hellip;</td><td>&hellip;</td><td>&hellip;</td><td>&hellip;</td><td>&hellip;</td><td>&hellip;</td><td>&hellip;</td><td>&hellip;</td><td>&hellip;</td><td>&hellip;</td><td>&hellip;</td><td>&hellip;</td><td>&hellip;</td><td>&hellip;</td><td>&hellip;</td><td>&hellip;</td><td>&hellip;</td><td>&hellip;</td><td>&hellip;</td><td>&hellip;</td><td>&hellip;</td><td>&hellip;</td><td>&hellip;</td><td>&hellip;</td><td>&hellip;</td><td>&hellip;</td><td>&hellip;</td><td>&hellip;</td><td>&hellip;</td><td>&hellip;</td><td>&hellip;</td><td>&hellip;</td><td>&hellip;</td><td>&hellip;</td><td>&hellip;</td><td>&hellip;</td><td>&hellip;</td><td>&hellip;</td><td>&hellip;</td><td>&hellip;</td><td>&hellip;</td><td>&hellip;</td><td>&hellip;</td><td>&hellip;</td><td>&hellip;</td><td>&hellip;</td><td>&hellip;</td><td>&hellip;</td><td>&hellip;</td><td>&hellip;</td><td>&hellip;</td></tr><tr><td>&quot;(b)(6)&quot;</td><td>&quot;IND&quot;</td><td>&quot;IND&quot;</td><td>&quot;(b)(6)&quot;</td><td>1989</td><td>&quot;female&quot;</td><td>&quot;Jefferies LLC&quot;</td><td>952622900</td><td>&quot;520 Madison Ave&quot;</td><td>&quot;New York&quot;</td><td>&quot;NY&quot;</td><td>&quot;10022-4213&quot;</td><td>&quot;JOCELYN&quot;</td><td>&quot;SIMON&quot;</td><td>2023</td><td>&quot;ELIGIBLE&quot;</td><td>0</td><td>null</td><td>null</td><td>null</td><td>null</td><td>null</td><td>null</td><td>null</td><td>null</td><td>null</td><td>null</td><td>null</td><td>null</td><td>null</td><td>null</td><td>null</td><td>null</td><td>null</td><td>null</td><td>null</td><td>null</td><td>null</td><td>null</td><td>null</td><td>null</td><td>null</td><td>null</td><td>null</td><td>null</td><td>null</td><td>null</td><td>null</td><td>null</td><td>null</td><td>null</td><td>null</td><td>null</td><td>null</td><td>null</td><td>null</td><td>2023</td></tr><tr><td>&quot;(b)(6)&quot;</td><td>&quot;IND&quot;</td><td>&quot;IND&quot;</td><td>&quot;(b)(6)&quot;</td><td>1996</td><td>&quot;female&quot;</td><td>&quot;SparkzIT LLC&quot;</td><td>861792506</td><td>&quot;200 E Campus View Blvd Ste 200&quot;</td><td>&quot;Columbus&quot;</td><td>&quot;OH&quot;</td><td>&quot;43235-4678&quot;</td><td>&quot;Atirath&quot;</td><td>&quot;Eleti&quot;</td><td>2023</td><td>&quot;ELIGIBLE&quot;</td><td>1</td><td>null</td><td>null</td><td>null</td><td>null</td><td>null</td><td>null</td><td>null</td><td>null</td><td>null</td><td>null</td><td>null</td><td>null</td><td>null</td><td>null</td><td>null</td><td>null</td><td>null</td><td>null</td><td>null</td><td>null</td><td>null</td><td>null</td><td>null</td><td>null</td><td>null</td><td>null</td><td>null</td><td>null</td><td>null</td><td>null</td><td>null</td><td>null</td><td>null</td><td>null</td><td>null</td><td>null</td><td>null</td><td>null</td><td>null</td><td>2023</td></tr><tr><td>&quot;(b)(6)&quot;</td><td>&quot;CHN&quot;</td><td>&quot;CHN&quot;</td><td>&quot;(b)(6)&quot;</td><td>1991</td><td>&quot;female&quot;</td><td>&quot;NVIDIA Corporation&quot;</td><td>943177549</td><td>&quot;2788 San Tomas Expressway&quot;</td><td>&quot;Santa Clara&quot;</td><td>&quot;CA&quot;</td><td>&quot;95051&quot;</td><td>&quot;Zinab&quot;</td><td>&quot;Sarwary&quot;</td><td>2023</td><td>&quot;ELIGIBLE&quot;</td><td>0</td><td>null</td><td>null</td><td>null</td><td>null</td><td>null</td><td>null</td><td>null</td><td>null</td><td>null</td><td>null</td><td>null</td><td>null</td><td>null</td><td>null</td><td>null</td><td>null</td><td>null</td><td>null</td><td>null</td><td>null</td><td>null</td><td>null</td><td>null</td><td>null</td><td>null</td><td>null</td><td>null</td><td>null</td><td>null</td><td>null</td><td>null</td><td>null</td><td>null</td><td>null</td><td>null</td><td>null</td><td>null</td><td>null</td><td>null</td><td>2023</td></tr><tr><td>&quot;(b)(6)&quot;</td><td>&quot;IND&quot;</td><td>&quot;IND&quot;</td><td>&quot;(b)(6)&quot;</td><td>1987</td><td>&quot;male&quot;</td><td>&quot;Cognizant Technology Solutions…</td><td>133924155</td><td>&quot;211 Quality Circle&quot;</td><td>&quot;College Station&quot;</td><td>&quot;TX&quot;</td><td>&quot;77845&quot;</td><td>&quot;Tori&quot;</td><td>&quot;Huet&quot;</td><td>2023</td><td>&quot;ELIGIBLE&quot;</td><td>0</td><td>null</td><td>null</td><td>null</td><td>null</td><td>null</td><td>null</td><td>null</td><td>null</td><td>null</td><td>null</td><td>null</td><td>null</td><td>null</td><td>null</td><td>null</td><td>null</td><td>null</td><td>null</td><td>null</td><td>null</td><td>null</td><td>null</td><td>null</td><td>null</td><td>null</td><td>null</td><td>null</td><td>null</td><td>null</td><td>null</td><td>null</td><td>null</td><td>null</td><td>null</td><td>null</td><td>null</td><td>null</td><td>null</td><td>null</td><td>2023</td></tr><tr><td>&quot;(b)(6)&quot;</td><td>&quot;IND&quot;</td><td>&quot;IND&quot;</td><td>&quot;(b)(6)&quot;</td><td>1988</td><td>&quot;male&quot;</td><td>&quot;Apex Technology Group Inc.&quot;</td><td>223840670</td><td>&quot;499 Plainfield Ave&quot;</td><td>&quot;Edison&quot;</td><td>&quot;NJ&quot;</td><td>&quot;08817-2595&quot;</td><td>&quot;Sarvesh&quot;</td><td>&quot;Dharayan&quot;</td><td>2023</td><td>&quot;SELECTED&quot;</td><td>1</td><td>null</td><td>null</td><td>null</td><td>null</td><td>null</td><td>null</td><td>null</td><td>null</td><td>null</td><td>null</td><td>null</td><td>null</td><td>null</td><td>null</td><td>null</td><td>null</td><td>null</td><td>null</td><td>null</td><td>null</td><td>null</td><td>null</td><td>null</td><td>null</td><td>null</td><td>null</td><td>null</td><td>null</td><td>null</td><td>null</td><td>null</td><td>null</td><td>null</td><td>null</td><td>null</td><td>null</td><td>null</td><td>null</td><td>null</td><td>2023</td></tr></tbody></table></div>"
      ],
      "text/plain": [
       "shape: (474_421, 57)\n",
       "┌────────┬──────────────┬──────────────┬─────────────┬───┬──────┬──────┬─────────────┬─────────────┐\n",
       "│ bcn    ┆ country_of_b ┆ country_of_n ┆ ben_date_of ┆ … ┆ s3q1 ┆ s4q1 ┆ t_u_vawa_fl ┆ fiscal_year │\n",
       "│ ---    ┆ irth         ┆ ationality   ┆ _birth      ┆   ┆ ---  ┆ ---  ┆ ag          ┆ ---         │\n",
       "│ str    ┆ ---          ┆ ---          ┆ ---         ┆   ┆ str  ┆ str  ┆ ---         ┆ i32         │\n",
       "│        ┆ str          ┆ str          ┆ str         ┆   ┆      ┆      ┆ str         ┆             │\n",
       "╞════════╪══════════════╪══════════════╪═════════════╪═══╪══════╪══════╪═════════════╪═════════════╡\n",
       "│ (b)(6) ┆ IND          ┆ IND          ┆ (b)(6)      ┆ … ┆ null ┆ null ┆ null        ┆ 2023        │\n",
       "│ (b)(6) ┆ IND          ┆ IND          ┆ (b)(6)      ┆ … ┆ null ┆ null ┆ null        ┆ 2023        │\n",
       "│ (b)(6) ┆ IND          ┆ IND          ┆ (b)(6)      ┆ … ┆ null ┆ null ┆ null        ┆ 2023        │\n",
       "│ (b)(6) ┆ IND          ┆ IND          ┆ (b)(6)      ┆ … ┆ null ┆ null ┆ null        ┆ 2023        │\n",
       "│ (b)(6) ┆ IND          ┆ IND          ┆ (b)(6)      ┆ … ┆ null ┆ null ┆ null        ┆ 2023        │\n",
       "│ …      ┆ …            ┆ …            ┆ …           ┆ … ┆ …    ┆ …    ┆ …           ┆ …           │\n",
       "│ (b)(6) ┆ IND          ┆ IND          ┆ (b)(6)      ┆ … ┆ null ┆ null ┆ null        ┆ 2023        │\n",
       "│ (b)(6) ┆ IND          ┆ IND          ┆ (b)(6)      ┆ … ┆ null ┆ null ┆ null        ┆ 2023        │\n",
       "│ (b)(6) ┆ CHN          ┆ CHN          ┆ (b)(6)      ┆ … ┆ null ┆ null ┆ null        ┆ 2023        │\n",
       "│ (b)(6) ┆ IND          ┆ IND          ┆ (b)(6)      ┆ … ┆ null ┆ null ┆ null        ┆ 2023        │\n",
       "│ (b)(6) ┆ IND          ┆ IND          ┆ (b)(6)      ┆ … ┆ null ┆ null ┆ null        ┆ 2023        │\n",
       "└────────┴──────────────┴──────────────┴─────────────┴───┴──────┴──────┴─────────────┴─────────────┘"
      ]
     },
     "execution_count": 1081,
     "metadata": {},
     "output_type": "execute_result"
    }
   ],
   "source": [
    "df_2023 = (df_2023\n",
    "    .with_columns([\n",
    "        pl.col(\"wage_amt\").cast(pl.String).alias(\"wage_amt\"),\n",
    "        pl.col(\"ben_comp_paid\").cast(pl.String).alias(\"ben_comp_paid\"),\n",
    "        pl.lit(2023).alias('fiscal_year')\n",
    "    ])\n",
    "    .select([pl.col(\"*\").name.map(lambda x: x.lower())])\n",
    ")\n",
    "df_2023"
   ]
  },
  {
   "cell_type": "code",
   "execution_count": null,
   "metadata": {},
   "outputs": [],
   "source": []
  },
  {
   "cell_type": "code",
   "execution_count": 1082,
   "metadata": {},
   "outputs": [
    {
     "data": {
      "text/html": [
       "<div><style>\n",
       ".dataframe > thead > tr,\n",
       ".dataframe > tbody > tr {\n",
       "  text-align: right;\n",
       "  white-space: pre-wrap;\n",
       "}\n",
       "</style>\n",
       "<small>shape: (1_045_292, 57)</small><table border=\"1\" class=\"dataframe\"><thead><tr><th>bcn</th><th>country_of_birth</th><th>country_of_nationality</th><th>ben_date_of_birth</th><th>ben_year_of_birth</th><th>gender</th><th>employer_name</th><th>fein</th><th>mail_addr</th><th>city</th><th>state</th><th>zip</th><th>agent_first_name</th><th>agent_last_name</th><th>lottery_year</th><th>status_type</th><th>ben_multi_reg_ind</th><th>receipt_number</th><th>rec_date</th><th>first_decision</th><th>first_decision_date</th><th>i129_employer_name</th><th>pet_street</th><th>pet_city</th><th>pet_state</th><th>pet_zip</th><th>requested_class</th><th>basis_for_classification</th><th>requested_action</th><th>number_of_beneficiaries</th><th>ben_sex</th><th>ben_country_of_birth</th><th>ben_current_class</th><th>job_title</th><th>dol_eta_case_number</th><th>worksite_street</th><th>worksite_city</th><th>worksite_state</th><th>worksite_zip</th><th>full_time_ind</th><th>wage_amt</th><th>wage_unit</th><th>valid_from</th><th>valid_to</th><th>num_of_emp_in_us</th><th>s1q1a</th><th>s1q1b</th><th>ben_education_code</th><th>ed_level_definition</th><th>ben_pfield_of_study</th><th>ben_comp_paid</th><th>dot_code</th><th>naics_code</th><th>s3q1</th><th>s4q1</th><th>t_u_vawa_flag</th><th>fiscal_year</th></tr><tr><td>str</td><td>str</td><td>str</td><td>str</td><td>i64</td><td>str</td><td>str</td><td>i64</td><td>str</td><td>str</td><td>str</td><td>str</td><td>str</td><td>str</td><td>i64</td><td>str</td><td>i64</td><td>str</td><td>str</td><td>str</td><td>str</td><td>str</td><td>str</td><td>str</td><td>str</td><td>i64</td><td>str</td><td>str</td><td>str</td><td>i64</td><td>str</td><td>str</td><td>str</td><td>str</td><td>str</td><td>str</td><td>str</td><td>str</td><td>i64</td><td>str</td><td>str</td><td>str</td><td>str</td><td>str</td><td>i64</td><td>str</td><td>str</td><td>str</td><td>str</td><td>str</td><td>str</td><td>i64</td><td>i64</td><td>str</td><td>str</td><td>str</td><td>i32</td></tr></thead><tbody><tr><td>&quot;(b)(3) (b)(6) (b)(7)(c)&quot;</td><td>&quot;(b)(3) (b)(6) (b)(7)(c)&quot;</td><td>&quot;(b)(3) (b)(6) (b)(7)(c)&quot;</td><td>&quot;(b)(3) (b)(6) (b)(7)(c)&quot;</td><td>null</td><td>&quot;(b)(3) (b)(6) (b)(7)(c)&quot;</td><td>&quot;(b)(3) (b)(6) (b)(7)(c)&quot;</td><td>null</td><td>&quot;(b)(3) (b)(6) (b)(7)(c)&quot;</td><td>&quot;(b)(3) (b)(6) (b)(7)(c)&quot;</td><td>&quot;(b)(3) (b)(6) (b)(7)(c)&quot;</td><td>&quot;(b)(3) (b)(6) (b)(7)(c)&quot;</td><td>&quot;(b)(3) (b)(6) (b)(7)(c)&quot;</td><td>&quot;(b)(3) (b)(6) (b)(7)(c)&quot;</td><td>null</td><td>&quot;(b)(3) (b)(6) (b)(7)(c)&quot;</td><td>null</td><td>&quot;(b)(3) (b)(6) (b)(7)(c)&quot;</td><td>&quot;(b)(3) (b)(6) (b)(7)(c)&quot;</td><td>&quot;(b)(3) (b)(6) (b)(7)(c)&quot;</td><td>&quot;(b)(3) (b)(6) (b)(7)(c)&quot;</td><td>&quot;(b)(3) (b)(6) (b)(7)(c)&quot;</td><td>&quot;(b)(3) (b)(6) (b)(7)(c)&quot;</td><td>&quot;(b)(3) (b)(6) (b)(7)(c)&quot;</td><td>&quot;(b)(3) (b)(6) (b)(7)(c)&quot;</td><td>null</td><td>&quot;(b)(3) (b)(6) (b)(7)(c)&quot;</td><td>&quot;(b)(3) (b)(6) (b)(7)(c)&quot;</td><td>&quot;(b)(3) (b)(6) (b)(7)(c)&quot;</td><td>null</td><td>&quot;(b)(3) (b)(6) (b)(7)(c)&quot;</td><td>&quot;(b)(3) (b)(6) (b)(7)(c)&quot;</td><td>&quot;(b)(3) (b)(6) (b)(7)(c)&quot;</td><td>&quot;(b)(3) (b)(6) (b)(7)(c)&quot;</td><td>&quot;(b)(3) (b)(6) (b)(7)(c)&quot;</td><td>&quot;(b)(3) (b)(6) (b)(7)(c)&quot;</td><td>&quot;(b)(3) (b)(6) (b)(7)(c)&quot;</td><td>&quot;(b)(3) (b)(6) (b)(7)(c)&quot;</td><td>null</td><td>&quot;(b)(3) (b)(6) (b)(7)(c)&quot;</td><td>null</td><td>&quot;(b)(3) (b)(6) (b)(7)(c)&quot;</td><td>&quot;(b)(3) (b)(6) (b)(7)(c)&quot;</td><td>&quot;(b)(3) (b)(6) (b)(7)(c)&quot;</td><td>null</td><td>&quot;(b)(3) (b)(6) (b)(7)(c)&quot;</td><td>&quot;(b)(3) (b)(6) (b)(7)(c)&quot;</td><td>&quot;(b)(3) (b)(6) (b)(7)(c)&quot;</td><td>&quot;(b)(3) (b)(6) (b)(7)(c)&quot;</td><td>&quot;(b)(3) (b)(6) (b)(7)(c)&quot;</td><td>null</td><td>null</td><td>null</td><td>&quot;(b)(3) (b)(6) (b)(7)(c)&quot;</td><td>&quot;(b)(3) (b)(6) (b)(7)(c)&quot;</td><td>&quot;(b)(3) (b)(6) (b)(7)(c)&quot;</td><td>2023</td></tr><tr><td>&quot;(b)(3) (b)(6) (b)(7)(c)&quot;</td><td>&quot;(b)(3) (b)(6) (b)(7)(c)&quot;</td><td>&quot;(b)(3) (b)(6) (b)(7)(c)&quot;</td><td>&quot;(b)(3) (b)(6) (b)(7)(c)&quot;</td><td>null</td><td>&quot;(b)(3) (b)(6) (b)(7)(c)&quot;</td><td>&quot;(b)(3) (b)(6) (b)(7)(c)&quot;</td><td>null</td><td>&quot;(b)(3) (b)(6) (b)(7)(c)&quot;</td><td>&quot;(b)(3) (b)(6) (b)(7)(c)&quot;</td><td>&quot;(b)(3) (b)(6) (b)(7)(c)&quot;</td><td>&quot;(b)(3) (b)(6) (b)(7)(c)&quot;</td><td>&quot;(b)(3) (b)(6) (b)(7)(c)&quot;</td><td>&quot;(b)(3) (b)(6) (b)(7)(c)&quot;</td><td>null</td><td>&quot;(b)(3) (b)(6) (b)(7)(c)&quot;</td><td>null</td><td>&quot;(b)(3) (b)(6) (b)(7)(c)&quot;</td><td>&quot;(b)(3) (b)(6) (b)(7)(c)&quot;</td><td>&quot;(b)(3) (b)(6) (b)(7)(c)&quot;</td><td>&quot;(b)(3) (b)(6) (b)(7)(c)&quot;</td><td>&quot;(b)(3) (b)(6) (b)(7)(c)&quot;</td><td>&quot;(b)(3) (b)(6) (b)(7)(c)&quot;</td><td>&quot;(b)(3) (b)(6) (b)(7)(c)&quot;</td><td>&quot;(b)(3) (b)(6) (b)(7)(c)&quot;</td><td>null</td><td>&quot;(b)(3) (b)(6) (b)(7)(c)&quot;</td><td>&quot;(b)(3) (b)(6) (b)(7)(c)&quot;</td><td>&quot;(b)(3) (b)(6) (b)(7)(c)&quot;</td><td>null</td><td>&quot;(b)(3) (b)(6) (b)(7)(c)&quot;</td><td>&quot;(b)(3) (b)(6) (b)(7)(c)&quot;</td><td>&quot;(b)(3) (b)(6) (b)(7)(c)&quot;</td><td>&quot;(b)(3) (b)(6) (b)(7)(c)&quot;</td><td>&quot;(b)(3) (b)(6) (b)(7)(c)&quot;</td><td>&quot;(b)(3) (b)(6) (b)(7)(c)&quot;</td><td>&quot;(b)(3) (b)(6) (b)(7)(c)&quot;</td><td>&quot;(b)(3) (b)(6) (b)(7)(c)&quot;</td><td>null</td><td>&quot;(b)(3) (b)(6) (b)(7)(c)&quot;</td><td>null</td><td>&quot;(b)(3) (b)(6) (b)(7)(c)&quot;</td><td>&quot;(b)(3) (b)(6) (b)(7)(c)&quot;</td><td>&quot;(b)(3) (b)(6) (b)(7)(c)&quot;</td><td>null</td><td>&quot;(b)(3) (b)(6) (b)(7)(c)&quot;</td><td>&quot;(b)(3) (b)(6) (b)(7)(c)&quot;</td><td>&quot;(b)(3) (b)(6) (b)(7)(c)&quot;</td><td>&quot;(b)(3) (b)(6) (b)(7)(c)&quot;</td><td>&quot;(b)(3) (b)(6) (b)(7)(c)&quot;</td><td>null</td><td>null</td><td>null</td><td>&quot;(b)(3) (b)(6) (b)(7)(c)&quot;</td><td>&quot;(b)(3) (b)(6) (b)(7)(c)&quot;</td><td>&quot;(b)(3) (b)(6) (b)(7)(c)&quot;</td><td>2023</td></tr><tr><td>&quot;(b)(3) (b)(6) (b)(7)(c)&quot;</td><td>&quot;(b)(3) (b)(6) (b)(7)(c)&quot;</td><td>&quot;(b)(3) (b)(6) (b)(7)(c)&quot;</td><td>&quot;(b)(3) (b)(6) (b)(7)(c)&quot;</td><td>null</td><td>&quot;(b)(3) (b)(6) (b)(7)(c)&quot;</td><td>&quot;(b)(3) (b)(6) (b)(7)(c)&quot;</td><td>null</td><td>&quot;(b)(3) (b)(6) (b)(7)(c)&quot;</td><td>&quot;(b)(3) (b)(6) (b)(7)(c)&quot;</td><td>&quot;(b)(3) (b)(6) (b)(7)(c)&quot;</td><td>&quot;(b)(3) (b)(6) (b)(7)(c)&quot;</td><td>&quot;(b)(3) (b)(6) (b)(7)(c)&quot;</td><td>&quot;(b)(3) (b)(6) (b)(7)(c)&quot;</td><td>null</td><td>&quot;(b)(3) (b)(6) (b)(7)(c)&quot;</td><td>null</td><td>&quot;(b)(3) (b)(6) (b)(7)(c)&quot;</td><td>&quot;(b)(3) (b)(6) (b)(7)(c)&quot;</td><td>&quot;(b)(3) (b)(6) (b)(7)(c)&quot;</td><td>&quot;(b)(3) (b)(6) (b)(7)(c)&quot;</td><td>&quot;(b)(3) (b)(6) (b)(7)(c)&quot;</td><td>&quot;(b)(3) (b)(6) (b)(7)(c)&quot;</td><td>&quot;(b)(3) (b)(6) (b)(7)(c)&quot;</td><td>&quot;(b)(3) (b)(6) (b)(7)(c)&quot;</td><td>null</td><td>&quot;(b)(3) (b)(6) (b)(7)(c)&quot;</td><td>&quot;(b)(3) (b)(6) (b)(7)(c)&quot;</td><td>&quot;(b)(3) (b)(6) (b)(7)(c)&quot;</td><td>null</td><td>&quot;(b)(3) (b)(6) (b)(7)(c)&quot;</td><td>&quot;(b)(3) (b)(6) (b)(7)(c)&quot;</td><td>&quot;(b)(3) (b)(6) (b)(7)(c)&quot;</td><td>&quot;(b)(3) (b)(6) (b)(7)(c)&quot;</td><td>&quot;(b)(3) (b)(6) (b)(7)(c)&quot;</td><td>&quot;(b)(3) (b)(6) (b)(7)(c)&quot;</td><td>&quot;(b)(3) (b)(6) (b)(7)(c)&quot;</td><td>&quot;(b)(3) (b)(6) (b)(7)(c)&quot;</td><td>null</td><td>&quot;(b)(3) (b)(6) (b)(7)(c)&quot;</td><td>null</td><td>&quot;(b)(3) (b)(6) (b)(7)(c)&quot;</td><td>&quot;(b)(3) (b)(6) (b)(7)(c)&quot;</td><td>&quot;(b)(3) (b)(6) (b)(7)(c)&quot;</td><td>null</td><td>&quot;(b)(3) (b)(6) (b)(7)(c)&quot;</td><td>&quot;(b)(3) (b)(6) (b)(7)(c)&quot;</td><td>&quot;(b)(3) (b)(6) (b)(7)(c)&quot;</td><td>&quot;(b)(3) (b)(6) (b)(7)(c)&quot;</td><td>&quot;(b)(3) (b)(6) (b)(7)(c)&quot;</td><td>null</td><td>null</td><td>null</td><td>&quot;(b)(3) (b)(6) (b)(7)(c)&quot;</td><td>&quot;(b)(3) (b)(6) (b)(7)(c)&quot;</td><td>&quot;(b)(3) (b)(6) (b)(7)(c)&quot;</td><td>2023</td></tr><tr><td>&quot;(b)(3) (b)(6) (b)(7)(c)&quot;</td><td>&quot;(b)(3) (b)(6) (b)(7)(c)&quot;</td><td>&quot;(b)(3) (b)(6) (b)(7)(c)&quot;</td><td>&quot;(b)(3) (b)(6) (b)(7)(c)&quot;</td><td>null</td><td>&quot;(b)(3) (b)(6) (b)(7)(c)&quot;</td><td>&quot;(b)(3) (b)(6) (b)(7)(c)&quot;</td><td>null</td><td>&quot;(b)(3) (b)(6) (b)(7)(c)&quot;</td><td>&quot;(b)(3) (b)(6) (b)(7)(c)&quot;</td><td>&quot;(b)(3) (b)(6) (b)(7)(c)&quot;</td><td>&quot;(b)(3) (b)(6) (b)(7)(c)&quot;</td><td>&quot;(b)(3) (b)(6) (b)(7)(c)&quot;</td><td>&quot;(b)(3) (b)(6) (b)(7)(c)&quot;</td><td>null</td><td>&quot;(b)(3) (b)(6) (b)(7)(c)&quot;</td><td>null</td><td>&quot;(b)(3) (b)(6) (b)(7)(c)&quot;</td><td>&quot;(b)(3) (b)(6) (b)(7)(c)&quot;</td><td>&quot;(b)(3) (b)(6) (b)(7)(c)&quot;</td><td>&quot;(b)(3) (b)(6) (b)(7)(c)&quot;</td><td>&quot;(b)(3) (b)(6) (b)(7)(c)&quot;</td><td>&quot;(b)(3) (b)(6) (b)(7)(c)&quot;</td><td>&quot;(b)(3) (b)(6) (b)(7)(c)&quot;</td><td>&quot;(b)(3) (b)(6) (b)(7)(c)&quot;</td><td>null</td><td>&quot;(b)(3) (b)(6) (b)(7)(c)&quot;</td><td>&quot;(b)(3) (b)(6) (b)(7)(c)&quot;</td><td>&quot;(b)(3) (b)(6) (b)(7)(c)&quot;</td><td>null</td><td>&quot;(b)(3) (b)(6) (b)(7)(c)&quot;</td><td>&quot;(b)(3) (b)(6) (b)(7)(c)&quot;</td><td>&quot;(b)(3) (b)(6) (b)(7)(c)&quot;</td><td>&quot;(b)(3) (b)(6) (b)(7)(c)&quot;</td><td>&quot;(b)(3) (b)(6) (b)(7)(c)&quot;</td><td>&quot;(b)(3) (b)(6) (b)(7)(c)&quot;</td><td>&quot;(b)(3) (b)(6) (b)(7)(c)&quot;</td><td>&quot;(b)(3) (b)(6) (b)(7)(c)&quot;</td><td>null</td><td>&quot;(b)(3) (b)(6) (b)(7)(c)&quot;</td><td>null</td><td>&quot;(b)(3) (b)(6) (b)(7)(c)&quot;</td><td>&quot;(b)(3) (b)(6) (b)(7)(c)&quot;</td><td>&quot;(b)(3) (b)(6) (b)(7)(c)&quot;</td><td>null</td><td>&quot;(b)(3) (b)(6) (b)(7)(c)&quot;</td><td>&quot;(b)(3) (b)(6) (b)(7)(c)&quot;</td><td>&quot;(b)(3) (b)(6) (b)(7)(c)&quot;</td><td>&quot;(b)(3) (b)(6) (b)(7)(c)&quot;</td><td>&quot;(b)(3) (b)(6) (b)(7)(c)&quot;</td><td>null</td><td>null</td><td>null</td><td>&quot;(b)(3) (b)(6) (b)(7)(c)&quot;</td><td>&quot;(b)(3) (b)(6) (b)(7)(c)&quot;</td><td>&quot;(b)(3) (b)(6) (b)(7)(c)&quot;</td><td>2023</td></tr><tr><td>&quot;(b)(3) (b)(6) (b)(7)(c)&quot;</td><td>&quot;(b)(3) (b)(6) (b)(7)(c)&quot;</td><td>&quot;(b)(3) (b)(6) (b)(7)(c)&quot;</td><td>&quot;(b)(3) (b)(6) (b)(7)(c)&quot;</td><td>null</td><td>&quot;(b)(3) (b)(6) (b)(7)(c)&quot;</td><td>&quot;(b)(3) (b)(6) (b)(7)(c)&quot;</td><td>null</td><td>&quot;(b)(3) (b)(6) (b)(7)(c)&quot;</td><td>&quot;(b)(3) (b)(6) (b)(7)(c)&quot;</td><td>&quot;(b)(3) (b)(6) (b)(7)(c)&quot;</td><td>&quot;(b)(3) (b)(6) (b)(7)(c)&quot;</td><td>&quot;(b)(3) (b)(6) (b)(7)(c)&quot;</td><td>&quot;(b)(3) (b)(6) (b)(7)(c)&quot;</td><td>null</td><td>&quot;(b)(3) (b)(6) (b)(7)(c)&quot;</td><td>null</td><td>&quot;(b)(3) (b)(6) (b)(7)(c)&quot;</td><td>&quot;(b)(3) (b)(6) (b)(7)(c)&quot;</td><td>&quot;(b)(3) (b)(6) (b)(7)(c)&quot;</td><td>&quot;(b)(3) (b)(6) (b)(7)(c)&quot;</td><td>&quot;(b)(3) (b)(6) (b)(7)(c)&quot;</td><td>&quot;(b)(3) (b)(6) (b)(7)(c)&quot;</td><td>&quot;(b)(3) (b)(6) (b)(7)(c)&quot;</td><td>&quot;(b)(3) (b)(6) (b)(7)(c)&quot;</td><td>null</td><td>&quot;(b)(3) (b)(6) (b)(7)(c)&quot;</td><td>&quot;(b)(3) (b)(6) (b)(7)(c)&quot;</td><td>&quot;(b)(3) (b)(6) (b)(7)(c)&quot;</td><td>null</td><td>&quot;(b)(3) (b)(6) (b)(7)(c)&quot;</td><td>&quot;(b)(3) (b)(6) (b)(7)(c)&quot;</td><td>&quot;(b)(3) (b)(6) (b)(7)(c)&quot;</td><td>&quot;(b)(3) (b)(6) (b)(7)(c)&quot;</td><td>&quot;(b)(3) (b)(6) (b)(7)(c)&quot;</td><td>&quot;(b)(3) (b)(6) (b)(7)(c)&quot;</td><td>&quot;(b)(3) (b)(6) (b)(7)(c)&quot;</td><td>&quot;(b)(3) (b)(6) (b)(7)(c)&quot;</td><td>null</td><td>&quot;(b)(3) (b)(6) (b)(7)(c)&quot;</td><td>null</td><td>&quot;(b)(3) (b)(6) (b)(7)(c)&quot;</td><td>&quot;(b)(3) (b)(6) (b)(7)(c)&quot;</td><td>&quot;(b)(3) (b)(6) (b)(7)(c)&quot;</td><td>null</td><td>&quot;(b)(3) (b)(6) (b)(7)(c)&quot;</td><td>&quot;(b)(3) (b)(6) (b)(7)(c)&quot;</td><td>&quot;(b)(3) (b)(6) (b)(7)(c)&quot;</td><td>&quot;(b)(3) (b)(6) (b)(7)(c)&quot;</td><td>&quot;(b)(3) (b)(6) (b)(7)(c)&quot;</td><td>null</td><td>null</td><td>null</td><td>&quot;(b)(3) (b)(6) (b)(7)(c)&quot;</td><td>&quot;(b)(3) (b)(6) (b)(7)(c)&quot;</td><td>&quot;(b)(3) (b)(6) (b)(7)(c)&quot;</td><td>2023</td></tr><tr><td>&hellip;</td><td>&hellip;</td><td>&hellip;</td><td>&hellip;</td><td>&hellip;</td><td>&hellip;</td><td>&hellip;</td><td>&hellip;</td><td>&hellip;</td><td>&hellip;</td><td>&hellip;</td><td>&hellip;</td><td>&hellip;</td><td>&hellip;</td><td>&hellip;</td><td>&hellip;</td><td>&hellip;</td><td>&hellip;</td><td>&hellip;</td><td>&hellip;</td><td>&hellip;</td><td>&hellip;</td><td>&hellip;</td><td>&hellip;</td><td>&hellip;</td><td>&hellip;</td><td>&hellip;</td><td>&hellip;</td><td>&hellip;</td><td>&hellip;</td><td>&hellip;</td><td>&hellip;</td><td>&hellip;</td><td>&hellip;</td><td>&hellip;</td><td>&hellip;</td><td>&hellip;</td><td>&hellip;</td><td>&hellip;</td><td>&hellip;</td><td>&hellip;</td><td>&hellip;</td><td>&hellip;</td><td>&hellip;</td><td>&hellip;</td><td>&hellip;</td><td>&hellip;</td><td>&hellip;</td><td>&hellip;</td><td>&hellip;</td><td>&hellip;</td><td>&hellip;</td><td>&hellip;</td><td>&hellip;</td><td>&hellip;</td><td>&hellip;</td><td>&hellip;</td></tr><tr><td>&quot;(b)(6)&quot;</td><td>&quot;ZZK&quot;</td><td>&quot;KOR&quot;</td><td>&quot;(b)(6)&quot;</td><td>1999</td><td>&quot;male&quot;</td><td>&quot;Antra Inc.&quot;</td><td>261765515</td><td>&quot;21355 Ridgetop Cir&quot;</td><td>&quot;Dulles&quot;</td><td>&quot;VA&quot;</td><td>&quot;20166-8500&quot;</td><td>&quot;Renee&quot;</td><td>&quot;Gustafson&quot;</td><td>2023</td><td>&quot;ELIGIBLE&quot;</td><td>0</td><td>null</td><td>null</td><td>null</td><td>null</td><td>null</td><td>null</td><td>null</td><td>null</td><td>null</td><td>null</td><td>null</td><td>null</td><td>null</td><td>null</td><td>null</td><td>null</td><td>null</td><td>null</td><td>null</td><td>null</td><td>null</td><td>null</td><td>null</td><td>null</td><td>null</td><td>null</td><td>null</td><td>null</td><td>null</td><td>null</td><td>null</td><td>null</td><td>null</td><td>null</td><td>null</td><td>null</td><td>null</td><td>null</td><td>null</td><td>2023</td></tr><tr><td>&quot;(b)(6)&quot;</td><td>&quot;ZZK&quot;</td><td>&quot;KOR&quot;</td><td>&quot;(b)(6)&quot;</td><td>1999</td><td>&quot;male&quot;</td><td>&quot;Box, Inc.&quot;</td><td>202714444</td><td>&quot;900 Jefferson Ave.&quot;</td><td>&quot;Redwood City&quot;</td><td>&quot;CA&quot;</td><td>&quot;94063&quot;</td><td>&quot;Natalie&quot;</td><td>&quot;Saul&quot;</td><td>2023</td><td>&quot;ELIGIBLE&quot;</td><td>0</td><td>null</td><td>null</td><td>null</td><td>null</td><td>null</td><td>null</td><td>null</td><td>null</td><td>null</td><td>null</td><td>null</td><td>null</td><td>null</td><td>null</td><td>null</td><td>null</td><td>null</td><td>null</td><td>null</td><td>null</td><td>null</td><td>null</td><td>null</td><td>null</td><td>null</td><td>null</td><td>null</td><td>null</td><td>null</td><td>null</td><td>null</td><td>null</td><td>null</td><td>null</td><td>null</td><td>null</td><td>null</td><td>null</td><td>null</td><td>2023</td></tr><tr><td>&quot;(b)(6)&quot;</td><td>&quot;ZZK&quot;</td><td>&quot;PRK&quot;</td><td>&quot;(b)(6)&quot;</td><td>1986</td><td>&quot;female&quot;</td><td>&quot;ATKINS NORTH AMERICA INC&quot;</td><td>590896138</td><td>&quot;4030 W Boy Scout Blvd&quot;</td><td>&quot;Tampa&quot;</td><td>&quot;FL&quot;</td><td>&quot;33607-5713&quot;</td><td>&quot;FATNA&quot;</td><td>&quot;TABECH&quot;</td><td>2021</td><td>&quot;SELECTED&quot;</td><td>0</td><td>&quot;(b)(6)&quot;</td><td>&quot;9/29/2020&quot;</td><td>&quot;Approved&quot;</td><td>&quot;11/24/2020&quot;</td><td>&quot;ATKINS NORTH AMERICA INC&quot;</td><td>&quot;4030 W BOY SCOUT BLVD STE 700&quot;</td><td>&quot;TAMPA&quot;</td><td>&quot;FL&quot;</td><td>33607</td><td>&quot;1B1&quot;</td><td>&quot;A&quot;</td><td>&quot;B&quot;</td><td>1</td><td>&quot;F&quot;</td><td>&quot;KOREA&quot;</td><td>&quot;F1&quot;</td><td>&quot;WATER RESOURCE ENGINEER II&quot;</td><td>&quot;(b)(6)&quot;</td><td>&quot;16430 N SCOTTDALE RD STE 250&quot;</td><td>&quot;SCOTTSDALE&quot;</td><td>&quot;AZ&quot;</td><td>85254</td><td>null</td><td>null</td><td>null</td><td>&quot;11/24/2020&quot;</td><td>&quot;9/30/2023&quot;</td><td>0</td><td>&quot;N&quot;</td><td>null</td><td>&quot;I&quot;</td><td>&quot;DOCTORATE DEGREE&quot;</td><td>&quot;CIVIL ENVIRONMENTAL AND SUSTAI&quot;</td><td>&quot;69972.0&quot;</td><td>5</td><td>541330</td><td>&quot;B&quot;</td><td>&quot;N&quot;</td><td>null</td><td>2021</td></tr><tr><td>&quot;(b)(6)&quot;</td><td>&quot;ZZK&quot;</td><td>&quot;PRK&quot;</td><td>&quot;(b)(6)&quot;</td><td>1992</td><td>&quot;male&quot;</td><td>&quot;Liberty Distribution, LLC&quot;</td><td>823735977</td><td>&quot;4370 Varsity Dr&quot;</td><td>&quot;Ann Arbor&quot;</td><td>&quot;MI&quot;</td><td>&quot;48108-2359&quot;</td><td>&quot;Dan&quot;</td><td>&quot;Hannay&quot;</td><td>2022</td><td>&quot;SELECTED&quot;</td><td>0</td><td>null</td><td>null</td><td>null</td><td>null</td><td>null</td><td>null</td><td>null</td><td>null</td><td>null</td><td>null</td><td>null</td><td>null</td><td>null</td><td>null</td><td>null</td><td>null</td><td>null</td><td>null</td><td>null</td><td>null</td><td>null</td><td>null</td><td>null</td><td>null</td><td>null</td><td>null</td><td>null</td><td>null</td><td>null</td><td>null</td><td>null</td><td>null</td><td>null</td><td>null</td><td>null</td><td>null</td><td>null</td><td>null</td><td>null</td><td>2022</td></tr><tr><td>&quot;(b)(6)&quot;</td><td>&quot;ZZK&quot;</td><td>&quot;PRK&quot;</td><td>&quot;(b)(6)&quot;</td><td>1994</td><td>&quot;female&quot;</td><td>&quot;HCL America Solutions Inc&quot;</td><td>455639284</td><td>&quot;330 Potrero Avenue&quot;</td><td>&quot;Sunnyvale&quot;</td><td>&quot;CA&quot;</td><td>&quot;94085&quot;</td><td>&quot;Priti&quot;</td><td>&quot;Gokhale&quot;</td><td>2022</td><td>&quot;ELIGIBLE&quot;</td><td>0</td><td>null</td><td>null</td><td>null</td><td>null</td><td>null</td><td>null</td><td>null</td><td>null</td><td>null</td><td>null</td><td>null</td><td>null</td><td>null</td><td>null</td><td>null</td><td>null</td><td>null</td><td>null</td><td>null</td><td>null</td><td>null</td><td>null</td><td>null</td><td>null</td><td>null</td><td>null</td><td>null</td><td>null</td><td>null</td><td>null</td><td>null</td><td>null</td><td>null</td><td>null</td><td>null</td><td>null</td><td>null</td><td>null</td><td>null</td><td>2022</td></tr></tbody></table></div>"
      ],
      "text/plain": [
       "shape: (1_045_292, 57)\n",
       "┌───────────┬───────────┬───────────┬───────────┬───┬───────────┬───────────┬───────────┬──────────┐\n",
       "│ bcn       ┆ country_o ┆ country_o ┆ ben_date_ ┆ … ┆ s3q1      ┆ s4q1      ┆ t_u_vawa_ ┆ fiscal_y │\n",
       "│ ---       ┆ f_birth   ┆ f_nationa ┆ of_birth  ┆   ┆ ---       ┆ ---       ┆ flag      ┆ ear      │\n",
       "│ str       ┆ ---       ┆ lity      ┆ ---       ┆   ┆ str       ┆ str       ┆ ---       ┆ ---      │\n",
       "│           ┆ str       ┆ ---       ┆ str       ┆   ┆           ┆           ┆ str       ┆ i32      │\n",
       "│           ┆           ┆ str       ┆           ┆   ┆           ┆           ┆           ┆          │\n",
       "╞═══════════╪═══════════╪═══════════╪═══════════╪═══╪═══════════╪═══════════╪═══════════╪══════════╡\n",
       "│ (b)(3)    ┆ (b)(3)    ┆ (b)(3)    ┆ (b)(3)    ┆ … ┆ (b)(3)    ┆ (b)(3)    ┆ (b)(3)    ┆ 2023     │\n",
       "│ (b)(6)    ┆ (b)(6)    ┆ (b)(6)    ┆ (b)(6)    ┆   ┆ (b)(6)    ┆ (b)(6)    ┆ (b)(6)    ┆          │\n",
       "│ (b)(7)(c) ┆ (b)(7)(c) ┆ (b)(7)(c) ┆ (b)(7)(c) ┆   ┆ (b)(7)(c) ┆ (b)(7)(c) ┆ (b)(7)(c) ┆          │\n",
       "│ (b)(3)    ┆ (b)(3)    ┆ (b)(3)    ┆ (b)(3)    ┆ … ┆ (b)(3)    ┆ (b)(3)    ┆ (b)(3)    ┆ 2023     │\n",
       "│ (b)(6)    ┆ (b)(6)    ┆ (b)(6)    ┆ (b)(6)    ┆   ┆ (b)(6)    ┆ (b)(6)    ┆ (b)(6)    ┆          │\n",
       "│ (b)(7)(c) ┆ (b)(7)(c) ┆ (b)(7)(c) ┆ (b)(7)(c) ┆   ┆ (b)(7)(c) ┆ (b)(7)(c) ┆ (b)(7)(c) ┆          │\n",
       "│ (b)(3)    ┆ (b)(3)    ┆ (b)(3)    ┆ (b)(3)    ┆ … ┆ (b)(3)    ┆ (b)(3)    ┆ (b)(3)    ┆ 2023     │\n",
       "│ (b)(6)    ┆ (b)(6)    ┆ (b)(6)    ┆ (b)(6)    ┆   ┆ (b)(6)    ┆ (b)(6)    ┆ (b)(6)    ┆          │\n",
       "│ (b)(7)(c) ┆ (b)(7)(c) ┆ (b)(7)(c) ┆ (b)(7)(c) ┆   ┆ (b)(7)(c) ┆ (b)(7)(c) ┆ (b)(7)(c) ┆          │\n",
       "│ (b)(3)    ┆ (b)(3)    ┆ (b)(3)    ┆ (b)(3)    ┆ … ┆ (b)(3)    ┆ (b)(3)    ┆ (b)(3)    ┆ 2023     │\n",
       "│ (b)(6)    ┆ (b)(6)    ┆ (b)(6)    ┆ (b)(6)    ┆   ┆ (b)(6)    ┆ (b)(6)    ┆ (b)(6)    ┆          │\n",
       "│ (b)(7)(c) ┆ (b)(7)(c) ┆ (b)(7)(c) ┆ (b)(7)(c) ┆   ┆ (b)(7)(c) ┆ (b)(7)(c) ┆ (b)(7)(c) ┆          │\n",
       "│ (b)(3)    ┆ (b)(3)    ┆ (b)(3)    ┆ (b)(3)    ┆ … ┆ (b)(3)    ┆ (b)(3)    ┆ (b)(3)    ┆ 2023     │\n",
       "│ (b)(6)    ┆ (b)(6)    ┆ (b)(6)    ┆ (b)(6)    ┆   ┆ (b)(6)    ┆ (b)(6)    ┆ (b)(6)    ┆          │\n",
       "│ (b)(7)(c) ┆ (b)(7)(c) ┆ (b)(7)(c) ┆ (b)(7)(c) ┆   ┆ (b)(7)(c) ┆ (b)(7)(c) ┆ (b)(7)(c) ┆          │\n",
       "│ …         ┆ …         ┆ …         ┆ …         ┆ … ┆ …         ┆ …         ┆ …         ┆ …        │\n",
       "│ (b)(6)    ┆ ZZK       ┆ KOR       ┆ (b)(6)    ┆ … ┆ null      ┆ null      ┆ null      ┆ 2023     │\n",
       "│ (b)(6)    ┆ ZZK       ┆ KOR       ┆ (b)(6)    ┆ … ┆ null      ┆ null      ┆ null      ┆ 2023     │\n",
       "│ (b)(6)    ┆ ZZK       ┆ PRK       ┆ (b)(6)    ┆ … ┆ B         ┆ N         ┆ null      ┆ 2021     │\n",
       "│ (b)(6)    ┆ ZZK       ┆ PRK       ┆ (b)(6)    ┆ … ┆ null      ┆ null      ┆ null      ┆ 2022     │\n",
       "│ (b)(6)    ┆ ZZK       ┆ PRK       ┆ (b)(6)    ┆ … ┆ null      ┆ null      ┆ null      ┆ 2022     │\n",
       "└───────────┴───────────┴───────────┴───────────┴───┴───────────┴───────────┴───────────┴──────────┘"
      ]
     },
     "execution_count": 1082,
     "metadata": {},
     "output_type": "execute_result"
    }
   ],
   "source": [
    "combined_df = (\n",
    "    pl.concat([\n",
    "        df_2021.with_columns(pl.lit(2021).alias('fiscal_year')),\n",
    "        df_2022.with_columns(pl.lit(2022).alias('fiscal_year')),\n",
    "        df_2023.with_columns(pl.lit(2023).alias('fiscal_year'))\n",
    "    ], how='align')\n",
    ")\n",
    "combined_df"
   ]
  },
  {
   "cell_type": "code",
   "execution_count": 1083,
   "metadata": {},
   "outputs": [
    {
     "data": {
      "text/html": [
       "<div><style>\n",
       ".dataframe > thead > tr,\n",
       ".dataframe > tbody > tr {\n",
       "  text-align: right;\n",
       "  white-space: pre-wrap;\n",
       "}\n",
       "</style>\n",
       "<small>shape: (4, 4)</small><table border=\"1\" class=\"dataframe\"><thead><tr><th>bcn</th><th>ben_date_of_birth</th><th>receipt_number</th><th>dol_eta_case_number</th></tr><tr><td>str</td><td>str</td><td>str</td><td>str</td></tr></thead><tbody><tr><td>&quot;(b)(6)&quot;</td><td>&quot;(b)(6)&quot;</td><td>&quot;(b)(6)&quot;</td><td>&quot;(b)(6)&quot;</td></tr><tr><td>&quot;(b)(3) (b)(6) (b)(7)(c)&quot;</td><td>&quot;(b)(3) (b)(6) (b)(7)(c)&quot;</td><td>&quot;(b)(3) (b)(6) (b)(7)(c)&quot;</td><td>&quot;(b)(3) (b)(6) (b)(7)(c)&quot;</td></tr><tr><td>&quot;(b)(6)&quot;</td><td>&quot;(b)(6)&quot;</td><td>&quot;(b)(6)&quot;</td><td>null</td></tr><tr><td>&quot;(b)(6)&quot;</td><td>&quot;(b)(6)&quot;</td><td>null</td><td>null</td></tr></tbody></table></div>"
      ],
      "text/plain": [
       "shape: (4, 4)\n",
       "┌───────────────┬───────────────────────────┬───────────────────────────┬──────────────────────────┐\n",
       "│ bcn           ┆ ben_date_of_birth         ┆ receipt_number            ┆ dol_eta_case_number      │\n",
       "│ ---           ┆ ---                       ┆ ---                       ┆ ---                      │\n",
       "│ str           ┆ str                       ┆ str                       ┆ str                      │\n",
       "╞═══════════════╪═══════════════════════════╪═══════════════════════════╪══════════════════════════╡\n",
       "│ (b)(6)        ┆ (b)(6)                    ┆ (b)(6)                    ┆ (b)(6)                   │\n",
       "│ (b)(3) (b)(6) ┆ (b)(3) (b)(6) (b)(7)(c)   ┆ (b)(3) (b)(6) (b)(7)(c)   ┆ (b)(3) (b)(6) (b)(7)(c)  │\n",
       "│ (b)(7)(c)     ┆                           ┆                           ┆                          │\n",
       "│ (b)(6)        ┆ (b)(6)                    ┆ (b)(6)                    ┆ null                     │\n",
       "│ (b)(6)        ┆ (b)(6)                    ┆ null                      ┆ null                     │\n",
       "└───────────────┴───────────────────────────┴───────────────────────────┴──────────────────────────┘"
      ]
     },
     "execution_count": 1083,
     "metadata": {},
     "output_type": "execute_result"
    }
   ],
   "source": [
    "combined_df.select([\"bcn\", \"ben_date_of_birth\", \"receipt_number\", \"dol_eta_case_number\"]).unique()"
   ]
  },
  {
   "cell_type": "code",
   "execution_count": 1084,
   "metadata": {},
   "outputs": [
    {
     "data": {
      "text/html": [
       "<div><style>\n",
       ".dataframe > thead > tr,\n",
       ".dataframe > tbody > tr {\n",
       "  text-align: right;\n",
       "  white-space: pre-wrap;\n",
       "}\n",
       "</style>\n",
       "<small>shape: (1_045_292, 47)</small><table border=\"1\" class=\"dataframe\"><thead><tr><th>country_of_birth</th><th>country_of_nationality</th><th>ben_year_of_birth</th><th>gender</th><th>employer_name</th><th>fein</th><th>mail_addr</th><th>city</th><th>state</th><th>zip</th><th>lottery_year</th><th>status_type</th><th>ben_multi_reg_ind</th><th>rec_date</th><th>first_decision</th><th>first_decision_date</th><th>i129_employer_name</th><th>requested_class</th><th>basis_for_classification</th><th>requested_action</th><th>number_of_beneficiaries</th><th>ben_sex</th><th>ben_country_of_birth</th><th>ben_current_class</th><th>job_title</th><th>worksite_street</th><th>worksite_city</th><th>worksite_state</th><th>worksite_zip</th><th>full_time_ind</th><th>wage_amt</th><th>wage_unit</th><th>valid_from</th><th>valid_to</th><th>num_of_emp_in_us</th><th>s1q1a</th><th>s1q1b</th><th>ben_education_code</th><th>ed_level_definition</th><th>ben_pfield_of_study</th><th>ben_comp_paid</th><th>dot_code</th><th>naics_code</th><th>s3q1</th><th>s4q1</th><th>t_u_vawa_flag</th><th>fiscal_year</th></tr><tr><td>str</td><td>str</td><td>i64</td><td>str</td><td>str</td><td>i64</td><td>str</td><td>str</td><td>str</td><td>str</td><td>i64</td><td>str</td><td>i64</td><td>str</td><td>str</td><td>str</td><td>str</td><td>str</td><td>str</td><td>str</td><td>i64</td><td>str</td><td>str</td><td>str</td><td>str</td><td>str</td><td>str</td><td>str</td><td>i64</td><td>str</td><td>str</td><td>str</td><td>str</td><td>str</td><td>i64</td><td>str</td><td>str</td><td>str</td><td>str</td><td>str</td><td>str</td><td>i64</td><td>i64</td><td>str</td><td>str</td><td>str</td><td>i32</td></tr></thead><tbody><tr><td>&quot;(b)(3) (b)(6) (b)(7)(c)&quot;</td><td>&quot;(b)(3) (b)(6) (b)(7)(c)&quot;</td><td>null</td><td>&quot;(b)(3) (b)(6) (b)(7)(c)&quot;</td><td>&quot;(b)(3) (b)(6) (b)(7)(c)&quot;</td><td>null</td><td>&quot;(b)(3) (b)(6) (b)(7)(c)&quot;</td><td>&quot;(b)(3) (b)(6) (b)(7)(c)&quot;</td><td>&quot;(b)(3) (b)(6) (b)(7)(c)&quot;</td><td>&quot;(b)(3) (b)(6) (b)(7)(c)&quot;</td><td>null</td><td>&quot;(b)(3) (b)(6) (b)(7)(c)&quot;</td><td>null</td><td>&quot;(b)(3) (b)(6) (b)(7)(c)&quot;</td><td>&quot;(b)(3) (b)(6) (b)(7)(c)&quot;</td><td>&quot;(b)(3) (b)(6) (b)(7)(c)&quot;</td><td>&quot;(b)(3) (b)(6) (b)(7)(c)&quot;</td><td>&quot;(b)(3) (b)(6) (b)(7)(c)&quot;</td><td>&quot;(b)(3) (b)(6) (b)(7)(c)&quot;</td><td>&quot;(b)(3) (b)(6) (b)(7)(c)&quot;</td><td>null</td><td>&quot;(b)(3) (b)(6) (b)(7)(c)&quot;</td><td>&quot;(b)(3) (b)(6) (b)(7)(c)&quot;</td><td>&quot;(b)(3) (b)(6) (b)(7)(c)&quot;</td><td>&quot;(b)(3) (b)(6) (b)(7)(c)&quot;</td><td>&quot;(b)(3) (b)(6) (b)(7)(c)&quot;</td><td>&quot;(b)(3) (b)(6) (b)(7)(c)&quot;</td><td>&quot;(b)(3) (b)(6) (b)(7)(c)&quot;</td><td>null</td><td>&quot;(b)(3) (b)(6) (b)(7)(c)&quot;</td><td>null</td><td>&quot;(b)(3) (b)(6) (b)(7)(c)&quot;</td><td>&quot;(b)(3) (b)(6) (b)(7)(c)&quot;</td><td>&quot;(b)(3) (b)(6) (b)(7)(c)&quot;</td><td>null</td><td>&quot;(b)(3) (b)(6) (b)(7)(c)&quot;</td><td>&quot;(b)(3) (b)(6) (b)(7)(c)&quot;</td><td>&quot;(b)(3) (b)(6) (b)(7)(c)&quot;</td><td>&quot;(b)(3) (b)(6) (b)(7)(c)&quot;</td><td>&quot;(b)(3) (b)(6) (b)(7)(c)&quot;</td><td>null</td><td>null</td><td>null</td><td>&quot;(b)(3) (b)(6) (b)(7)(c)&quot;</td><td>&quot;(b)(3) (b)(6) (b)(7)(c)&quot;</td><td>&quot;(b)(3) (b)(6) (b)(7)(c)&quot;</td><td>2023</td></tr><tr><td>&quot;(b)(3) (b)(6) (b)(7)(c)&quot;</td><td>&quot;(b)(3) (b)(6) (b)(7)(c)&quot;</td><td>null</td><td>&quot;(b)(3) (b)(6) (b)(7)(c)&quot;</td><td>&quot;(b)(3) (b)(6) (b)(7)(c)&quot;</td><td>null</td><td>&quot;(b)(3) (b)(6) (b)(7)(c)&quot;</td><td>&quot;(b)(3) (b)(6) (b)(7)(c)&quot;</td><td>&quot;(b)(3) (b)(6) (b)(7)(c)&quot;</td><td>&quot;(b)(3) (b)(6) (b)(7)(c)&quot;</td><td>null</td><td>&quot;(b)(3) (b)(6) (b)(7)(c)&quot;</td><td>null</td><td>&quot;(b)(3) (b)(6) (b)(7)(c)&quot;</td><td>&quot;(b)(3) (b)(6) (b)(7)(c)&quot;</td><td>&quot;(b)(3) (b)(6) (b)(7)(c)&quot;</td><td>&quot;(b)(3) (b)(6) (b)(7)(c)&quot;</td><td>&quot;(b)(3) (b)(6) (b)(7)(c)&quot;</td><td>&quot;(b)(3) (b)(6) (b)(7)(c)&quot;</td><td>&quot;(b)(3) (b)(6) (b)(7)(c)&quot;</td><td>null</td><td>&quot;(b)(3) (b)(6) (b)(7)(c)&quot;</td><td>&quot;(b)(3) (b)(6) (b)(7)(c)&quot;</td><td>&quot;(b)(3) (b)(6) (b)(7)(c)&quot;</td><td>&quot;(b)(3) (b)(6) (b)(7)(c)&quot;</td><td>&quot;(b)(3) (b)(6) (b)(7)(c)&quot;</td><td>&quot;(b)(3) (b)(6) (b)(7)(c)&quot;</td><td>&quot;(b)(3) (b)(6) (b)(7)(c)&quot;</td><td>null</td><td>&quot;(b)(3) (b)(6) (b)(7)(c)&quot;</td><td>null</td><td>&quot;(b)(3) (b)(6) (b)(7)(c)&quot;</td><td>&quot;(b)(3) (b)(6) (b)(7)(c)&quot;</td><td>&quot;(b)(3) (b)(6) (b)(7)(c)&quot;</td><td>null</td><td>&quot;(b)(3) (b)(6) (b)(7)(c)&quot;</td><td>&quot;(b)(3) (b)(6) (b)(7)(c)&quot;</td><td>&quot;(b)(3) (b)(6) (b)(7)(c)&quot;</td><td>&quot;(b)(3) (b)(6) (b)(7)(c)&quot;</td><td>&quot;(b)(3) (b)(6) (b)(7)(c)&quot;</td><td>null</td><td>null</td><td>null</td><td>&quot;(b)(3) (b)(6) (b)(7)(c)&quot;</td><td>&quot;(b)(3) (b)(6) (b)(7)(c)&quot;</td><td>&quot;(b)(3) (b)(6) (b)(7)(c)&quot;</td><td>2023</td></tr><tr><td>&quot;(b)(3) (b)(6) (b)(7)(c)&quot;</td><td>&quot;(b)(3) (b)(6) (b)(7)(c)&quot;</td><td>null</td><td>&quot;(b)(3) (b)(6) (b)(7)(c)&quot;</td><td>&quot;(b)(3) (b)(6) (b)(7)(c)&quot;</td><td>null</td><td>&quot;(b)(3) (b)(6) (b)(7)(c)&quot;</td><td>&quot;(b)(3) (b)(6) (b)(7)(c)&quot;</td><td>&quot;(b)(3) (b)(6) (b)(7)(c)&quot;</td><td>&quot;(b)(3) (b)(6) (b)(7)(c)&quot;</td><td>null</td><td>&quot;(b)(3) (b)(6) (b)(7)(c)&quot;</td><td>null</td><td>&quot;(b)(3) (b)(6) (b)(7)(c)&quot;</td><td>&quot;(b)(3) (b)(6) (b)(7)(c)&quot;</td><td>&quot;(b)(3) (b)(6) (b)(7)(c)&quot;</td><td>&quot;(b)(3) (b)(6) (b)(7)(c)&quot;</td><td>&quot;(b)(3) (b)(6) (b)(7)(c)&quot;</td><td>&quot;(b)(3) (b)(6) (b)(7)(c)&quot;</td><td>&quot;(b)(3) (b)(6) (b)(7)(c)&quot;</td><td>null</td><td>&quot;(b)(3) (b)(6) (b)(7)(c)&quot;</td><td>&quot;(b)(3) (b)(6) (b)(7)(c)&quot;</td><td>&quot;(b)(3) (b)(6) (b)(7)(c)&quot;</td><td>&quot;(b)(3) (b)(6) (b)(7)(c)&quot;</td><td>&quot;(b)(3) (b)(6) (b)(7)(c)&quot;</td><td>&quot;(b)(3) (b)(6) (b)(7)(c)&quot;</td><td>&quot;(b)(3) (b)(6) (b)(7)(c)&quot;</td><td>null</td><td>&quot;(b)(3) (b)(6) (b)(7)(c)&quot;</td><td>null</td><td>&quot;(b)(3) (b)(6) (b)(7)(c)&quot;</td><td>&quot;(b)(3) (b)(6) (b)(7)(c)&quot;</td><td>&quot;(b)(3) (b)(6) (b)(7)(c)&quot;</td><td>null</td><td>&quot;(b)(3) (b)(6) (b)(7)(c)&quot;</td><td>&quot;(b)(3) (b)(6) (b)(7)(c)&quot;</td><td>&quot;(b)(3) (b)(6) (b)(7)(c)&quot;</td><td>&quot;(b)(3) (b)(6) (b)(7)(c)&quot;</td><td>&quot;(b)(3) (b)(6) (b)(7)(c)&quot;</td><td>null</td><td>null</td><td>null</td><td>&quot;(b)(3) (b)(6) (b)(7)(c)&quot;</td><td>&quot;(b)(3) (b)(6) (b)(7)(c)&quot;</td><td>&quot;(b)(3) (b)(6) (b)(7)(c)&quot;</td><td>2023</td></tr><tr><td>&quot;(b)(3) (b)(6) (b)(7)(c)&quot;</td><td>&quot;(b)(3) (b)(6) (b)(7)(c)&quot;</td><td>null</td><td>&quot;(b)(3) (b)(6) (b)(7)(c)&quot;</td><td>&quot;(b)(3) (b)(6) (b)(7)(c)&quot;</td><td>null</td><td>&quot;(b)(3) (b)(6) (b)(7)(c)&quot;</td><td>&quot;(b)(3) (b)(6) (b)(7)(c)&quot;</td><td>&quot;(b)(3) (b)(6) (b)(7)(c)&quot;</td><td>&quot;(b)(3) (b)(6) (b)(7)(c)&quot;</td><td>null</td><td>&quot;(b)(3) (b)(6) (b)(7)(c)&quot;</td><td>null</td><td>&quot;(b)(3) (b)(6) (b)(7)(c)&quot;</td><td>&quot;(b)(3) (b)(6) (b)(7)(c)&quot;</td><td>&quot;(b)(3) (b)(6) (b)(7)(c)&quot;</td><td>&quot;(b)(3) (b)(6) (b)(7)(c)&quot;</td><td>&quot;(b)(3) (b)(6) (b)(7)(c)&quot;</td><td>&quot;(b)(3) (b)(6) (b)(7)(c)&quot;</td><td>&quot;(b)(3) (b)(6) (b)(7)(c)&quot;</td><td>null</td><td>&quot;(b)(3) (b)(6) (b)(7)(c)&quot;</td><td>&quot;(b)(3) (b)(6) (b)(7)(c)&quot;</td><td>&quot;(b)(3) (b)(6) (b)(7)(c)&quot;</td><td>&quot;(b)(3) (b)(6) (b)(7)(c)&quot;</td><td>&quot;(b)(3) (b)(6) (b)(7)(c)&quot;</td><td>&quot;(b)(3) (b)(6) (b)(7)(c)&quot;</td><td>&quot;(b)(3) (b)(6) (b)(7)(c)&quot;</td><td>null</td><td>&quot;(b)(3) (b)(6) (b)(7)(c)&quot;</td><td>null</td><td>&quot;(b)(3) (b)(6) (b)(7)(c)&quot;</td><td>&quot;(b)(3) (b)(6) (b)(7)(c)&quot;</td><td>&quot;(b)(3) (b)(6) (b)(7)(c)&quot;</td><td>null</td><td>&quot;(b)(3) (b)(6) (b)(7)(c)&quot;</td><td>&quot;(b)(3) (b)(6) (b)(7)(c)&quot;</td><td>&quot;(b)(3) (b)(6) (b)(7)(c)&quot;</td><td>&quot;(b)(3) (b)(6) (b)(7)(c)&quot;</td><td>&quot;(b)(3) (b)(6) (b)(7)(c)&quot;</td><td>null</td><td>null</td><td>null</td><td>&quot;(b)(3) (b)(6) (b)(7)(c)&quot;</td><td>&quot;(b)(3) (b)(6) (b)(7)(c)&quot;</td><td>&quot;(b)(3) (b)(6) (b)(7)(c)&quot;</td><td>2023</td></tr><tr><td>&quot;(b)(3) (b)(6) (b)(7)(c)&quot;</td><td>&quot;(b)(3) (b)(6) (b)(7)(c)&quot;</td><td>null</td><td>&quot;(b)(3) (b)(6) (b)(7)(c)&quot;</td><td>&quot;(b)(3) (b)(6) (b)(7)(c)&quot;</td><td>null</td><td>&quot;(b)(3) (b)(6) (b)(7)(c)&quot;</td><td>&quot;(b)(3) (b)(6) (b)(7)(c)&quot;</td><td>&quot;(b)(3) (b)(6) (b)(7)(c)&quot;</td><td>&quot;(b)(3) (b)(6) (b)(7)(c)&quot;</td><td>null</td><td>&quot;(b)(3) (b)(6) (b)(7)(c)&quot;</td><td>null</td><td>&quot;(b)(3) (b)(6) (b)(7)(c)&quot;</td><td>&quot;(b)(3) (b)(6) (b)(7)(c)&quot;</td><td>&quot;(b)(3) (b)(6) (b)(7)(c)&quot;</td><td>&quot;(b)(3) (b)(6) (b)(7)(c)&quot;</td><td>&quot;(b)(3) (b)(6) (b)(7)(c)&quot;</td><td>&quot;(b)(3) (b)(6) (b)(7)(c)&quot;</td><td>&quot;(b)(3) (b)(6) (b)(7)(c)&quot;</td><td>null</td><td>&quot;(b)(3) (b)(6) (b)(7)(c)&quot;</td><td>&quot;(b)(3) (b)(6) (b)(7)(c)&quot;</td><td>&quot;(b)(3) (b)(6) (b)(7)(c)&quot;</td><td>&quot;(b)(3) (b)(6) (b)(7)(c)&quot;</td><td>&quot;(b)(3) (b)(6) (b)(7)(c)&quot;</td><td>&quot;(b)(3) (b)(6) (b)(7)(c)&quot;</td><td>&quot;(b)(3) (b)(6) (b)(7)(c)&quot;</td><td>null</td><td>&quot;(b)(3) (b)(6) (b)(7)(c)&quot;</td><td>null</td><td>&quot;(b)(3) (b)(6) (b)(7)(c)&quot;</td><td>&quot;(b)(3) (b)(6) (b)(7)(c)&quot;</td><td>&quot;(b)(3) (b)(6) (b)(7)(c)&quot;</td><td>null</td><td>&quot;(b)(3) (b)(6) (b)(7)(c)&quot;</td><td>&quot;(b)(3) (b)(6) (b)(7)(c)&quot;</td><td>&quot;(b)(3) (b)(6) (b)(7)(c)&quot;</td><td>&quot;(b)(3) (b)(6) (b)(7)(c)&quot;</td><td>&quot;(b)(3) (b)(6) (b)(7)(c)&quot;</td><td>null</td><td>null</td><td>null</td><td>&quot;(b)(3) (b)(6) (b)(7)(c)&quot;</td><td>&quot;(b)(3) (b)(6) (b)(7)(c)&quot;</td><td>&quot;(b)(3) (b)(6) (b)(7)(c)&quot;</td><td>2023</td></tr><tr><td>&hellip;</td><td>&hellip;</td><td>&hellip;</td><td>&hellip;</td><td>&hellip;</td><td>&hellip;</td><td>&hellip;</td><td>&hellip;</td><td>&hellip;</td><td>&hellip;</td><td>&hellip;</td><td>&hellip;</td><td>&hellip;</td><td>&hellip;</td><td>&hellip;</td><td>&hellip;</td><td>&hellip;</td><td>&hellip;</td><td>&hellip;</td><td>&hellip;</td><td>&hellip;</td><td>&hellip;</td><td>&hellip;</td><td>&hellip;</td><td>&hellip;</td><td>&hellip;</td><td>&hellip;</td><td>&hellip;</td><td>&hellip;</td><td>&hellip;</td><td>&hellip;</td><td>&hellip;</td><td>&hellip;</td><td>&hellip;</td><td>&hellip;</td><td>&hellip;</td><td>&hellip;</td><td>&hellip;</td><td>&hellip;</td><td>&hellip;</td><td>&hellip;</td><td>&hellip;</td><td>&hellip;</td><td>&hellip;</td><td>&hellip;</td><td>&hellip;</td><td>&hellip;</td></tr><tr><td>&quot;ZZK&quot;</td><td>&quot;KOR&quot;</td><td>1999</td><td>&quot;male&quot;</td><td>&quot;Antra Inc.&quot;</td><td>261765515</td><td>&quot;21355 Ridgetop Cir&quot;</td><td>&quot;Dulles&quot;</td><td>&quot;VA&quot;</td><td>&quot;20166-8500&quot;</td><td>2023</td><td>&quot;ELIGIBLE&quot;</td><td>0</td><td>null</td><td>null</td><td>null</td><td>null</td><td>null</td><td>null</td><td>null</td><td>null</td><td>null</td><td>null</td><td>null</td><td>null</td><td>null</td><td>null</td><td>null</td><td>null</td><td>null</td><td>null</td><td>null</td><td>null</td><td>null</td><td>null</td><td>null</td><td>null</td><td>null</td><td>null</td><td>null</td><td>null</td><td>null</td><td>null</td><td>null</td><td>null</td><td>null</td><td>2023</td></tr><tr><td>&quot;ZZK&quot;</td><td>&quot;KOR&quot;</td><td>1999</td><td>&quot;male&quot;</td><td>&quot;Box, Inc.&quot;</td><td>202714444</td><td>&quot;900 Jefferson Ave.&quot;</td><td>&quot;Redwood City&quot;</td><td>&quot;CA&quot;</td><td>&quot;94063&quot;</td><td>2023</td><td>&quot;ELIGIBLE&quot;</td><td>0</td><td>null</td><td>null</td><td>null</td><td>null</td><td>null</td><td>null</td><td>null</td><td>null</td><td>null</td><td>null</td><td>null</td><td>null</td><td>null</td><td>null</td><td>null</td><td>null</td><td>null</td><td>null</td><td>null</td><td>null</td><td>null</td><td>null</td><td>null</td><td>null</td><td>null</td><td>null</td><td>null</td><td>null</td><td>null</td><td>null</td><td>null</td><td>null</td><td>null</td><td>2023</td></tr><tr><td>&quot;ZZK&quot;</td><td>&quot;PRK&quot;</td><td>1986</td><td>&quot;female&quot;</td><td>&quot;ATKINS NORTH AMERICA INC&quot;</td><td>590896138</td><td>&quot;4030 W Boy Scout Blvd&quot;</td><td>&quot;Tampa&quot;</td><td>&quot;FL&quot;</td><td>&quot;33607-5713&quot;</td><td>2021</td><td>&quot;SELECTED&quot;</td><td>0</td><td>&quot;9/29/2020&quot;</td><td>&quot;Approved&quot;</td><td>&quot;11/24/2020&quot;</td><td>&quot;ATKINS NORTH AMERICA INC&quot;</td><td>&quot;1B1&quot;</td><td>&quot;A&quot;</td><td>&quot;B&quot;</td><td>1</td><td>&quot;F&quot;</td><td>&quot;KOREA&quot;</td><td>&quot;F1&quot;</td><td>&quot;WATER RESOURCE ENGINEER II&quot;</td><td>&quot;16430 N SCOTTDALE RD STE 250&quot;</td><td>&quot;SCOTTSDALE&quot;</td><td>&quot;AZ&quot;</td><td>85254</td><td>null</td><td>null</td><td>null</td><td>&quot;11/24/2020&quot;</td><td>&quot;9/30/2023&quot;</td><td>0</td><td>&quot;N&quot;</td><td>null</td><td>&quot;I&quot;</td><td>&quot;DOCTORATE DEGREE&quot;</td><td>&quot;CIVIL ENVIRONMENTAL AND SUSTAI&quot;</td><td>&quot;69972.0&quot;</td><td>5</td><td>541330</td><td>&quot;B&quot;</td><td>&quot;N&quot;</td><td>null</td><td>2021</td></tr><tr><td>&quot;ZZK&quot;</td><td>&quot;PRK&quot;</td><td>1992</td><td>&quot;male&quot;</td><td>&quot;Liberty Distribution, LLC&quot;</td><td>823735977</td><td>&quot;4370 Varsity Dr&quot;</td><td>&quot;Ann Arbor&quot;</td><td>&quot;MI&quot;</td><td>&quot;48108-2359&quot;</td><td>2022</td><td>&quot;SELECTED&quot;</td><td>0</td><td>null</td><td>null</td><td>null</td><td>null</td><td>null</td><td>null</td><td>null</td><td>null</td><td>null</td><td>null</td><td>null</td><td>null</td><td>null</td><td>null</td><td>null</td><td>null</td><td>null</td><td>null</td><td>null</td><td>null</td><td>null</td><td>null</td><td>null</td><td>null</td><td>null</td><td>null</td><td>null</td><td>null</td><td>null</td><td>null</td><td>null</td><td>null</td><td>null</td><td>2022</td></tr><tr><td>&quot;ZZK&quot;</td><td>&quot;PRK&quot;</td><td>1994</td><td>&quot;female&quot;</td><td>&quot;HCL America Solutions Inc&quot;</td><td>455639284</td><td>&quot;330 Potrero Avenue&quot;</td><td>&quot;Sunnyvale&quot;</td><td>&quot;CA&quot;</td><td>&quot;94085&quot;</td><td>2022</td><td>&quot;ELIGIBLE&quot;</td><td>0</td><td>null</td><td>null</td><td>null</td><td>null</td><td>null</td><td>null</td><td>null</td><td>null</td><td>null</td><td>null</td><td>null</td><td>null</td><td>null</td><td>null</td><td>null</td><td>null</td><td>null</td><td>null</td><td>null</td><td>null</td><td>null</td><td>null</td><td>null</td><td>null</td><td>null</td><td>null</td><td>null</td><td>null</td><td>null</td><td>null</td><td>null</td><td>null</td><td>null</td><td>2022</td></tr></tbody></table></div>"
      ],
      "text/plain": [
       "shape: (1_045_292, 47)\n",
       "┌───────────┬───────────┬───────────┬───────────┬───┬───────────┬───────────┬───────────┬──────────┐\n",
       "│ country_o ┆ country_o ┆ ben_year_ ┆ gender    ┆ … ┆ s3q1      ┆ s4q1      ┆ t_u_vawa_ ┆ fiscal_y │\n",
       "│ f_birth   ┆ f_nationa ┆ of_birth  ┆ ---       ┆   ┆ ---       ┆ ---       ┆ flag      ┆ ear      │\n",
       "│ ---       ┆ lity      ┆ ---       ┆ str       ┆   ┆ str       ┆ str       ┆ ---       ┆ ---      │\n",
       "│ str       ┆ ---       ┆ i64       ┆           ┆   ┆           ┆           ┆ str       ┆ i32      │\n",
       "│           ┆ str       ┆           ┆           ┆   ┆           ┆           ┆           ┆          │\n",
       "╞═══════════╪═══════════╪═══════════╪═══════════╪═══╪═══════════╪═══════════╪═══════════╪══════════╡\n",
       "│ (b)(3)    ┆ (b)(3)    ┆ null      ┆ (b)(3)    ┆ … ┆ (b)(3)    ┆ (b)(3)    ┆ (b)(3)    ┆ 2023     │\n",
       "│ (b)(6)    ┆ (b)(6)    ┆           ┆ (b)(6)    ┆   ┆ (b)(6)    ┆ (b)(6)    ┆ (b)(6)    ┆          │\n",
       "│ (b)(7)(c) ┆ (b)(7)(c) ┆           ┆ (b)(7)(c) ┆   ┆ (b)(7)(c) ┆ (b)(7)(c) ┆ (b)(7)(c) ┆          │\n",
       "│ (b)(3)    ┆ (b)(3)    ┆ null      ┆ (b)(3)    ┆ … ┆ (b)(3)    ┆ (b)(3)    ┆ (b)(3)    ┆ 2023     │\n",
       "│ (b)(6)    ┆ (b)(6)    ┆           ┆ (b)(6)    ┆   ┆ (b)(6)    ┆ (b)(6)    ┆ (b)(6)    ┆          │\n",
       "│ (b)(7)(c) ┆ (b)(7)(c) ┆           ┆ (b)(7)(c) ┆   ┆ (b)(7)(c) ┆ (b)(7)(c) ┆ (b)(7)(c) ┆          │\n",
       "│ (b)(3)    ┆ (b)(3)    ┆ null      ┆ (b)(3)    ┆ … ┆ (b)(3)    ┆ (b)(3)    ┆ (b)(3)    ┆ 2023     │\n",
       "│ (b)(6)    ┆ (b)(6)    ┆           ┆ (b)(6)    ┆   ┆ (b)(6)    ┆ (b)(6)    ┆ (b)(6)    ┆          │\n",
       "│ (b)(7)(c) ┆ (b)(7)(c) ┆           ┆ (b)(7)(c) ┆   ┆ (b)(7)(c) ┆ (b)(7)(c) ┆ (b)(7)(c) ┆          │\n",
       "│ (b)(3)    ┆ (b)(3)    ┆ null      ┆ (b)(3)    ┆ … ┆ (b)(3)    ┆ (b)(3)    ┆ (b)(3)    ┆ 2023     │\n",
       "│ (b)(6)    ┆ (b)(6)    ┆           ┆ (b)(6)    ┆   ┆ (b)(6)    ┆ (b)(6)    ┆ (b)(6)    ┆          │\n",
       "│ (b)(7)(c) ┆ (b)(7)(c) ┆           ┆ (b)(7)(c) ┆   ┆ (b)(7)(c) ┆ (b)(7)(c) ┆ (b)(7)(c) ┆          │\n",
       "│ (b)(3)    ┆ (b)(3)    ┆ null      ┆ (b)(3)    ┆ … ┆ (b)(3)    ┆ (b)(3)    ┆ (b)(3)    ┆ 2023     │\n",
       "│ (b)(6)    ┆ (b)(6)    ┆           ┆ (b)(6)    ┆   ┆ (b)(6)    ┆ (b)(6)    ┆ (b)(6)    ┆          │\n",
       "│ (b)(7)(c) ┆ (b)(7)(c) ┆           ┆ (b)(7)(c) ┆   ┆ (b)(7)(c) ┆ (b)(7)(c) ┆ (b)(7)(c) ┆          │\n",
       "│ …         ┆ …         ┆ …         ┆ …         ┆ … ┆ …         ┆ …         ┆ …         ┆ …        │\n",
       "│ ZZK       ┆ KOR       ┆ 1999      ┆ male      ┆ … ┆ null      ┆ null      ┆ null      ┆ 2023     │\n",
       "│ ZZK       ┆ KOR       ┆ 1999      ┆ male      ┆ … ┆ null      ┆ null      ┆ null      ┆ 2023     │\n",
       "│ ZZK       ┆ PRK       ┆ 1986      ┆ female    ┆ … ┆ B         ┆ N         ┆ null      ┆ 2021     │\n",
       "│ ZZK       ┆ PRK       ┆ 1992      ┆ male      ┆ … ┆ null      ┆ null      ┆ null      ┆ 2022     │\n",
       "│ ZZK       ┆ PRK       ┆ 1994      ┆ female    ┆ … ┆ null      ┆ null      ┆ null      ┆ 2022     │\n",
       "└───────────┴───────────┴───────────┴───────────┴───┴───────────┴───────────┴───────────┴──────────┘"
      ]
     },
     "execution_count": 1084,
     "metadata": {},
     "output_type": "execute_result"
    }
   ],
   "source": [
    "combined_df = combined_df.select(pl.exclude([\"bcn\", \"ben_date_of_birth\", \"receipt_number\", \"dol_eta_case_number\", \"agent_first_name\", \"agent_last_name\", \"pet_street\",\t\"pet_city\",\t\"pet_state\", \"pet_zip\"]))\n",
    "combined_df"
   ]
  },
  {
   "cell_type": "code",
   "execution_count": 1085,
   "metadata": {},
   "outputs": [
    {
     "name": "stdout",
     "output_type": "stream",
     "text": [
      "\n",
      "Rows per fiscal year:\n",
      "shape: (3, 2)\n",
      "┌─────────────┬───────────┐\n",
      "│ fiscal_year ┆ row_count │\n",
      "│ ---         ┆ ---       │\n",
      "│ i32         ┆ u32       │\n",
      "╞═════════════╪═══════════╡\n",
      "│ 2021        ┆ 269424    │\n",
      "│ 2022        ┆ 301447    │\n",
      "│ 2023        ┆ 474421    │\n",
      "└─────────────┴───────────┘\n"
     ]
    }
   ],
   "source": [
    "# Check row counts by year\n",
    "year_counts = (\n",
    "    combined_df\n",
    "    .group_by('fiscal_year')\n",
    "    .agg(pl.len().alias('row_count'))\n",
    "    .sort('fiscal_year')\n",
    ")\n",
    "\n",
    "print(\"\\nRows per fiscal year:\")\n",
    "print(year_counts)\n",
    "\n",
    "# Check for any duplicate rows (if there's a case_number or similar identifier)\n",
    "if 'case_number' in combined_df.columns:\n",
    "    duplicate_cases = (\n",
    "        combined_df\n",
    "        .group_by('case_number', 'fiscal_year')\n",
    "        .agg(pl.len().alias('count'))\n",
    "        .filter(pl.col('count') > 1)\n",
    "    )\n",
    "    \n",
    "    print(\"\\nNumber of duplicate cases:\", len(duplicate_cases))"
   ]
  },
  {
   "cell_type": "code",
   "execution_count": 1086,
   "metadata": {},
   "outputs": [
    {
     "data": {
      "text/html": [
       "<div><style>\n",
       ".dataframe > thead > tr,\n",
       ".dataframe > tbody > tr {\n",
       "  text-align: right;\n",
       "  white-space: pre-wrap;\n",
       "}\n",
       "</style>\n",
       "<small>shape: (1_045_292, 47)</small><table border=\"1\" class=\"dataframe\"><thead><tr><th>country_of_birth</th><th>country_of_nationality</th><th>ben_year_of_birth</th><th>gender</th><th>employer_name</th><th>fein</th><th>mail_addr</th><th>city</th><th>state</th><th>zip</th><th>lottery_year</th><th>status_type</th><th>ben_multi_reg_ind</th><th>rec_date</th><th>first_decision</th><th>first_decision_date</th><th>i129_employer_name</th><th>requested_class</th><th>basis_for_classification</th><th>requested_action</th><th>number_of_beneficiaries</th><th>ben_sex</th><th>ben_country_of_birth</th><th>ben_current_class</th><th>job_title</th><th>worksite_street</th><th>worksite_city</th><th>worksite_state</th><th>worksite_zip</th><th>full_time_ind</th><th>wage_amt</th><th>wage_unit</th><th>valid_from</th><th>valid_to</th><th>num_of_emp_in_us</th><th>s1q1a</th><th>s1q1b</th><th>ben_education_code</th><th>ed_level_definition</th><th>ben_pfield_of_study</th><th>ben_comp_paid</th><th>dot_code</th><th>naics_code</th><th>s3q1</th><th>s4q1</th><th>t_u_vawa_flag</th><th>fiscal_year</th></tr><tr><td>str</td><td>str</td><td>i64</td><td>str</td><td>str</td><td>i64</td><td>str</td><td>str</td><td>str</td><td>str</td><td>i64</td><td>str</td><td>i64</td><td>str</td><td>str</td><td>str</td><td>str</td><td>str</td><td>str</td><td>str</td><td>i64</td><td>str</td><td>str</td><td>str</td><td>str</td><td>str</td><td>str</td><td>str</td><td>i64</td><td>str</td><td>str</td><td>str</td><td>str</td><td>str</td><td>i64</td><td>str</td><td>str</td><td>str</td><td>str</td><td>str</td><td>str</td><td>i64</td><td>i64</td><td>str</td><td>str</td><td>str</td><td>i32</td></tr></thead><tbody><tr><td>&quot;(b)(3) (b)(6) (b)(7)(c)&quot;</td><td>&quot;(b)(3) (b)(6) (b)(7)(c)&quot;</td><td>null</td><td>&quot;(b)(3) (b)(6) (b)(7)(c)&quot;</td><td>&quot;(b)(3) (b)(6) (b)(7)(c)&quot;</td><td>null</td><td>&quot;(b)(3) (b)(6) (b)(7)(c)&quot;</td><td>&quot;(b)(3) (b)(6) (b)(7)(c)&quot;</td><td>&quot;(b)(3) (b)(6) (b)(7)(c)&quot;</td><td>&quot;(b)(3) (b)(6) (b)(7)(c)&quot;</td><td>null</td><td>&quot;(b)(3) (b)(6) (b)(7)(c)&quot;</td><td>null</td><td>&quot;(b)(3) (b)(6) (b)(7)(c)&quot;</td><td>&quot;(b)(3) (b)(6) (b)(7)(c)&quot;</td><td>&quot;(b)(3) (b)(6) (b)(7)(c)&quot;</td><td>&quot;(b)(3) (b)(6) (b)(7)(c)&quot;</td><td>&quot;(b)(3) (b)(6) (b)(7)(c)&quot;</td><td>&quot;(b)(3) (b)(6) (b)(7)(c)&quot;</td><td>&quot;(b)(3) (b)(6) (b)(7)(c)&quot;</td><td>null</td><td>&quot;(b)(3) (b)(6) (b)(7)(c)&quot;</td><td>&quot;(b)(3) (b)(6) (b)(7)(c)&quot;</td><td>&quot;(b)(3) (b)(6) (b)(7)(c)&quot;</td><td>&quot;(b)(3) (b)(6) (b)(7)(c)&quot;</td><td>&quot;(b)(3) (b)(6) (b)(7)(c)&quot;</td><td>&quot;(b)(3) (b)(6) (b)(7)(c)&quot;</td><td>&quot;(b)(3) (b)(6) (b)(7)(c)&quot;</td><td>null</td><td>&quot;(b)(3) (b)(6) (b)(7)(c)&quot;</td><td>null</td><td>&quot;(b)(3) (b)(6) (b)(7)(c)&quot;</td><td>&quot;(b)(3) (b)(6) (b)(7)(c)&quot;</td><td>&quot;(b)(3) (b)(6) (b)(7)(c)&quot;</td><td>null</td><td>&quot;(b)(3) (b)(6) (b)(7)(c)&quot;</td><td>&quot;(b)(3) (b)(6) (b)(7)(c)&quot;</td><td>&quot;(b)(3) (b)(6) (b)(7)(c)&quot;</td><td>&quot;(b)(3) (b)(6) (b)(7)(c)&quot;</td><td>&quot;(b)(3) (b)(6) (b)(7)(c)&quot;</td><td>null</td><td>null</td><td>null</td><td>&quot;(b)(3) (b)(6) (b)(7)(c)&quot;</td><td>&quot;(b)(3) (b)(6) (b)(7)(c)&quot;</td><td>&quot;(b)(3) (b)(6) (b)(7)(c)&quot;</td><td>2023</td></tr><tr><td>&quot;(b)(3) (b)(6) (b)(7)(c)&quot;</td><td>&quot;(b)(3) (b)(6) (b)(7)(c)&quot;</td><td>null</td><td>&quot;(b)(3) (b)(6) (b)(7)(c)&quot;</td><td>&quot;(b)(3) (b)(6) (b)(7)(c)&quot;</td><td>null</td><td>&quot;(b)(3) (b)(6) (b)(7)(c)&quot;</td><td>&quot;(b)(3) (b)(6) (b)(7)(c)&quot;</td><td>&quot;(b)(3) (b)(6) (b)(7)(c)&quot;</td><td>&quot;(b)(3) (b)(6) (b)(7)(c)&quot;</td><td>null</td><td>&quot;(b)(3) (b)(6) (b)(7)(c)&quot;</td><td>null</td><td>&quot;(b)(3) (b)(6) (b)(7)(c)&quot;</td><td>&quot;(b)(3) (b)(6) (b)(7)(c)&quot;</td><td>&quot;(b)(3) (b)(6) (b)(7)(c)&quot;</td><td>&quot;(b)(3) (b)(6) (b)(7)(c)&quot;</td><td>&quot;(b)(3) (b)(6) (b)(7)(c)&quot;</td><td>&quot;(b)(3) (b)(6) (b)(7)(c)&quot;</td><td>&quot;(b)(3) (b)(6) (b)(7)(c)&quot;</td><td>null</td><td>&quot;(b)(3) (b)(6) (b)(7)(c)&quot;</td><td>&quot;(b)(3) (b)(6) (b)(7)(c)&quot;</td><td>&quot;(b)(3) (b)(6) (b)(7)(c)&quot;</td><td>&quot;(b)(3) (b)(6) (b)(7)(c)&quot;</td><td>&quot;(b)(3) (b)(6) (b)(7)(c)&quot;</td><td>&quot;(b)(3) (b)(6) (b)(7)(c)&quot;</td><td>&quot;(b)(3) (b)(6) (b)(7)(c)&quot;</td><td>null</td><td>&quot;(b)(3) (b)(6) (b)(7)(c)&quot;</td><td>null</td><td>&quot;(b)(3) (b)(6) (b)(7)(c)&quot;</td><td>&quot;(b)(3) (b)(6) (b)(7)(c)&quot;</td><td>&quot;(b)(3) (b)(6) (b)(7)(c)&quot;</td><td>null</td><td>&quot;(b)(3) (b)(6) (b)(7)(c)&quot;</td><td>&quot;(b)(3) (b)(6) (b)(7)(c)&quot;</td><td>&quot;(b)(3) (b)(6) (b)(7)(c)&quot;</td><td>&quot;(b)(3) (b)(6) (b)(7)(c)&quot;</td><td>&quot;(b)(3) (b)(6) (b)(7)(c)&quot;</td><td>null</td><td>null</td><td>null</td><td>&quot;(b)(3) (b)(6) (b)(7)(c)&quot;</td><td>&quot;(b)(3) (b)(6) (b)(7)(c)&quot;</td><td>&quot;(b)(3) (b)(6) (b)(7)(c)&quot;</td><td>2023</td></tr><tr><td>&quot;(b)(3) (b)(6) (b)(7)(c)&quot;</td><td>&quot;(b)(3) (b)(6) (b)(7)(c)&quot;</td><td>null</td><td>&quot;(b)(3) (b)(6) (b)(7)(c)&quot;</td><td>&quot;(b)(3) (b)(6) (b)(7)(c)&quot;</td><td>null</td><td>&quot;(b)(3) (b)(6) (b)(7)(c)&quot;</td><td>&quot;(b)(3) (b)(6) (b)(7)(c)&quot;</td><td>&quot;(b)(3) (b)(6) (b)(7)(c)&quot;</td><td>&quot;(b)(3) (b)(6) (b)(7)(c)&quot;</td><td>null</td><td>&quot;(b)(3) (b)(6) (b)(7)(c)&quot;</td><td>null</td><td>&quot;(b)(3) (b)(6) (b)(7)(c)&quot;</td><td>&quot;(b)(3) (b)(6) (b)(7)(c)&quot;</td><td>&quot;(b)(3) (b)(6) (b)(7)(c)&quot;</td><td>&quot;(b)(3) (b)(6) (b)(7)(c)&quot;</td><td>&quot;(b)(3) (b)(6) (b)(7)(c)&quot;</td><td>&quot;(b)(3) (b)(6) (b)(7)(c)&quot;</td><td>&quot;(b)(3) (b)(6) (b)(7)(c)&quot;</td><td>null</td><td>&quot;(b)(3) (b)(6) (b)(7)(c)&quot;</td><td>&quot;(b)(3) (b)(6) (b)(7)(c)&quot;</td><td>&quot;(b)(3) (b)(6) (b)(7)(c)&quot;</td><td>&quot;(b)(3) (b)(6) (b)(7)(c)&quot;</td><td>&quot;(b)(3) (b)(6) (b)(7)(c)&quot;</td><td>&quot;(b)(3) (b)(6) (b)(7)(c)&quot;</td><td>&quot;(b)(3) (b)(6) (b)(7)(c)&quot;</td><td>null</td><td>&quot;(b)(3) (b)(6) (b)(7)(c)&quot;</td><td>null</td><td>&quot;(b)(3) (b)(6) (b)(7)(c)&quot;</td><td>&quot;(b)(3) (b)(6) (b)(7)(c)&quot;</td><td>&quot;(b)(3) (b)(6) (b)(7)(c)&quot;</td><td>null</td><td>&quot;(b)(3) (b)(6) (b)(7)(c)&quot;</td><td>&quot;(b)(3) (b)(6) (b)(7)(c)&quot;</td><td>&quot;(b)(3) (b)(6) (b)(7)(c)&quot;</td><td>&quot;(b)(3) (b)(6) (b)(7)(c)&quot;</td><td>&quot;(b)(3) (b)(6) (b)(7)(c)&quot;</td><td>null</td><td>null</td><td>null</td><td>&quot;(b)(3) (b)(6) (b)(7)(c)&quot;</td><td>&quot;(b)(3) (b)(6) (b)(7)(c)&quot;</td><td>&quot;(b)(3) (b)(6) (b)(7)(c)&quot;</td><td>2023</td></tr><tr><td>&quot;(b)(3) (b)(6) (b)(7)(c)&quot;</td><td>&quot;(b)(3) (b)(6) (b)(7)(c)&quot;</td><td>null</td><td>&quot;(b)(3) (b)(6) (b)(7)(c)&quot;</td><td>&quot;(b)(3) (b)(6) (b)(7)(c)&quot;</td><td>null</td><td>&quot;(b)(3) (b)(6) (b)(7)(c)&quot;</td><td>&quot;(b)(3) (b)(6) (b)(7)(c)&quot;</td><td>&quot;(b)(3) (b)(6) (b)(7)(c)&quot;</td><td>&quot;(b)(3) (b)(6) (b)(7)(c)&quot;</td><td>null</td><td>&quot;(b)(3) (b)(6) (b)(7)(c)&quot;</td><td>null</td><td>&quot;(b)(3) (b)(6) (b)(7)(c)&quot;</td><td>&quot;(b)(3) (b)(6) (b)(7)(c)&quot;</td><td>&quot;(b)(3) (b)(6) (b)(7)(c)&quot;</td><td>&quot;(b)(3) (b)(6) (b)(7)(c)&quot;</td><td>&quot;(b)(3) (b)(6) (b)(7)(c)&quot;</td><td>&quot;(b)(3) (b)(6) (b)(7)(c)&quot;</td><td>&quot;(b)(3) (b)(6) (b)(7)(c)&quot;</td><td>null</td><td>&quot;(b)(3) (b)(6) (b)(7)(c)&quot;</td><td>&quot;(b)(3) (b)(6) (b)(7)(c)&quot;</td><td>&quot;(b)(3) (b)(6) (b)(7)(c)&quot;</td><td>&quot;(b)(3) (b)(6) (b)(7)(c)&quot;</td><td>&quot;(b)(3) (b)(6) (b)(7)(c)&quot;</td><td>&quot;(b)(3) (b)(6) (b)(7)(c)&quot;</td><td>&quot;(b)(3) (b)(6) (b)(7)(c)&quot;</td><td>null</td><td>&quot;(b)(3) (b)(6) (b)(7)(c)&quot;</td><td>null</td><td>&quot;(b)(3) (b)(6) (b)(7)(c)&quot;</td><td>&quot;(b)(3) (b)(6) (b)(7)(c)&quot;</td><td>&quot;(b)(3) (b)(6) (b)(7)(c)&quot;</td><td>null</td><td>&quot;(b)(3) (b)(6) (b)(7)(c)&quot;</td><td>&quot;(b)(3) (b)(6) (b)(7)(c)&quot;</td><td>&quot;(b)(3) (b)(6) (b)(7)(c)&quot;</td><td>&quot;(b)(3) (b)(6) (b)(7)(c)&quot;</td><td>&quot;(b)(3) (b)(6) (b)(7)(c)&quot;</td><td>null</td><td>null</td><td>null</td><td>&quot;(b)(3) (b)(6) (b)(7)(c)&quot;</td><td>&quot;(b)(3) (b)(6) (b)(7)(c)&quot;</td><td>&quot;(b)(3) (b)(6) (b)(7)(c)&quot;</td><td>2023</td></tr><tr><td>&quot;(b)(3) (b)(6) (b)(7)(c)&quot;</td><td>&quot;(b)(3) (b)(6) (b)(7)(c)&quot;</td><td>null</td><td>&quot;(b)(3) (b)(6) (b)(7)(c)&quot;</td><td>&quot;(b)(3) (b)(6) (b)(7)(c)&quot;</td><td>null</td><td>&quot;(b)(3) (b)(6) (b)(7)(c)&quot;</td><td>&quot;(b)(3) (b)(6) (b)(7)(c)&quot;</td><td>&quot;(b)(3) (b)(6) (b)(7)(c)&quot;</td><td>&quot;(b)(3) (b)(6) (b)(7)(c)&quot;</td><td>null</td><td>&quot;(b)(3) (b)(6) (b)(7)(c)&quot;</td><td>null</td><td>&quot;(b)(3) (b)(6) (b)(7)(c)&quot;</td><td>&quot;(b)(3) (b)(6) (b)(7)(c)&quot;</td><td>&quot;(b)(3) (b)(6) (b)(7)(c)&quot;</td><td>&quot;(b)(3) (b)(6) (b)(7)(c)&quot;</td><td>&quot;(b)(3) (b)(6) (b)(7)(c)&quot;</td><td>&quot;(b)(3) (b)(6) (b)(7)(c)&quot;</td><td>&quot;(b)(3) (b)(6) (b)(7)(c)&quot;</td><td>null</td><td>&quot;(b)(3) (b)(6) (b)(7)(c)&quot;</td><td>&quot;(b)(3) (b)(6) (b)(7)(c)&quot;</td><td>&quot;(b)(3) (b)(6) (b)(7)(c)&quot;</td><td>&quot;(b)(3) (b)(6) (b)(7)(c)&quot;</td><td>&quot;(b)(3) (b)(6) (b)(7)(c)&quot;</td><td>&quot;(b)(3) (b)(6) (b)(7)(c)&quot;</td><td>&quot;(b)(3) (b)(6) (b)(7)(c)&quot;</td><td>null</td><td>&quot;(b)(3) (b)(6) (b)(7)(c)&quot;</td><td>null</td><td>&quot;(b)(3) (b)(6) (b)(7)(c)&quot;</td><td>&quot;(b)(3) (b)(6) (b)(7)(c)&quot;</td><td>&quot;(b)(3) (b)(6) (b)(7)(c)&quot;</td><td>null</td><td>&quot;(b)(3) (b)(6) (b)(7)(c)&quot;</td><td>&quot;(b)(3) (b)(6) (b)(7)(c)&quot;</td><td>&quot;(b)(3) (b)(6) (b)(7)(c)&quot;</td><td>&quot;(b)(3) (b)(6) (b)(7)(c)&quot;</td><td>&quot;(b)(3) (b)(6) (b)(7)(c)&quot;</td><td>null</td><td>null</td><td>null</td><td>&quot;(b)(3) (b)(6) (b)(7)(c)&quot;</td><td>&quot;(b)(3) (b)(6) (b)(7)(c)&quot;</td><td>&quot;(b)(3) (b)(6) (b)(7)(c)&quot;</td><td>2023</td></tr><tr><td>&hellip;</td><td>&hellip;</td><td>&hellip;</td><td>&hellip;</td><td>&hellip;</td><td>&hellip;</td><td>&hellip;</td><td>&hellip;</td><td>&hellip;</td><td>&hellip;</td><td>&hellip;</td><td>&hellip;</td><td>&hellip;</td><td>&hellip;</td><td>&hellip;</td><td>&hellip;</td><td>&hellip;</td><td>&hellip;</td><td>&hellip;</td><td>&hellip;</td><td>&hellip;</td><td>&hellip;</td><td>&hellip;</td><td>&hellip;</td><td>&hellip;</td><td>&hellip;</td><td>&hellip;</td><td>&hellip;</td><td>&hellip;</td><td>&hellip;</td><td>&hellip;</td><td>&hellip;</td><td>&hellip;</td><td>&hellip;</td><td>&hellip;</td><td>&hellip;</td><td>&hellip;</td><td>&hellip;</td><td>&hellip;</td><td>&hellip;</td><td>&hellip;</td><td>&hellip;</td><td>&hellip;</td><td>&hellip;</td><td>&hellip;</td><td>&hellip;</td><td>&hellip;</td></tr><tr><td>&quot;ZZK&quot;</td><td>&quot;KOR&quot;</td><td>1999</td><td>&quot;male&quot;</td><td>&quot;Antra Inc.&quot;</td><td>261765515</td><td>&quot;21355 Ridgetop Cir&quot;</td><td>&quot;Dulles&quot;</td><td>&quot;VA&quot;</td><td>&quot;20166-8500&quot;</td><td>2023</td><td>&quot;ELIGIBLE&quot;</td><td>0</td><td>null</td><td>null</td><td>null</td><td>null</td><td>null</td><td>null</td><td>null</td><td>null</td><td>null</td><td>null</td><td>null</td><td>null</td><td>null</td><td>null</td><td>null</td><td>null</td><td>null</td><td>null</td><td>null</td><td>null</td><td>null</td><td>null</td><td>null</td><td>null</td><td>null</td><td>null</td><td>null</td><td>null</td><td>null</td><td>null</td><td>null</td><td>null</td><td>null</td><td>2023</td></tr><tr><td>&quot;ZZK&quot;</td><td>&quot;KOR&quot;</td><td>1999</td><td>&quot;male&quot;</td><td>&quot;Box, Inc.&quot;</td><td>202714444</td><td>&quot;900 Jefferson Ave.&quot;</td><td>&quot;Redwood City&quot;</td><td>&quot;CA&quot;</td><td>&quot;94063&quot;</td><td>2023</td><td>&quot;ELIGIBLE&quot;</td><td>0</td><td>null</td><td>null</td><td>null</td><td>null</td><td>null</td><td>null</td><td>null</td><td>null</td><td>null</td><td>null</td><td>null</td><td>null</td><td>null</td><td>null</td><td>null</td><td>null</td><td>null</td><td>null</td><td>null</td><td>null</td><td>null</td><td>null</td><td>null</td><td>null</td><td>null</td><td>null</td><td>null</td><td>null</td><td>null</td><td>null</td><td>null</td><td>null</td><td>null</td><td>2023</td></tr><tr><td>&quot;ZZK&quot;</td><td>&quot;PRK&quot;</td><td>1986</td><td>&quot;female&quot;</td><td>&quot;ATKINS NORTH AMERICA INC&quot;</td><td>590896138</td><td>&quot;4030 W Boy Scout Blvd&quot;</td><td>&quot;Tampa&quot;</td><td>&quot;FL&quot;</td><td>&quot;33607-5713&quot;</td><td>2021</td><td>&quot;SELECTED&quot;</td><td>0</td><td>&quot;9/29/2020&quot;</td><td>&quot;Approved&quot;</td><td>&quot;11/24/2020&quot;</td><td>&quot;ATKINS NORTH AMERICA INC&quot;</td><td>&quot;1B1&quot;</td><td>&quot;A&quot;</td><td>&quot;B&quot;</td><td>1</td><td>&quot;F&quot;</td><td>&quot;KOREA&quot;</td><td>&quot;F1&quot;</td><td>&quot;WATER RESOURCE ENGINEER II&quot;</td><td>&quot;16430 N SCOTTDALE RD STE 250&quot;</td><td>&quot;SCOTTSDALE&quot;</td><td>&quot;AZ&quot;</td><td>85254</td><td>null</td><td>null</td><td>null</td><td>&quot;11/24/2020&quot;</td><td>&quot;9/30/2023&quot;</td><td>0</td><td>&quot;N&quot;</td><td>null</td><td>&quot;I&quot;</td><td>&quot;DOCTORATE DEGREE&quot;</td><td>&quot;CIVIL ENVIRONMENTAL AND SUSTAI&quot;</td><td>&quot;69972.0&quot;</td><td>5</td><td>541330</td><td>&quot;B&quot;</td><td>&quot;N&quot;</td><td>null</td><td>2021</td></tr><tr><td>&quot;ZZK&quot;</td><td>&quot;PRK&quot;</td><td>1992</td><td>&quot;male&quot;</td><td>&quot;Liberty Distribution, LLC&quot;</td><td>823735977</td><td>&quot;4370 Varsity Dr&quot;</td><td>&quot;Ann Arbor&quot;</td><td>&quot;MI&quot;</td><td>&quot;48108-2359&quot;</td><td>2022</td><td>&quot;SELECTED&quot;</td><td>0</td><td>null</td><td>null</td><td>null</td><td>null</td><td>null</td><td>null</td><td>null</td><td>null</td><td>null</td><td>null</td><td>null</td><td>null</td><td>null</td><td>null</td><td>null</td><td>null</td><td>null</td><td>null</td><td>null</td><td>null</td><td>null</td><td>null</td><td>null</td><td>null</td><td>null</td><td>null</td><td>null</td><td>null</td><td>null</td><td>null</td><td>null</td><td>null</td><td>null</td><td>2022</td></tr><tr><td>&quot;ZZK&quot;</td><td>&quot;PRK&quot;</td><td>1994</td><td>&quot;female&quot;</td><td>&quot;HCL America Solutions Inc&quot;</td><td>455639284</td><td>&quot;330 Potrero Avenue&quot;</td><td>&quot;Sunnyvale&quot;</td><td>&quot;CA&quot;</td><td>&quot;94085&quot;</td><td>2022</td><td>&quot;ELIGIBLE&quot;</td><td>0</td><td>null</td><td>null</td><td>null</td><td>null</td><td>null</td><td>null</td><td>null</td><td>null</td><td>null</td><td>null</td><td>null</td><td>null</td><td>null</td><td>null</td><td>null</td><td>null</td><td>null</td><td>null</td><td>null</td><td>null</td><td>null</td><td>null</td><td>null</td><td>null</td><td>null</td><td>null</td><td>null</td><td>null</td><td>null</td><td>null</td><td>null</td><td>null</td><td>null</td><td>2022</td></tr></tbody></table></div>"
      ],
      "text/plain": [
       "shape: (1_045_292, 47)\n",
       "┌───────────┬───────────┬───────────┬───────────┬───┬───────────┬───────────┬───────────┬──────────┐\n",
       "│ country_o ┆ country_o ┆ ben_year_ ┆ gender    ┆ … ┆ s3q1      ┆ s4q1      ┆ t_u_vawa_ ┆ fiscal_y │\n",
       "│ f_birth   ┆ f_nationa ┆ of_birth  ┆ ---       ┆   ┆ ---       ┆ ---       ┆ flag      ┆ ear      │\n",
       "│ ---       ┆ lity      ┆ ---       ┆ str       ┆   ┆ str       ┆ str       ┆ ---       ┆ ---      │\n",
       "│ str       ┆ ---       ┆ i64       ┆           ┆   ┆           ┆           ┆ str       ┆ i32      │\n",
       "│           ┆ str       ┆           ┆           ┆   ┆           ┆           ┆           ┆          │\n",
       "╞═══════════╪═══════════╪═══════════╪═══════════╪═══╪═══════════╪═══════════╪═══════════╪══════════╡\n",
       "│ (b)(3)    ┆ (b)(3)    ┆ null      ┆ (b)(3)    ┆ … ┆ (b)(3)    ┆ (b)(3)    ┆ (b)(3)    ┆ 2023     │\n",
       "│ (b)(6)    ┆ (b)(6)    ┆           ┆ (b)(6)    ┆   ┆ (b)(6)    ┆ (b)(6)    ┆ (b)(6)    ┆          │\n",
       "│ (b)(7)(c) ┆ (b)(7)(c) ┆           ┆ (b)(7)(c) ┆   ┆ (b)(7)(c) ┆ (b)(7)(c) ┆ (b)(7)(c) ┆          │\n",
       "│ (b)(3)    ┆ (b)(3)    ┆ null      ┆ (b)(3)    ┆ … ┆ (b)(3)    ┆ (b)(3)    ┆ (b)(3)    ┆ 2023     │\n",
       "│ (b)(6)    ┆ (b)(6)    ┆           ┆ (b)(6)    ┆   ┆ (b)(6)    ┆ (b)(6)    ┆ (b)(6)    ┆          │\n",
       "│ (b)(7)(c) ┆ (b)(7)(c) ┆           ┆ (b)(7)(c) ┆   ┆ (b)(7)(c) ┆ (b)(7)(c) ┆ (b)(7)(c) ┆          │\n",
       "│ (b)(3)    ┆ (b)(3)    ┆ null      ┆ (b)(3)    ┆ … ┆ (b)(3)    ┆ (b)(3)    ┆ (b)(3)    ┆ 2023     │\n",
       "│ (b)(6)    ┆ (b)(6)    ┆           ┆ (b)(6)    ┆   ┆ (b)(6)    ┆ (b)(6)    ┆ (b)(6)    ┆          │\n",
       "│ (b)(7)(c) ┆ (b)(7)(c) ┆           ┆ (b)(7)(c) ┆   ┆ (b)(7)(c) ┆ (b)(7)(c) ┆ (b)(7)(c) ┆          │\n",
       "│ (b)(3)    ┆ (b)(3)    ┆ null      ┆ (b)(3)    ┆ … ┆ (b)(3)    ┆ (b)(3)    ┆ (b)(3)    ┆ 2023     │\n",
       "│ (b)(6)    ┆ (b)(6)    ┆           ┆ (b)(6)    ┆   ┆ (b)(6)    ┆ (b)(6)    ┆ (b)(6)    ┆          │\n",
       "│ (b)(7)(c) ┆ (b)(7)(c) ┆           ┆ (b)(7)(c) ┆   ┆ (b)(7)(c) ┆ (b)(7)(c) ┆ (b)(7)(c) ┆          │\n",
       "│ (b)(3)    ┆ (b)(3)    ┆ null      ┆ (b)(3)    ┆ … ┆ (b)(3)    ┆ (b)(3)    ┆ (b)(3)    ┆ 2023     │\n",
       "│ (b)(6)    ┆ (b)(6)    ┆           ┆ (b)(6)    ┆   ┆ (b)(6)    ┆ (b)(6)    ┆ (b)(6)    ┆          │\n",
       "│ (b)(7)(c) ┆ (b)(7)(c) ┆           ┆ (b)(7)(c) ┆   ┆ (b)(7)(c) ┆ (b)(7)(c) ┆ (b)(7)(c) ┆          │\n",
       "│ …         ┆ …         ┆ …         ┆ …         ┆ … ┆ …         ┆ …         ┆ …         ┆ …        │\n",
       "│ ZZK       ┆ KOR       ┆ 1999      ┆ male      ┆ … ┆ null      ┆ null      ┆ null      ┆ 2023     │\n",
       "│ ZZK       ┆ KOR       ┆ 1999      ┆ male      ┆ … ┆ null      ┆ null      ┆ null      ┆ 2023     │\n",
       "│ ZZK       ┆ PRK       ┆ 1986      ┆ female    ┆ … ┆ B         ┆ N         ┆ null      ┆ 2021     │\n",
       "│ ZZK       ┆ PRK       ┆ 1992      ┆ male      ┆ … ┆ null      ┆ null      ┆ null      ┆ 2022     │\n",
       "│ ZZK       ┆ PRK       ┆ 1994      ┆ female    ┆ … ┆ null      ┆ null      ┆ null      ┆ 2022     │\n",
       "└───────────┴───────────┴───────────┴───────────┴───┴───────────┴───────────┴───────────┴──────────┘"
      ]
     },
     "execution_count": 1086,
     "metadata": {},
     "output_type": "execute_result"
    }
   ],
   "source": [
    "combined_df"
   ]
  },
  {
   "cell_type": "code",
   "execution_count": 1087,
   "metadata": {},
   "outputs": [
    {
     "data": {
      "text/html": [
       "<div>\n",
       "<style scoped>\n",
       "    .dataframe tbody tr th:only-of-type {\n",
       "        vertical-align: middle;\n",
       "    }\n",
       "\n",
       "    .dataframe tbody tr th {\n",
       "        vertical-align: top;\n",
       "    }\n",
       "\n",
       "    .dataframe thead th {\n",
       "        text-align: right;\n",
       "    }\n",
       "</style>\n",
       "<table border=\"1\" class=\"dataframe\">\n",
       "  <thead>\n",
       "    <tr style=\"text-align: right;\">\n",
       "      <th></th>\n",
       "      <th>country_of_birth</th>\n",
       "      <th>country_of_nationality</th>\n",
       "      <th>ben_year_of_birth</th>\n",
       "      <th>gender</th>\n",
       "      <th>employer_name</th>\n",
       "      <th>fein</th>\n",
       "      <th>mail_addr</th>\n",
       "      <th>city</th>\n",
       "      <th>state</th>\n",
       "      <th>zip</th>\n",
       "      <th>...</th>\n",
       "      <th>ben_education_code</th>\n",
       "      <th>ed_level_definition</th>\n",
       "      <th>ben_pfield_of_study</th>\n",
       "      <th>ben_comp_paid</th>\n",
       "      <th>dot_code</th>\n",
       "      <th>naics_code</th>\n",
       "      <th>s3q1</th>\n",
       "      <th>s4q1</th>\n",
       "      <th>t_u_vawa_flag</th>\n",
       "      <th>fiscal_year</th>\n",
       "    </tr>\n",
       "  </thead>\n",
       "  <tbody>\n",
       "    <tr>\n",
       "      <th>112</th>\n",
       "      <td>ABW</td>\n",
       "      <td>NLD</td>\n",
       "      <td>1979.0</td>\n",
       "      <td>female</td>\n",
       "      <td>HUBSPOT, INC</td>\n",
       "      <td>202632791.0</td>\n",
       "      <td>25 First Street</td>\n",
       "      <td>Cambridge</td>\n",
       "      <td>MA</td>\n",
       "      <td>02141</td>\n",
       "      <td>...</td>\n",
       "      <td>None</td>\n",
       "      <td>None</td>\n",
       "      <td>None</td>\n",
       "      <td>None</td>\n",
       "      <td>NaN</td>\n",
       "      <td>NaN</td>\n",
       "      <td>None</td>\n",
       "      <td>None</td>\n",
       "      <td>None</td>\n",
       "      <td>2023</td>\n",
       "    </tr>\n",
       "    <tr>\n",
       "      <th>113</th>\n",
       "      <td>ABW</td>\n",
       "      <td>NLD</td>\n",
       "      <td>1982.0</td>\n",
       "      <td>female</td>\n",
       "      <td>Schlumberger Technology Corporation</td>\n",
       "      <td>221692661.0</td>\n",
       "      <td>3600 Briarpark Dr</td>\n",
       "      <td>Houston</td>\n",
       "      <td>TX</td>\n",
       "      <td>77042-5206</td>\n",
       "      <td>...</td>\n",
       "      <td>None</td>\n",
       "      <td>None</td>\n",
       "      <td>None</td>\n",
       "      <td>None</td>\n",
       "      <td>NaN</td>\n",
       "      <td>NaN</td>\n",
       "      <td>None</td>\n",
       "      <td>None</td>\n",
       "      <td>None</td>\n",
       "      <td>2021</td>\n",
       "    </tr>\n",
       "    <tr>\n",
       "      <th>114</th>\n",
       "      <td>ABW</td>\n",
       "      <td>NLD</td>\n",
       "      <td>1982.0</td>\n",
       "      <td>female</td>\n",
       "      <td>Schlumberger Technology Corporation</td>\n",
       "      <td>221692661.0</td>\n",
       "      <td>3600 Briarpark Dr</td>\n",
       "      <td>Houston</td>\n",
       "      <td>TX</td>\n",
       "      <td>77042-5206</td>\n",
       "      <td>...</td>\n",
       "      <td>None</td>\n",
       "      <td>None</td>\n",
       "      <td>None</td>\n",
       "      <td>None</td>\n",
       "      <td>NaN</td>\n",
       "      <td>NaN</td>\n",
       "      <td>None</td>\n",
       "      <td>None</td>\n",
       "      <td>None</td>\n",
       "      <td>2022</td>\n",
       "    </tr>\n",
       "    <tr>\n",
       "      <th>115</th>\n",
       "      <td>ABW</td>\n",
       "      <td>NLD</td>\n",
       "      <td>1982.0</td>\n",
       "      <td>female</td>\n",
       "      <td>Schlumberger Technology Corporation</td>\n",
       "      <td>221692661.0</td>\n",
       "      <td>3600 Briarpark Dr</td>\n",
       "      <td>Houston</td>\n",
       "      <td>TX</td>\n",
       "      <td>77042-5206</td>\n",
       "      <td>...</td>\n",
       "      <td>None</td>\n",
       "      <td>None</td>\n",
       "      <td>None</td>\n",
       "      <td>None</td>\n",
       "      <td>NaN</td>\n",
       "      <td>NaN</td>\n",
       "      <td>None</td>\n",
       "      <td>None</td>\n",
       "      <td>None</td>\n",
       "      <td>2023</td>\n",
       "    </tr>\n",
       "    <tr>\n",
       "      <th>116</th>\n",
       "      <td>ABW</td>\n",
       "      <td>NLD</td>\n",
       "      <td>1982.0</td>\n",
       "      <td>male</td>\n",
       "      <td>Vanderlande Industries, Inc.</td>\n",
       "      <td>980182968.0</td>\n",
       "      <td>1975  West Oak Circle</td>\n",
       "      <td>Marietta</td>\n",
       "      <td>GA</td>\n",
       "      <td>30062</td>\n",
       "      <td>...</td>\n",
       "      <td>None</td>\n",
       "      <td>None</td>\n",
       "      <td>None</td>\n",
       "      <td>None</td>\n",
       "      <td>NaN</td>\n",
       "      <td>NaN</td>\n",
       "      <td>None</td>\n",
       "      <td>None</td>\n",
       "      <td>None</td>\n",
       "      <td>2023</td>\n",
       "    </tr>\n",
       "  </tbody>\n",
       "</table>\n",
       "<p>5 rows × 47 columns</p>\n",
       "</div>"
      ],
      "text/plain": [
       "    country_of_birth country_of_nationality  ben_year_of_birth  gender  \\\n",
       "112              ABW                    NLD             1979.0  female   \n",
       "113              ABW                    NLD             1982.0  female   \n",
       "114              ABW                    NLD             1982.0  female   \n",
       "115              ABW                    NLD             1982.0  female   \n",
       "116              ABW                    NLD             1982.0    male   \n",
       "\n",
       "                           employer_name         fein              mail_addr  \\\n",
       "112                         HUBSPOT, INC  202632791.0        25 First Street   \n",
       "113  Schlumberger Technology Corporation  221692661.0      3600 Briarpark Dr   \n",
       "114  Schlumberger Technology Corporation  221692661.0      3600 Briarpark Dr   \n",
       "115  Schlumberger Technology Corporation  221692661.0      3600 Briarpark Dr   \n",
       "116         Vanderlande Industries, Inc.  980182968.0  1975  West Oak Circle   \n",
       "\n",
       "          city state         zip  ...  ben_education_code ed_level_definition  \\\n",
       "112  Cambridge    MA       02141  ...                None                None   \n",
       "113    Houston    TX  77042-5206  ...                None                None   \n",
       "114    Houston    TX  77042-5206  ...                None                None   \n",
       "115    Houston    TX  77042-5206  ...                None                None   \n",
       "116   Marietta    GA       30062  ...                None                None   \n",
       "\n",
       "     ben_pfield_of_study ben_comp_paid dot_code naics_code  s3q1  s4q1  \\\n",
       "112                 None          None      NaN        NaN  None  None   \n",
       "113                 None          None      NaN        NaN  None  None   \n",
       "114                 None          None      NaN        NaN  None  None   \n",
       "115                 None          None      NaN        NaN  None  None   \n",
       "116                 None          None      NaN        NaN  None  None   \n",
       "\n",
       "    t_u_vawa_flag fiscal_year  \n",
       "112          None        2023  \n",
       "113          None        2021  \n",
       "114          None        2022  \n",
       "115          None        2023  \n",
       "116          None        2023  \n",
       "\n",
       "[5 rows x 47 columns]"
      ]
     },
     "execution_count": 1087,
     "metadata": {},
     "output_type": "execute_result"
    }
   ],
   "source": [
    "def clean_data(combined_df_df):\n",
    "    # Filter rows based on column: 'country_of_birth'\n",
    "    combined_df_df = combined_df_df[~combined_df_df['country_of_birth'].str.contains(\"(\", regex=False, na=False, case=False)]\n",
    "    return combined_df_df\n",
    "\n",
    "# Loaded variable 'combined_df' from kernel state\n",
    "combined_df_df = combined_df.to_pandas()\n",
    "\n",
    "combined_df_df_clean = clean_data(combined_df_df.copy())\n",
    "combined_df_df_clean.head()"
   ]
  },
  {
   "cell_type": "code",
   "execution_count": 1088,
   "metadata": {},
   "outputs": [
    {
     "data": {
      "text/html": [
       "<div><style>\n",
       ".dataframe > thead > tr,\n",
       ".dataframe > tbody > tr {\n",
       "  text-align: right;\n",
       "  white-space: pre-wrap;\n",
       "}\n",
       "</style>\n",
       "<small>shape: (1_045_180, 47)</small><table border=\"1\" class=\"dataframe\"><thead><tr><th>country_of_birth</th><th>country_of_nationality</th><th>ben_year_of_birth</th><th>gender</th><th>employer_name</th><th>fein</th><th>mail_addr</th><th>city</th><th>state</th><th>zip</th><th>lottery_year</th><th>status_type</th><th>ben_multi_reg_ind</th><th>rec_date</th><th>first_decision</th><th>first_decision_date</th><th>i129_employer_name</th><th>requested_class</th><th>basis_for_classification</th><th>requested_action</th><th>number_of_beneficiaries</th><th>ben_sex</th><th>ben_country_of_birth</th><th>ben_current_class</th><th>job_title</th><th>worksite_street</th><th>worksite_city</th><th>worksite_state</th><th>worksite_zip</th><th>full_time_ind</th><th>wage_amt</th><th>wage_unit</th><th>valid_from</th><th>valid_to</th><th>num_of_emp_in_us</th><th>s1q1a</th><th>s1q1b</th><th>ben_education_code</th><th>ed_level_definition</th><th>ben_pfield_of_study</th><th>ben_comp_paid</th><th>dot_code</th><th>naics_code</th><th>s3q1</th><th>s4q1</th><th>t_u_vawa_flag</th><th>fiscal_year</th></tr><tr><td>str</td><td>str</td><td>f64</td><td>str</td><td>str</td><td>f64</td><td>str</td><td>str</td><td>str</td><td>str</td><td>f64</td><td>str</td><td>f64</td><td>str</td><td>str</td><td>str</td><td>str</td><td>str</td><td>str</td><td>str</td><td>f64</td><td>str</td><td>str</td><td>str</td><td>str</td><td>str</td><td>str</td><td>str</td><td>f64</td><td>str</td><td>str</td><td>str</td><td>str</td><td>str</td><td>f64</td><td>str</td><td>str</td><td>str</td><td>str</td><td>str</td><td>str</td><td>f64</td><td>f64</td><td>str</td><td>str</td><td>str</td><td>i32</td></tr></thead><tbody><tr><td>&quot;ABW&quot;</td><td>&quot;NLD&quot;</td><td>1979.0</td><td>&quot;female&quot;</td><td>&quot;HUBSPOT, INC&quot;</td><td>2.02632791e8</td><td>&quot;25 First Street&quot;</td><td>&quot;Cambridge&quot;</td><td>&quot;MA&quot;</td><td>&quot;02141&quot;</td><td>2023.0</td><td>&quot;ELIGIBLE&quot;</td><td>0.0</td><td>null</td><td>null</td><td>null</td><td>null</td><td>null</td><td>null</td><td>null</td><td>null</td><td>null</td><td>null</td><td>null</td><td>null</td><td>null</td><td>null</td><td>null</td><td>null</td><td>null</td><td>null</td><td>null</td><td>null</td><td>null</td><td>null</td><td>null</td><td>null</td><td>null</td><td>null</td><td>null</td><td>null</td><td>null</td><td>null</td><td>null</td><td>null</td><td>null</td><td>2023</td></tr><tr><td>&quot;ABW&quot;</td><td>&quot;NLD&quot;</td><td>1982.0</td><td>&quot;female&quot;</td><td>&quot;Schlumberger Technology Corpor…</td><td>2.21692661e8</td><td>&quot;3600 Briarpark Dr&quot;</td><td>&quot;Houston&quot;</td><td>&quot;TX&quot;</td><td>&quot;77042-5206&quot;</td><td>2021.0</td><td>&quot;CREATED&quot;</td><td>0.0</td><td>null</td><td>null</td><td>null</td><td>null</td><td>null</td><td>null</td><td>null</td><td>null</td><td>null</td><td>null</td><td>null</td><td>null</td><td>null</td><td>null</td><td>null</td><td>null</td><td>null</td><td>null</td><td>null</td><td>null</td><td>null</td><td>null</td><td>null</td><td>null</td><td>null</td><td>null</td><td>null</td><td>null</td><td>null</td><td>null</td><td>null</td><td>null</td><td>null</td><td>2021</td></tr><tr><td>&quot;ABW&quot;</td><td>&quot;NLD&quot;</td><td>1982.0</td><td>&quot;female&quot;</td><td>&quot;Schlumberger Technology Corpor…</td><td>2.21692661e8</td><td>&quot;3600 Briarpark Dr&quot;</td><td>&quot;Houston&quot;</td><td>&quot;TX&quot;</td><td>&quot;77042-5206&quot;</td><td>2022.0</td><td>&quot;ELIGIBLE&quot;</td><td>0.0</td><td>null</td><td>null</td><td>null</td><td>null</td><td>null</td><td>null</td><td>null</td><td>null</td><td>null</td><td>null</td><td>null</td><td>null</td><td>null</td><td>null</td><td>null</td><td>null</td><td>null</td><td>null</td><td>null</td><td>null</td><td>null</td><td>null</td><td>null</td><td>null</td><td>null</td><td>null</td><td>null</td><td>null</td><td>null</td><td>null</td><td>null</td><td>null</td><td>null</td><td>2022</td></tr><tr><td>&quot;ABW&quot;</td><td>&quot;NLD&quot;</td><td>1982.0</td><td>&quot;female&quot;</td><td>&quot;Schlumberger Technology Corpor…</td><td>2.21692661e8</td><td>&quot;3600 Briarpark Dr&quot;</td><td>&quot;Houston&quot;</td><td>&quot;TX&quot;</td><td>&quot;77042-5206&quot;</td><td>2023.0</td><td>&quot;ELIGIBLE&quot;</td><td>0.0</td><td>null</td><td>null</td><td>null</td><td>null</td><td>null</td><td>null</td><td>null</td><td>null</td><td>null</td><td>null</td><td>null</td><td>null</td><td>null</td><td>null</td><td>null</td><td>null</td><td>null</td><td>null</td><td>null</td><td>null</td><td>null</td><td>null</td><td>null</td><td>null</td><td>null</td><td>null</td><td>null</td><td>null</td><td>null</td><td>null</td><td>null</td><td>null</td><td>null</td><td>2023</td></tr><tr><td>&quot;ABW&quot;</td><td>&quot;NLD&quot;</td><td>1982.0</td><td>&quot;male&quot;</td><td>&quot;Vanderlande Industries, Inc.&quot;</td><td>9.80182968e8</td><td>&quot;1975&nbsp;&nbsp;West Oak Circle&quot;</td><td>&quot;Marietta&quot;</td><td>&quot;GA&quot;</td><td>&quot;30062&quot;</td><td>2023.0</td><td>&quot;ELIGIBLE&quot;</td><td>0.0</td><td>null</td><td>null</td><td>null</td><td>null</td><td>null</td><td>null</td><td>null</td><td>null</td><td>null</td><td>null</td><td>null</td><td>null</td><td>null</td><td>null</td><td>null</td><td>null</td><td>null</td><td>null</td><td>null</td><td>null</td><td>null</td><td>null</td><td>null</td><td>null</td><td>null</td><td>null</td><td>null</td><td>null</td><td>null</td><td>null</td><td>null</td><td>null</td><td>null</td><td>2023</td></tr><tr><td>&hellip;</td><td>&hellip;</td><td>&hellip;</td><td>&hellip;</td><td>&hellip;</td><td>&hellip;</td><td>&hellip;</td><td>&hellip;</td><td>&hellip;</td><td>&hellip;</td><td>&hellip;</td><td>&hellip;</td><td>&hellip;</td><td>&hellip;</td><td>&hellip;</td><td>&hellip;</td><td>&hellip;</td><td>&hellip;</td><td>&hellip;</td><td>&hellip;</td><td>&hellip;</td><td>&hellip;</td><td>&hellip;</td><td>&hellip;</td><td>&hellip;</td><td>&hellip;</td><td>&hellip;</td><td>&hellip;</td><td>&hellip;</td><td>&hellip;</td><td>&hellip;</td><td>&hellip;</td><td>&hellip;</td><td>&hellip;</td><td>&hellip;</td><td>&hellip;</td><td>&hellip;</td><td>&hellip;</td><td>&hellip;</td><td>&hellip;</td><td>&hellip;</td><td>&hellip;</td><td>&hellip;</td><td>&hellip;</td><td>&hellip;</td><td>&hellip;</td><td>&hellip;</td></tr><tr><td>&quot;ZZK&quot;</td><td>&quot;KOR&quot;</td><td>1999.0</td><td>&quot;male&quot;</td><td>&quot;Antra Inc.&quot;</td><td>2.61765515e8</td><td>&quot;21355 Ridgetop Cir&quot;</td><td>&quot;Dulles&quot;</td><td>&quot;VA&quot;</td><td>&quot;20166-8500&quot;</td><td>2023.0</td><td>&quot;ELIGIBLE&quot;</td><td>0.0</td><td>null</td><td>null</td><td>null</td><td>null</td><td>null</td><td>null</td><td>null</td><td>null</td><td>null</td><td>null</td><td>null</td><td>null</td><td>null</td><td>null</td><td>null</td><td>null</td><td>null</td><td>null</td><td>null</td><td>null</td><td>null</td><td>null</td><td>null</td><td>null</td><td>null</td><td>null</td><td>null</td><td>null</td><td>null</td><td>null</td><td>null</td><td>null</td><td>null</td><td>2023</td></tr><tr><td>&quot;ZZK&quot;</td><td>&quot;KOR&quot;</td><td>1999.0</td><td>&quot;male&quot;</td><td>&quot;Box, Inc.&quot;</td><td>2.02714444e8</td><td>&quot;900 Jefferson Ave.&quot;</td><td>&quot;Redwood City&quot;</td><td>&quot;CA&quot;</td><td>&quot;94063&quot;</td><td>2023.0</td><td>&quot;ELIGIBLE&quot;</td><td>0.0</td><td>null</td><td>null</td><td>null</td><td>null</td><td>null</td><td>null</td><td>null</td><td>null</td><td>null</td><td>null</td><td>null</td><td>null</td><td>null</td><td>null</td><td>null</td><td>null</td><td>null</td><td>null</td><td>null</td><td>null</td><td>null</td><td>null</td><td>null</td><td>null</td><td>null</td><td>null</td><td>null</td><td>null</td><td>null</td><td>null</td><td>null</td><td>null</td><td>null</td><td>2023</td></tr><tr><td>&quot;ZZK&quot;</td><td>&quot;PRK&quot;</td><td>1986.0</td><td>&quot;female&quot;</td><td>&quot;ATKINS NORTH AMERICA INC&quot;</td><td>5.90896138e8</td><td>&quot;4030 W Boy Scout Blvd&quot;</td><td>&quot;Tampa&quot;</td><td>&quot;FL&quot;</td><td>&quot;33607-5713&quot;</td><td>2021.0</td><td>&quot;SELECTED&quot;</td><td>0.0</td><td>&quot;9/29/2020&quot;</td><td>&quot;Approved&quot;</td><td>&quot;11/24/2020&quot;</td><td>&quot;ATKINS NORTH AMERICA INC&quot;</td><td>&quot;1B1&quot;</td><td>&quot;A&quot;</td><td>&quot;B&quot;</td><td>1.0</td><td>&quot;F&quot;</td><td>&quot;KOREA&quot;</td><td>&quot;F1&quot;</td><td>&quot;WATER RESOURCE ENGINEER II&quot;</td><td>&quot;16430 N SCOTTDALE RD STE 250&quot;</td><td>&quot;SCOTTSDALE&quot;</td><td>&quot;AZ&quot;</td><td>85254.0</td><td>null</td><td>null</td><td>null</td><td>&quot;11/24/2020&quot;</td><td>&quot;9/30/2023&quot;</td><td>0.0</td><td>&quot;N&quot;</td><td>null</td><td>&quot;I&quot;</td><td>&quot;DOCTORATE DEGREE&quot;</td><td>&quot;CIVIL ENVIRONMENTAL AND SUSTAI&quot;</td><td>&quot;69972.0&quot;</td><td>5.0</td><td>541330.0</td><td>&quot;B&quot;</td><td>&quot;N&quot;</td><td>null</td><td>2021</td></tr><tr><td>&quot;ZZK&quot;</td><td>&quot;PRK&quot;</td><td>1992.0</td><td>&quot;male&quot;</td><td>&quot;Liberty Distribution, LLC&quot;</td><td>8.23735977e8</td><td>&quot;4370 Varsity Dr&quot;</td><td>&quot;Ann Arbor&quot;</td><td>&quot;MI&quot;</td><td>&quot;48108-2359&quot;</td><td>2022.0</td><td>&quot;SELECTED&quot;</td><td>0.0</td><td>null</td><td>null</td><td>null</td><td>null</td><td>null</td><td>null</td><td>null</td><td>null</td><td>null</td><td>null</td><td>null</td><td>null</td><td>null</td><td>null</td><td>null</td><td>null</td><td>null</td><td>null</td><td>null</td><td>null</td><td>null</td><td>null</td><td>null</td><td>null</td><td>null</td><td>null</td><td>null</td><td>null</td><td>null</td><td>null</td><td>null</td><td>null</td><td>null</td><td>2022</td></tr><tr><td>&quot;ZZK&quot;</td><td>&quot;PRK&quot;</td><td>1994.0</td><td>&quot;female&quot;</td><td>&quot;HCL America Solutions Inc&quot;</td><td>4.55639284e8</td><td>&quot;330 Potrero Avenue&quot;</td><td>&quot;Sunnyvale&quot;</td><td>&quot;CA&quot;</td><td>&quot;94085&quot;</td><td>2022.0</td><td>&quot;ELIGIBLE&quot;</td><td>0.0</td><td>null</td><td>null</td><td>null</td><td>null</td><td>null</td><td>null</td><td>null</td><td>null</td><td>null</td><td>null</td><td>null</td><td>null</td><td>null</td><td>null</td><td>null</td><td>null</td><td>null</td><td>null</td><td>null</td><td>null</td><td>null</td><td>null</td><td>null</td><td>null</td><td>null</td><td>null</td><td>null</td><td>null</td><td>null</td><td>null</td><td>null</td><td>null</td><td>null</td><td>2022</td></tr></tbody></table></div>"
      ],
      "text/plain": [
       "shape: (1_045_180, 47)\n",
       "┌──────────────┬──────────────┬─────────────┬────────┬───┬──────┬──────┬─────────────┬─────────────┐\n",
       "│ country_of_b ┆ country_of_n ┆ ben_year_of ┆ gender ┆ … ┆ s3q1 ┆ s4q1 ┆ t_u_vawa_fl ┆ fiscal_year │\n",
       "│ irth         ┆ ationality   ┆ _birth      ┆ ---    ┆   ┆ ---  ┆ ---  ┆ ag          ┆ ---         │\n",
       "│ ---          ┆ ---          ┆ ---         ┆ str    ┆   ┆ str  ┆ str  ┆ ---         ┆ i32         │\n",
       "│ str          ┆ str          ┆ f64         ┆        ┆   ┆      ┆      ┆ str         ┆             │\n",
       "╞══════════════╪══════════════╪═════════════╪════════╪═══╪══════╪══════╪═════════════╪═════════════╡\n",
       "│ ABW          ┆ NLD          ┆ 1979.0      ┆ female ┆ … ┆ null ┆ null ┆ null        ┆ 2023        │\n",
       "│ ABW          ┆ NLD          ┆ 1982.0      ┆ female ┆ … ┆ null ┆ null ┆ null        ┆ 2021        │\n",
       "│ ABW          ┆ NLD          ┆ 1982.0      ┆ female ┆ … ┆ null ┆ null ┆ null        ┆ 2022        │\n",
       "│ ABW          ┆ NLD          ┆ 1982.0      ┆ female ┆ … ┆ null ┆ null ┆ null        ┆ 2023        │\n",
       "│ ABW          ┆ NLD          ┆ 1982.0      ┆ male   ┆ … ┆ null ┆ null ┆ null        ┆ 2023        │\n",
       "│ …            ┆ …            ┆ …           ┆ …      ┆ … ┆ …    ┆ …    ┆ …           ┆ …           │\n",
       "│ ZZK          ┆ KOR          ┆ 1999.0      ┆ male   ┆ … ┆ null ┆ null ┆ null        ┆ 2023        │\n",
       "│ ZZK          ┆ KOR          ┆ 1999.0      ┆ male   ┆ … ┆ null ┆ null ┆ null        ┆ 2023        │\n",
       "│ ZZK          ┆ PRK          ┆ 1986.0      ┆ female ┆ … ┆ B    ┆ N    ┆ null        ┆ 2021        │\n",
       "│ ZZK          ┆ PRK          ┆ 1992.0      ┆ male   ┆ … ┆ null ┆ null ┆ null        ┆ 2022        │\n",
       "│ ZZK          ┆ PRK          ┆ 1994.0      ┆ female ┆ … ┆ null ┆ null ┆ null        ┆ 2022        │\n",
       "└──────────────┴──────────────┴─────────────┴────────┴───┴──────┴──────┴─────────────┴─────────────┘"
      ]
     },
     "execution_count": 1088,
     "metadata": {},
     "output_type": "execute_result"
    }
   ],
   "source": [
    "combined_df_df_clean = pl.DataFrame(combined_df_df_clean)\n",
    "combined_df_df_clean"
   ]
  },
  {
   "cell_type": "code",
   "execution_count": 1089,
   "metadata": {},
   "outputs": [
    {
     "name": "stdout",
     "output_type": "stream",
     "text": [
      "\n",
      "Rows per fiscal year:\n",
      "shape: (3, 2)\n",
      "┌─────────────┬───────────┐\n",
      "│ fiscal_year ┆ row_count │\n",
      "│ ---         ┆ ---       │\n",
      "│ i32         ┆ u32       │\n",
      "╞═════════════╪═══════════╡\n",
      "│ 2021        ┆ 269377    │\n",
      "│ 2022        ┆ 301419    │\n",
      "│ 2023        ┆ 474384    │\n",
      "└─────────────┴───────────┘\n"
     ]
    }
   ],
   "source": [
    "# Check row counts by year\n",
    "year_counts = (\n",
    "    combined_df_df_clean\n",
    "    .group_by('fiscal_year')\n",
    "    .agg(pl.len().alias('row_count'))\n",
    "    .sort('fiscal_year')\n",
    ")\n",
    "\n",
    "print(\"\\nRows per fiscal year:\")\n",
    "print(year_counts)\n",
    "\n",
    "# Check for any duplicate rows (if there's a case_number or similar identifier)\n",
    "if 'case_number' in combined_df_df_clean.columns:\n",
    "    duplicate_cases = (\n",
    "        combined_df_df_clean\n",
    "        .group_by('case_number', 'fiscal_year')\n",
    "        .agg(pl.len().alias('count'))\n",
    "        .filter(pl.col('count') > 1)\n",
    "    )\n",
    "    \n",
    "    print(\"\\nNumber of duplicate cases:\", len(duplicate_cases))"
   ]
  },
  {
   "cell_type": "code",
   "execution_count": 1090,
   "metadata": {},
   "outputs": [
    {
     "data": {
      "text/html": [
       "<div><style>\n",
       ".dataframe > thead > tr,\n",
       ".dataframe > tbody > tr {\n",
       "  text-align: right;\n",
       "  white-space: pre-wrap;\n",
       "}\n",
       "</style>\n",
       "<small>shape: (1_045_180, 47)</small><table border=\"1\" class=\"dataframe\"><thead><tr><th>country_of_birth</th><th>country_of_nationality</th><th>ben_year_of_birth</th><th>gender</th><th>employer_name</th><th>fein</th><th>mail_addr</th><th>city</th><th>state</th><th>zip</th><th>lottery_year</th><th>status_type</th><th>ben_multi_reg_ind</th><th>rec_date</th><th>first_decision</th><th>first_decision_date</th><th>i129_employer_name</th><th>requested_class</th><th>basis_for_classification</th><th>requested_action</th><th>number_of_beneficiaries</th><th>ben_sex</th><th>ben_country_of_birth</th><th>ben_current_class</th><th>job_title</th><th>worksite_street</th><th>worksite_city</th><th>worksite_state</th><th>worksite_zip</th><th>full_time_ind</th><th>wage_amt</th><th>wage_unit</th><th>valid_from</th><th>valid_to</th><th>num_of_emp_in_us</th><th>s1q1a</th><th>s1q1b</th><th>ben_education_code</th><th>ed_level_definition</th><th>ben_pfield_of_study</th><th>ben_comp_paid</th><th>dot_code</th><th>naics_code</th><th>s3q1</th><th>s4q1</th><th>t_u_vawa_flag</th><th>fiscal_year</th></tr><tr><td>str</td><td>str</td><td>f64</td><td>str</td><td>str</td><td>f64</td><td>str</td><td>str</td><td>str</td><td>str</td><td>f64</td><td>str</td><td>f64</td><td>str</td><td>str</td><td>str</td><td>str</td><td>str</td><td>str</td><td>str</td><td>f64</td><td>str</td><td>str</td><td>str</td><td>str</td><td>str</td><td>str</td><td>str</td><td>f64</td><td>str</td><td>str</td><td>str</td><td>str</td><td>str</td><td>f64</td><td>str</td><td>str</td><td>str</td><td>str</td><td>str</td><td>str</td><td>f64</td><td>f64</td><td>str</td><td>str</td><td>str</td><td>i32</td></tr></thead><tbody><tr><td>&quot;ABW&quot;</td><td>&quot;NLD&quot;</td><td>1979.0</td><td>&quot;female&quot;</td><td>&quot;HUBSPOT, INC&quot;</td><td>2.02632791e8</td><td>&quot;25 First Street&quot;</td><td>&quot;Cambridge&quot;</td><td>&quot;MA&quot;</td><td>&quot;02141&quot;</td><td>2023.0</td><td>&quot;ELIGIBLE&quot;</td><td>0.0</td><td>null</td><td>null</td><td>null</td><td>null</td><td>null</td><td>null</td><td>null</td><td>null</td><td>null</td><td>null</td><td>null</td><td>null</td><td>null</td><td>null</td><td>null</td><td>null</td><td>null</td><td>null</td><td>null</td><td>null</td><td>null</td><td>null</td><td>null</td><td>null</td><td>null</td><td>null</td><td>null</td><td>null</td><td>null</td><td>null</td><td>null</td><td>null</td><td>null</td><td>2023</td></tr><tr><td>&quot;ABW&quot;</td><td>&quot;NLD&quot;</td><td>1982.0</td><td>&quot;female&quot;</td><td>&quot;Schlumberger Technology Corpor…</td><td>2.21692661e8</td><td>&quot;3600 Briarpark Dr&quot;</td><td>&quot;Houston&quot;</td><td>&quot;TX&quot;</td><td>&quot;77042-5206&quot;</td><td>2021.0</td><td>&quot;CREATED&quot;</td><td>0.0</td><td>null</td><td>null</td><td>null</td><td>null</td><td>null</td><td>null</td><td>null</td><td>null</td><td>null</td><td>null</td><td>null</td><td>null</td><td>null</td><td>null</td><td>null</td><td>null</td><td>null</td><td>null</td><td>null</td><td>null</td><td>null</td><td>null</td><td>null</td><td>null</td><td>null</td><td>null</td><td>null</td><td>null</td><td>null</td><td>null</td><td>null</td><td>null</td><td>null</td><td>2021</td></tr><tr><td>&quot;ABW&quot;</td><td>&quot;NLD&quot;</td><td>1982.0</td><td>&quot;female&quot;</td><td>&quot;Schlumberger Technology Corpor…</td><td>2.21692661e8</td><td>&quot;3600 Briarpark Dr&quot;</td><td>&quot;Houston&quot;</td><td>&quot;TX&quot;</td><td>&quot;77042-5206&quot;</td><td>2022.0</td><td>&quot;ELIGIBLE&quot;</td><td>0.0</td><td>null</td><td>null</td><td>null</td><td>null</td><td>null</td><td>null</td><td>null</td><td>null</td><td>null</td><td>null</td><td>null</td><td>null</td><td>null</td><td>null</td><td>null</td><td>null</td><td>null</td><td>null</td><td>null</td><td>null</td><td>null</td><td>null</td><td>null</td><td>null</td><td>null</td><td>null</td><td>null</td><td>null</td><td>null</td><td>null</td><td>null</td><td>null</td><td>null</td><td>2022</td></tr><tr><td>&quot;ABW&quot;</td><td>&quot;NLD&quot;</td><td>1982.0</td><td>&quot;female&quot;</td><td>&quot;Schlumberger Technology Corpor…</td><td>2.21692661e8</td><td>&quot;3600 Briarpark Dr&quot;</td><td>&quot;Houston&quot;</td><td>&quot;TX&quot;</td><td>&quot;77042-5206&quot;</td><td>2023.0</td><td>&quot;ELIGIBLE&quot;</td><td>0.0</td><td>null</td><td>null</td><td>null</td><td>null</td><td>null</td><td>null</td><td>null</td><td>null</td><td>null</td><td>null</td><td>null</td><td>null</td><td>null</td><td>null</td><td>null</td><td>null</td><td>null</td><td>null</td><td>null</td><td>null</td><td>null</td><td>null</td><td>null</td><td>null</td><td>null</td><td>null</td><td>null</td><td>null</td><td>null</td><td>null</td><td>null</td><td>null</td><td>null</td><td>2023</td></tr><tr><td>&quot;ABW&quot;</td><td>&quot;NLD&quot;</td><td>1982.0</td><td>&quot;male&quot;</td><td>&quot;Vanderlande Industries, Inc.&quot;</td><td>9.80182968e8</td><td>&quot;1975&nbsp;&nbsp;West Oak Circle&quot;</td><td>&quot;Marietta&quot;</td><td>&quot;GA&quot;</td><td>&quot;30062&quot;</td><td>2023.0</td><td>&quot;ELIGIBLE&quot;</td><td>0.0</td><td>null</td><td>null</td><td>null</td><td>null</td><td>null</td><td>null</td><td>null</td><td>null</td><td>null</td><td>null</td><td>null</td><td>null</td><td>null</td><td>null</td><td>null</td><td>null</td><td>null</td><td>null</td><td>null</td><td>null</td><td>null</td><td>null</td><td>null</td><td>null</td><td>null</td><td>null</td><td>null</td><td>null</td><td>null</td><td>null</td><td>null</td><td>null</td><td>null</td><td>2023</td></tr><tr><td>&hellip;</td><td>&hellip;</td><td>&hellip;</td><td>&hellip;</td><td>&hellip;</td><td>&hellip;</td><td>&hellip;</td><td>&hellip;</td><td>&hellip;</td><td>&hellip;</td><td>&hellip;</td><td>&hellip;</td><td>&hellip;</td><td>&hellip;</td><td>&hellip;</td><td>&hellip;</td><td>&hellip;</td><td>&hellip;</td><td>&hellip;</td><td>&hellip;</td><td>&hellip;</td><td>&hellip;</td><td>&hellip;</td><td>&hellip;</td><td>&hellip;</td><td>&hellip;</td><td>&hellip;</td><td>&hellip;</td><td>&hellip;</td><td>&hellip;</td><td>&hellip;</td><td>&hellip;</td><td>&hellip;</td><td>&hellip;</td><td>&hellip;</td><td>&hellip;</td><td>&hellip;</td><td>&hellip;</td><td>&hellip;</td><td>&hellip;</td><td>&hellip;</td><td>&hellip;</td><td>&hellip;</td><td>&hellip;</td><td>&hellip;</td><td>&hellip;</td><td>&hellip;</td></tr><tr><td>&quot;ZZK&quot;</td><td>&quot;KOR&quot;</td><td>1999.0</td><td>&quot;male&quot;</td><td>&quot;Antra Inc.&quot;</td><td>2.61765515e8</td><td>&quot;21355 Ridgetop Cir&quot;</td><td>&quot;Dulles&quot;</td><td>&quot;VA&quot;</td><td>&quot;20166-8500&quot;</td><td>2023.0</td><td>&quot;ELIGIBLE&quot;</td><td>0.0</td><td>null</td><td>null</td><td>null</td><td>null</td><td>null</td><td>null</td><td>null</td><td>null</td><td>null</td><td>null</td><td>null</td><td>null</td><td>null</td><td>null</td><td>null</td><td>null</td><td>null</td><td>null</td><td>null</td><td>null</td><td>null</td><td>null</td><td>null</td><td>null</td><td>null</td><td>null</td><td>null</td><td>null</td><td>null</td><td>null</td><td>null</td><td>null</td><td>null</td><td>2023</td></tr><tr><td>&quot;ZZK&quot;</td><td>&quot;KOR&quot;</td><td>1999.0</td><td>&quot;male&quot;</td><td>&quot;Box, Inc.&quot;</td><td>2.02714444e8</td><td>&quot;900 Jefferson Ave.&quot;</td><td>&quot;Redwood City&quot;</td><td>&quot;CA&quot;</td><td>&quot;94063&quot;</td><td>2023.0</td><td>&quot;ELIGIBLE&quot;</td><td>0.0</td><td>null</td><td>null</td><td>null</td><td>null</td><td>null</td><td>null</td><td>null</td><td>null</td><td>null</td><td>null</td><td>null</td><td>null</td><td>null</td><td>null</td><td>null</td><td>null</td><td>null</td><td>null</td><td>null</td><td>null</td><td>null</td><td>null</td><td>null</td><td>null</td><td>null</td><td>null</td><td>null</td><td>null</td><td>null</td><td>null</td><td>null</td><td>null</td><td>null</td><td>2023</td></tr><tr><td>&quot;ZZK&quot;</td><td>&quot;PRK&quot;</td><td>1986.0</td><td>&quot;female&quot;</td><td>&quot;ATKINS NORTH AMERICA INC&quot;</td><td>5.90896138e8</td><td>&quot;4030 W Boy Scout Blvd&quot;</td><td>&quot;Tampa&quot;</td><td>&quot;FL&quot;</td><td>&quot;33607-5713&quot;</td><td>2021.0</td><td>&quot;SELECTED&quot;</td><td>0.0</td><td>&quot;9/29/2020&quot;</td><td>&quot;Approved&quot;</td><td>&quot;11/24/2020&quot;</td><td>&quot;ATKINS NORTH AMERICA INC&quot;</td><td>&quot;1B1&quot;</td><td>&quot;A&quot;</td><td>&quot;B&quot;</td><td>1.0</td><td>&quot;F&quot;</td><td>&quot;KOREA&quot;</td><td>&quot;F1&quot;</td><td>&quot;WATER RESOURCE ENGINEER II&quot;</td><td>&quot;16430 N SCOTTDALE RD STE 250&quot;</td><td>&quot;SCOTTSDALE&quot;</td><td>&quot;AZ&quot;</td><td>85254.0</td><td>null</td><td>null</td><td>null</td><td>&quot;11/24/2020&quot;</td><td>&quot;9/30/2023&quot;</td><td>0.0</td><td>&quot;N&quot;</td><td>null</td><td>&quot;I&quot;</td><td>&quot;DOCTORATE DEGREE&quot;</td><td>&quot;CIVIL ENVIRONMENTAL AND SUSTAI&quot;</td><td>&quot;69972.0&quot;</td><td>5.0</td><td>541330.0</td><td>&quot;B&quot;</td><td>&quot;N&quot;</td><td>null</td><td>2021</td></tr><tr><td>&quot;ZZK&quot;</td><td>&quot;PRK&quot;</td><td>1992.0</td><td>&quot;male&quot;</td><td>&quot;Liberty Distribution, LLC&quot;</td><td>8.23735977e8</td><td>&quot;4370 Varsity Dr&quot;</td><td>&quot;Ann Arbor&quot;</td><td>&quot;MI&quot;</td><td>&quot;48108-2359&quot;</td><td>2022.0</td><td>&quot;SELECTED&quot;</td><td>0.0</td><td>null</td><td>null</td><td>null</td><td>null</td><td>null</td><td>null</td><td>null</td><td>null</td><td>null</td><td>null</td><td>null</td><td>null</td><td>null</td><td>null</td><td>null</td><td>null</td><td>null</td><td>null</td><td>null</td><td>null</td><td>null</td><td>null</td><td>null</td><td>null</td><td>null</td><td>null</td><td>null</td><td>null</td><td>null</td><td>null</td><td>null</td><td>null</td><td>null</td><td>2022</td></tr><tr><td>&quot;ZZK&quot;</td><td>&quot;PRK&quot;</td><td>1994.0</td><td>&quot;female&quot;</td><td>&quot;HCL America Solutions Inc&quot;</td><td>4.55639284e8</td><td>&quot;330 Potrero Avenue&quot;</td><td>&quot;Sunnyvale&quot;</td><td>&quot;CA&quot;</td><td>&quot;94085&quot;</td><td>2022.0</td><td>&quot;ELIGIBLE&quot;</td><td>0.0</td><td>null</td><td>null</td><td>null</td><td>null</td><td>null</td><td>null</td><td>null</td><td>null</td><td>null</td><td>null</td><td>null</td><td>null</td><td>null</td><td>null</td><td>null</td><td>null</td><td>null</td><td>null</td><td>null</td><td>null</td><td>null</td><td>null</td><td>null</td><td>null</td><td>null</td><td>null</td><td>null</td><td>null</td><td>null</td><td>null</td><td>null</td><td>null</td><td>null</td><td>2022</td></tr></tbody></table></div>"
      ],
      "text/plain": [
       "shape: (1_045_180, 47)\n",
       "┌──────────────┬──────────────┬─────────────┬────────┬───┬──────┬──────┬─────────────┬─────────────┐\n",
       "│ country_of_b ┆ country_of_n ┆ ben_year_of ┆ gender ┆ … ┆ s3q1 ┆ s4q1 ┆ t_u_vawa_fl ┆ fiscal_year │\n",
       "│ irth         ┆ ationality   ┆ _birth      ┆ ---    ┆   ┆ ---  ┆ ---  ┆ ag          ┆ ---         │\n",
       "│ ---          ┆ ---          ┆ ---         ┆ str    ┆   ┆ str  ┆ str  ┆ ---         ┆ i32         │\n",
       "│ str          ┆ str          ┆ f64         ┆        ┆   ┆      ┆      ┆ str         ┆             │\n",
       "╞══════════════╪══════════════╪═════════════╪════════╪═══╪══════╪══════╪═════════════╪═════════════╡\n",
       "│ ABW          ┆ NLD          ┆ 1979.0      ┆ female ┆ … ┆ null ┆ null ┆ null        ┆ 2023        │\n",
       "│ ABW          ┆ NLD          ┆ 1982.0      ┆ female ┆ … ┆ null ┆ null ┆ null        ┆ 2021        │\n",
       "│ ABW          ┆ NLD          ┆ 1982.0      ┆ female ┆ … ┆ null ┆ null ┆ null        ┆ 2022        │\n",
       "│ ABW          ┆ NLD          ┆ 1982.0      ┆ female ┆ … ┆ null ┆ null ┆ null        ┆ 2023        │\n",
       "│ ABW          ┆ NLD          ┆ 1982.0      ┆ male   ┆ … ┆ null ┆ null ┆ null        ┆ 2023        │\n",
       "│ …            ┆ …            ┆ …           ┆ …      ┆ … ┆ …    ┆ …    ┆ …           ┆ …           │\n",
       "│ ZZK          ┆ KOR          ┆ 1999.0      ┆ male   ┆ … ┆ null ┆ null ┆ null        ┆ 2023        │\n",
       "│ ZZK          ┆ KOR          ┆ 1999.0      ┆ male   ┆ … ┆ null ┆ null ┆ null        ┆ 2023        │\n",
       "│ ZZK          ┆ PRK          ┆ 1986.0      ┆ female ┆ … ┆ B    ┆ N    ┆ null        ┆ 2021        │\n",
       "│ ZZK          ┆ PRK          ┆ 1992.0      ┆ male   ┆ … ┆ null ┆ null ┆ null        ┆ 2022        │\n",
       "│ ZZK          ┆ PRK          ┆ 1994.0      ┆ female ┆ … ┆ null ┆ null ┆ null        ┆ 2022        │\n",
       "└──────────────┴──────────────┴─────────────┴────────┴───┴──────┴──────┴─────────────┴─────────────┘"
      ]
     },
     "execution_count": 1090,
     "metadata": {},
     "output_type": "execute_result"
    }
   ],
   "source": [
    "combined_df_df_clean"
   ]
  },
  {
   "cell_type": "code",
   "execution_count": 1091,
   "metadata": {},
   "outputs": [],
   "source": [
    "country_counts = (\n",
    "    combined_df_df_clean\n",
    "    .group_by(['fiscal_year', 'country_of_birth'])\n",
    "    .agg(pl.len().alias('row_count'))\n",
    "    .sort('row_count', descending=True)\n",
    ")\n",
    "country_counts_pl = country_counts.head(20)"
   ]
  },
  {
   "cell_type": "code",
   "execution_count": 1092,
   "metadata": {},
   "outputs": [
    {
     "data": {
      "text/html": [
       "<div><style>\n",
       ".dataframe > thead > tr,\n",
       ".dataframe > tbody > tr {\n",
       "  text-align: right;\n",
       "  white-space: pre-wrap;\n",
       "}\n",
       "</style>\n",
       "<small>shape: (277_158, 47)</small><table border=\"1\" class=\"dataframe\"><thead><tr><th>country_of_birth</th><th>country_of_nationality</th><th>ben_year_of_birth</th><th>gender</th><th>employer_name</th><th>fein</th><th>mail_addr</th><th>city</th><th>state</th><th>zip</th><th>lottery_year</th><th>status_type</th><th>ben_multi_reg_ind</th><th>rec_date</th><th>first_decision</th><th>first_decision_date</th><th>i129_employer_name</th><th>requested_class</th><th>basis_for_classification</th><th>requested_action</th><th>number_of_beneficiaries</th><th>ben_sex</th><th>ben_country_of_birth</th><th>ben_current_class</th><th>job_title</th><th>worksite_street</th><th>worksite_city</th><th>worksite_state</th><th>worksite_zip</th><th>full_time_ind</th><th>wage_amt</th><th>wage_unit</th><th>valid_from</th><th>valid_to</th><th>num_of_emp_in_us</th><th>s1q1a</th><th>s1q1b</th><th>ben_education_code</th><th>ed_level_definition</th><th>ben_pfield_of_study</th><th>ben_comp_paid</th><th>dot_code</th><th>naics_code</th><th>s3q1</th><th>s4q1</th><th>t_u_vawa_flag</th><th>fiscal_year</th></tr><tr><td>str</td><td>str</td><td>f64</td><td>str</td><td>str</td><td>f64</td><td>str</td><td>str</td><td>str</td><td>str</td><td>f64</td><td>str</td><td>f64</td><td>str</td><td>str</td><td>str</td><td>str</td><td>str</td><td>str</td><td>str</td><td>f64</td><td>str</td><td>str</td><td>str</td><td>str</td><td>str</td><td>str</td><td>str</td><td>f64</td><td>str</td><td>str</td><td>str</td><td>str</td><td>str</td><td>f64</td><td>str</td><td>str</td><td>str</td><td>str</td><td>str</td><td>str</td><td>f64</td><td>f64</td><td>str</td><td>str</td><td>str</td><td>i32</td></tr></thead><tbody><tr><td>&quot;ABW&quot;</td><td>&quot;NLD&quot;</td><td>1979.0</td><td>&quot;female&quot;</td><td>&quot;HUBSPOT, INC&quot;</td><td>2.02632791e8</td><td>&quot;25 First Street&quot;</td><td>&quot;Cambridge&quot;</td><td>&quot;MA&quot;</td><td>&quot;02141&quot;</td><td>2023.0</td><td>&quot;ELIGIBLE&quot;</td><td>0.0</td><td>null</td><td>null</td><td>null</td><td>null</td><td>null</td><td>null</td><td>null</td><td>null</td><td>null</td><td>null</td><td>null</td><td>null</td><td>null</td><td>null</td><td>null</td><td>null</td><td>null</td><td>null</td><td>null</td><td>null</td><td>null</td><td>null</td><td>null</td><td>null</td><td>null</td><td>null</td><td>null</td><td>null</td><td>null</td><td>null</td><td>null</td><td>null</td><td>null</td><td>2023</td></tr><tr><td>&quot;ABW&quot;</td><td>&quot;NLD&quot;</td><td>1982.0</td><td>&quot;female&quot;</td><td>&quot;Schlumberger Technology Corpor…</td><td>2.21692661e8</td><td>&quot;3600 Briarpark Dr&quot;</td><td>&quot;Houston&quot;</td><td>&quot;TX&quot;</td><td>&quot;77042-5206&quot;</td><td>2021.0</td><td>&quot;CREATED&quot;</td><td>0.0</td><td>null</td><td>null</td><td>null</td><td>null</td><td>null</td><td>null</td><td>null</td><td>null</td><td>null</td><td>null</td><td>null</td><td>null</td><td>null</td><td>null</td><td>null</td><td>null</td><td>null</td><td>null</td><td>null</td><td>null</td><td>null</td><td>null</td><td>null</td><td>null</td><td>null</td><td>null</td><td>null</td><td>null</td><td>null</td><td>null</td><td>null</td><td>null</td><td>null</td><td>2021</td></tr><tr><td>&quot;ABW&quot;</td><td>&quot;NLD&quot;</td><td>1982.0</td><td>&quot;female&quot;</td><td>&quot;Schlumberger Technology Corpor…</td><td>2.21692661e8</td><td>&quot;3600 Briarpark Dr&quot;</td><td>&quot;Houston&quot;</td><td>&quot;TX&quot;</td><td>&quot;77042-5206&quot;</td><td>2022.0</td><td>&quot;ELIGIBLE&quot;</td><td>0.0</td><td>null</td><td>null</td><td>null</td><td>null</td><td>null</td><td>null</td><td>null</td><td>null</td><td>null</td><td>null</td><td>null</td><td>null</td><td>null</td><td>null</td><td>null</td><td>null</td><td>null</td><td>null</td><td>null</td><td>null</td><td>null</td><td>null</td><td>null</td><td>null</td><td>null</td><td>null</td><td>null</td><td>null</td><td>null</td><td>null</td><td>null</td><td>null</td><td>null</td><td>2022</td></tr><tr><td>&quot;ABW&quot;</td><td>&quot;NLD&quot;</td><td>1982.0</td><td>&quot;female&quot;</td><td>&quot;Schlumberger Technology Corpor…</td><td>2.21692661e8</td><td>&quot;3600 Briarpark Dr&quot;</td><td>&quot;Houston&quot;</td><td>&quot;TX&quot;</td><td>&quot;77042-5206&quot;</td><td>2023.0</td><td>&quot;ELIGIBLE&quot;</td><td>0.0</td><td>null</td><td>null</td><td>null</td><td>null</td><td>null</td><td>null</td><td>null</td><td>null</td><td>null</td><td>null</td><td>null</td><td>null</td><td>null</td><td>null</td><td>null</td><td>null</td><td>null</td><td>null</td><td>null</td><td>null</td><td>null</td><td>null</td><td>null</td><td>null</td><td>null</td><td>null</td><td>null</td><td>null</td><td>null</td><td>null</td><td>null</td><td>null</td><td>null</td><td>2023</td></tr><tr><td>&quot;ABW&quot;</td><td>&quot;NLD&quot;</td><td>1982.0</td><td>&quot;male&quot;</td><td>&quot;Vanderlande Industries, Inc.&quot;</td><td>9.80182968e8</td><td>&quot;1975&nbsp;&nbsp;West Oak Circle&quot;</td><td>&quot;Marietta&quot;</td><td>&quot;GA&quot;</td><td>&quot;30062&quot;</td><td>2023.0</td><td>&quot;ELIGIBLE&quot;</td><td>0.0</td><td>null</td><td>null</td><td>null</td><td>null</td><td>null</td><td>null</td><td>null</td><td>null</td><td>null</td><td>null</td><td>null</td><td>null</td><td>null</td><td>null</td><td>null</td><td>null</td><td>null</td><td>null</td><td>null</td><td>null</td><td>null</td><td>null</td><td>null</td><td>null</td><td>null</td><td>null</td><td>null</td><td>null</td><td>null</td><td>null</td><td>null</td><td>null</td><td>null</td><td>2023</td></tr><tr><td>&hellip;</td><td>&hellip;</td><td>&hellip;</td><td>&hellip;</td><td>&hellip;</td><td>&hellip;</td><td>&hellip;</td><td>&hellip;</td><td>&hellip;</td><td>&hellip;</td><td>&hellip;</td><td>&hellip;</td><td>&hellip;</td><td>&hellip;</td><td>&hellip;</td><td>&hellip;</td><td>&hellip;</td><td>&hellip;</td><td>&hellip;</td><td>&hellip;</td><td>&hellip;</td><td>&hellip;</td><td>&hellip;</td><td>&hellip;</td><td>&hellip;</td><td>&hellip;</td><td>&hellip;</td><td>&hellip;</td><td>&hellip;</td><td>&hellip;</td><td>&hellip;</td><td>&hellip;</td><td>&hellip;</td><td>&hellip;</td><td>&hellip;</td><td>&hellip;</td><td>&hellip;</td><td>&hellip;</td><td>&hellip;</td><td>&hellip;</td><td>&hellip;</td><td>&hellip;</td><td>&hellip;</td><td>&hellip;</td><td>&hellip;</td><td>&hellip;</td><td>&hellip;</td></tr><tr><td>&quot;ZZK&quot;</td><td>&quot;KOR&quot;</td><td>1999.0</td><td>&quot;male&quot;</td><td>&quot;Antra Inc.&quot;</td><td>2.61765515e8</td><td>&quot;21355 Ridgetop Cir&quot;</td><td>&quot;Dulles&quot;</td><td>&quot;VA&quot;</td><td>&quot;20166-8500&quot;</td><td>2023.0</td><td>&quot;ELIGIBLE&quot;</td><td>0.0</td><td>null</td><td>null</td><td>null</td><td>null</td><td>null</td><td>null</td><td>null</td><td>null</td><td>null</td><td>null</td><td>null</td><td>null</td><td>null</td><td>null</td><td>null</td><td>null</td><td>null</td><td>null</td><td>null</td><td>null</td><td>null</td><td>null</td><td>null</td><td>null</td><td>null</td><td>null</td><td>null</td><td>null</td><td>null</td><td>null</td><td>null</td><td>null</td><td>null</td><td>2023</td></tr><tr><td>&quot;ZZK&quot;</td><td>&quot;KOR&quot;</td><td>1999.0</td><td>&quot;male&quot;</td><td>&quot;Box, Inc.&quot;</td><td>2.02714444e8</td><td>&quot;900 Jefferson Ave.&quot;</td><td>&quot;Redwood City&quot;</td><td>&quot;CA&quot;</td><td>&quot;94063&quot;</td><td>2023.0</td><td>&quot;ELIGIBLE&quot;</td><td>0.0</td><td>null</td><td>null</td><td>null</td><td>null</td><td>null</td><td>null</td><td>null</td><td>null</td><td>null</td><td>null</td><td>null</td><td>null</td><td>null</td><td>null</td><td>null</td><td>null</td><td>null</td><td>null</td><td>null</td><td>null</td><td>null</td><td>null</td><td>null</td><td>null</td><td>null</td><td>null</td><td>null</td><td>null</td><td>null</td><td>null</td><td>null</td><td>null</td><td>null</td><td>2023</td></tr><tr><td>&quot;ZZK&quot;</td><td>&quot;PRK&quot;</td><td>1986.0</td><td>&quot;female&quot;</td><td>&quot;ATKINS NORTH AMERICA INC&quot;</td><td>5.90896138e8</td><td>&quot;4030 W Boy Scout Blvd&quot;</td><td>&quot;Tampa&quot;</td><td>&quot;FL&quot;</td><td>&quot;33607-5713&quot;</td><td>2021.0</td><td>&quot;SELECTED&quot;</td><td>0.0</td><td>&quot;9/29/2020&quot;</td><td>&quot;Approved&quot;</td><td>&quot;11/24/2020&quot;</td><td>&quot;ATKINS NORTH AMERICA INC&quot;</td><td>&quot;1B1&quot;</td><td>&quot;A&quot;</td><td>&quot;B&quot;</td><td>1.0</td><td>&quot;F&quot;</td><td>&quot;KOREA&quot;</td><td>&quot;F1&quot;</td><td>&quot;WATER RESOURCE ENGINEER II&quot;</td><td>&quot;16430 N SCOTTDALE RD STE 250&quot;</td><td>&quot;SCOTTSDALE&quot;</td><td>&quot;AZ&quot;</td><td>85254.0</td><td>null</td><td>null</td><td>null</td><td>&quot;11/24/2020&quot;</td><td>&quot;9/30/2023&quot;</td><td>0.0</td><td>&quot;N&quot;</td><td>null</td><td>&quot;I&quot;</td><td>&quot;DOCTORATE DEGREE&quot;</td><td>&quot;CIVIL ENVIRONMENTAL AND SUSTAI&quot;</td><td>&quot;69972.0&quot;</td><td>5.0</td><td>541330.0</td><td>&quot;B&quot;</td><td>&quot;N&quot;</td><td>null</td><td>2021</td></tr><tr><td>&quot;ZZK&quot;</td><td>&quot;PRK&quot;</td><td>1992.0</td><td>&quot;male&quot;</td><td>&quot;Liberty Distribution, LLC&quot;</td><td>8.23735977e8</td><td>&quot;4370 Varsity Dr&quot;</td><td>&quot;Ann Arbor&quot;</td><td>&quot;MI&quot;</td><td>&quot;48108-2359&quot;</td><td>2022.0</td><td>&quot;SELECTED&quot;</td><td>0.0</td><td>null</td><td>null</td><td>null</td><td>null</td><td>null</td><td>null</td><td>null</td><td>null</td><td>null</td><td>null</td><td>null</td><td>null</td><td>null</td><td>null</td><td>null</td><td>null</td><td>null</td><td>null</td><td>null</td><td>null</td><td>null</td><td>null</td><td>null</td><td>null</td><td>null</td><td>null</td><td>null</td><td>null</td><td>null</td><td>null</td><td>null</td><td>null</td><td>null</td><td>2022</td></tr><tr><td>&quot;ZZK&quot;</td><td>&quot;PRK&quot;</td><td>1994.0</td><td>&quot;female&quot;</td><td>&quot;HCL America Solutions Inc&quot;</td><td>4.55639284e8</td><td>&quot;330 Potrero Avenue&quot;</td><td>&quot;Sunnyvale&quot;</td><td>&quot;CA&quot;</td><td>&quot;94085&quot;</td><td>2022.0</td><td>&quot;ELIGIBLE&quot;</td><td>0.0</td><td>null</td><td>null</td><td>null</td><td>null</td><td>null</td><td>null</td><td>null</td><td>null</td><td>null</td><td>null</td><td>null</td><td>null</td><td>null</td><td>null</td><td>null</td><td>null</td><td>null</td><td>null</td><td>null</td><td>null</td><td>null</td><td>null</td><td>null</td><td>null</td><td>null</td><td>null</td><td>null</td><td>null</td><td>null</td><td>null</td><td>null</td><td>null</td><td>null</td><td>2022</td></tr></tbody></table></div>"
      ],
      "text/plain": [
       "shape: (277_158, 47)\n",
       "┌──────────────┬──────────────┬─────────────┬────────┬───┬──────┬──────┬─────────────┬─────────────┐\n",
       "│ country_of_b ┆ country_of_n ┆ ben_year_of ┆ gender ┆ … ┆ s3q1 ┆ s4q1 ┆ t_u_vawa_fl ┆ fiscal_year │\n",
       "│ irth         ┆ ationality   ┆ _birth      ┆ ---    ┆   ┆ ---  ┆ ---  ┆ ag          ┆ ---         │\n",
       "│ ---          ┆ ---          ┆ ---         ┆ str    ┆   ┆ str  ┆ str  ┆ ---         ┆ i32         │\n",
       "│ str          ┆ str          ┆ f64         ┆        ┆   ┆      ┆      ┆ str         ┆             │\n",
       "╞══════════════╪══════════════╪═════════════╪════════╪═══╪══════╪══════╪═════════════╪═════════════╡\n",
       "│ ABW          ┆ NLD          ┆ 1979.0      ┆ female ┆ … ┆ null ┆ null ┆ null        ┆ 2023        │\n",
       "│ ABW          ┆ NLD          ┆ 1982.0      ┆ female ┆ … ┆ null ┆ null ┆ null        ┆ 2021        │\n",
       "│ ABW          ┆ NLD          ┆ 1982.0      ┆ female ┆ … ┆ null ┆ null ┆ null        ┆ 2022        │\n",
       "│ ABW          ┆ NLD          ┆ 1982.0      ┆ female ┆ … ┆ null ┆ null ┆ null        ┆ 2023        │\n",
       "│ ABW          ┆ NLD          ┆ 1982.0      ┆ male   ┆ … ┆ null ┆ null ┆ null        ┆ 2023        │\n",
       "│ …            ┆ …            ┆ …           ┆ …      ┆ … ┆ …    ┆ …    ┆ …           ┆ …           │\n",
       "│ ZZK          ┆ KOR          ┆ 1999.0      ┆ male   ┆ … ┆ null ┆ null ┆ null        ┆ 2023        │\n",
       "│ ZZK          ┆ KOR          ┆ 1999.0      ┆ male   ┆ … ┆ null ┆ null ┆ null        ┆ 2023        │\n",
       "│ ZZK          ┆ PRK          ┆ 1986.0      ┆ female ┆ … ┆ B    ┆ N    ┆ null        ┆ 2021        │\n",
       "│ ZZK          ┆ PRK          ┆ 1992.0      ┆ male   ┆ … ┆ null ┆ null ┆ null        ┆ 2022        │\n",
       "│ ZZK          ┆ PRK          ┆ 1994.0      ┆ female ┆ … ┆ null ┆ null ┆ null        ┆ 2022        │\n",
       "└──────────────┴──────────────┴─────────────┴────────┴───┴──────┴──────┴─────────────┴─────────────┘"
      ]
     },
     "execution_count": 1092,
     "metadata": {},
     "output_type": "execute_result"
    }
   ],
   "source": [
    "# Exclude India instead of random sampling the data \n",
    "combined_df_df_clean = combined_df_df_clean.filter(pl.col(\"country_of_nationality\") != \"IND\")\n",
    "combined_df_df_clean"
   ]
  },
  {
   "cell_type": "code",
   "execution_count": 1093,
   "metadata": {},
   "outputs": [],
   "source": [
    "# combined_df_df_clean = combined_df_df_clean.sample(n=100000, seed=0)  "
   ]
  },
  {
   "cell_type": "code",
   "execution_count": 1094,
   "metadata": {},
   "outputs": [
    {
     "data": {
      "text/html": [
       "<div><style>\n",
       ".dataframe > thead > tr,\n",
       ".dataframe > tbody > tr {\n",
       "  text-align: right;\n",
       "  white-space: pre-wrap;\n",
       "}\n",
       "</style>\n",
       "<small>shape: (277_158, 47)</small><table border=\"1\" class=\"dataframe\"><thead><tr><th>country_of_birth</th><th>country_of_nationality</th><th>ben_year_of_birth</th><th>gender</th><th>employer_name</th><th>fein</th><th>mail_addr</th><th>city</th><th>state</th><th>zip</th><th>lottery_year</th><th>status_type</th><th>ben_multi_reg_ind</th><th>rec_date</th><th>first_decision</th><th>first_decision_date</th><th>i129_employer_name</th><th>requested_class</th><th>basis_for_classification</th><th>requested_action</th><th>number_of_beneficiaries</th><th>ben_sex</th><th>ben_country_of_birth</th><th>ben_current_class</th><th>job_title</th><th>worksite_street</th><th>worksite_city</th><th>worksite_state</th><th>worksite_zip</th><th>full_time_ind</th><th>wage_amt</th><th>wage_unit</th><th>valid_from</th><th>valid_to</th><th>num_of_emp_in_us</th><th>s1q1a</th><th>s1q1b</th><th>ben_education_code</th><th>ed_level_definition</th><th>ben_pfield_of_study</th><th>ben_comp_paid</th><th>dot_code</th><th>naics_code</th><th>s3q1</th><th>s4q1</th><th>t_u_vawa_flag</th><th>fiscal_year</th></tr><tr><td>str</td><td>str</td><td>f64</td><td>str</td><td>str</td><td>f64</td><td>str</td><td>str</td><td>str</td><td>str</td><td>f64</td><td>str</td><td>f64</td><td>str</td><td>str</td><td>str</td><td>str</td><td>str</td><td>str</td><td>str</td><td>f64</td><td>str</td><td>str</td><td>str</td><td>str</td><td>str</td><td>str</td><td>str</td><td>f64</td><td>str</td><td>str</td><td>str</td><td>str</td><td>str</td><td>f64</td><td>str</td><td>str</td><td>str</td><td>str</td><td>str</td><td>str</td><td>f64</td><td>f64</td><td>str</td><td>str</td><td>str</td><td>i32</td></tr></thead><tbody><tr><td>&quot;ABW&quot;</td><td>&quot;NLD&quot;</td><td>1979.0</td><td>&quot;female&quot;</td><td>&quot;HUBSPOT, INC&quot;</td><td>2.02632791e8</td><td>&quot;25 First Street&quot;</td><td>&quot;Cambridge&quot;</td><td>&quot;MA&quot;</td><td>&quot;02141&quot;</td><td>2023.0</td><td>&quot;ELIGIBLE&quot;</td><td>0.0</td><td>null</td><td>null</td><td>null</td><td>null</td><td>null</td><td>null</td><td>null</td><td>null</td><td>null</td><td>null</td><td>null</td><td>null</td><td>null</td><td>null</td><td>null</td><td>null</td><td>null</td><td>null</td><td>null</td><td>null</td><td>null</td><td>null</td><td>null</td><td>null</td><td>null</td><td>null</td><td>null</td><td>null</td><td>null</td><td>null</td><td>null</td><td>null</td><td>null</td><td>2023</td></tr><tr><td>&quot;ABW&quot;</td><td>&quot;NLD&quot;</td><td>1982.0</td><td>&quot;female&quot;</td><td>&quot;Schlumberger Technology Corpor…</td><td>2.21692661e8</td><td>&quot;3600 Briarpark Dr&quot;</td><td>&quot;Houston&quot;</td><td>&quot;TX&quot;</td><td>&quot;77042-5206&quot;</td><td>2021.0</td><td>&quot;CREATED&quot;</td><td>0.0</td><td>null</td><td>null</td><td>null</td><td>null</td><td>null</td><td>null</td><td>null</td><td>null</td><td>null</td><td>null</td><td>null</td><td>null</td><td>null</td><td>null</td><td>null</td><td>null</td><td>null</td><td>null</td><td>null</td><td>null</td><td>null</td><td>null</td><td>null</td><td>null</td><td>null</td><td>null</td><td>null</td><td>null</td><td>null</td><td>null</td><td>null</td><td>null</td><td>null</td><td>2021</td></tr><tr><td>&quot;ABW&quot;</td><td>&quot;NLD&quot;</td><td>1982.0</td><td>&quot;female&quot;</td><td>&quot;Schlumberger Technology Corpor…</td><td>2.21692661e8</td><td>&quot;3600 Briarpark Dr&quot;</td><td>&quot;Houston&quot;</td><td>&quot;TX&quot;</td><td>&quot;77042-5206&quot;</td><td>2022.0</td><td>&quot;ELIGIBLE&quot;</td><td>0.0</td><td>null</td><td>null</td><td>null</td><td>null</td><td>null</td><td>null</td><td>null</td><td>null</td><td>null</td><td>null</td><td>null</td><td>null</td><td>null</td><td>null</td><td>null</td><td>null</td><td>null</td><td>null</td><td>null</td><td>null</td><td>null</td><td>null</td><td>null</td><td>null</td><td>null</td><td>null</td><td>null</td><td>null</td><td>null</td><td>null</td><td>null</td><td>null</td><td>null</td><td>2022</td></tr><tr><td>&quot;ABW&quot;</td><td>&quot;NLD&quot;</td><td>1982.0</td><td>&quot;female&quot;</td><td>&quot;Schlumberger Technology Corpor…</td><td>2.21692661e8</td><td>&quot;3600 Briarpark Dr&quot;</td><td>&quot;Houston&quot;</td><td>&quot;TX&quot;</td><td>&quot;77042-5206&quot;</td><td>2023.0</td><td>&quot;ELIGIBLE&quot;</td><td>0.0</td><td>null</td><td>null</td><td>null</td><td>null</td><td>null</td><td>null</td><td>null</td><td>null</td><td>null</td><td>null</td><td>null</td><td>null</td><td>null</td><td>null</td><td>null</td><td>null</td><td>null</td><td>null</td><td>null</td><td>null</td><td>null</td><td>null</td><td>null</td><td>null</td><td>null</td><td>null</td><td>null</td><td>null</td><td>null</td><td>null</td><td>null</td><td>null</td><td>null</td><td>2023</td></tr><tr><td>&quot;ABW&quot;</td><td>&quot;NLD&quot;</td><td>1982.0</td><td>&quot;male&quot;</td><td>&quot;Vanderlande Industries, Inc.&quot;</td><td>9.80182968e8</td><td>&quot;1975&nbsp;&nbsp;West Oak Circle&quot;</td><td>&quot;Marietta&quot;</td><td>&quot;GA&quot;</td><td>&quot;30062&quot;</td><td>2023.0</td><td>&quot;ELIGIBLE&quot;</td><td>0.0</td><td>null</td><td>null</td><td>null</td><td>null</td><td>null</td><td>null</td><td>null</td><td>null</td><td>null</td><td>null</td><td>null</td><td>null</td><td>null</td><td>null</td><td>null</td><td>null</td><td>null</td><td>null</td><td>null</td><td>null</td><td>null</td><td>null</td><td>null</td><td>null</td><td>null</td><td>null</td><td>null</td><td>null</td><td>null</td><td>null</td><td>null</td><td>null</td><td>null</td><td>2023</td></tr><tr><td>&hellip;</td><td>&hellip;</td><td>&hellip;</td><td>&hellip;</td><td>&hellip;</td><td>&hellip;</td><td>&hellip;</td><td>&hellip;</td><td>&hellip;</td><td>&hellip;</td><td>&hellip;</td><td>&hellip;</td><td>&hellip;</td><td>&hellip;</td><td>&hellip;</td><td>&hellip;</td><td>&hellip;</td><td>&hellip;</td><td>&hellip;</td><td>&hellip;</td><td>&hellip;</td><td>&hellip;</td><td>&hellip;</td><td>&hellip;</td><td>&hellip;</td><td>&hellip;</td><td>&hellip;</td><td>&hellip;</td><td>&hellip;</td><td>&hellip;</td><td>&hellip;</td><td>&hellip;</td><td>&hellip;</td><td>&hellip;</td><td>&hellip;</td><td>&hellip;</td><td>&hellip;</td><td>&hellip;</td><td>&hellip;</td><td>&hellip;</td><td>&hellip;</td><td>&hellip;</td><td>&hellip;</td><td>&hellip;</td><td>&hellip;</td><td>&hellip;</td><td>&hellip;</td></tr><tr><td>&quot;ZZK&quot;</td><td>&quot;KOR&quot;</td><td>1999.0</td><td>&quot;male&quot;</td><td>&quot;Antra Inc.&quot;</td><td>2.61765515e8</td><td>&quot;21355 Ridgetop Cir&quot;</td><td>&quot;Dulles&quot;</td><td>&quot;VA&quot;</td><td>&quot;20166-8500&quot;</td><td>2023.0</td><td>&quot;ELIGIBLE&quot;</td><td>0.0</td><td>null</td><td>null</td><td>null</td><td>null</td><td>null</td><td>null</td><td>null</td><td>null</td><td>null</td><td>null</td><td>null</td><td>null</td><td>null</td><td>null</td><td>null</td><td>null</td><td>null</td><td>null</td><td>null</td><td>null</td><td>null</td><td>null</td><td>null</td><td>null</td><td>null</td><td>null</td><td>null</td><td>null</td><td>null</td><td>null</td><td>null</td><td>null</td><td>null</td><td>2023</td></tr><tr><td>&quot;ZZK&quot;</td><td>&quot;KOR&quot;</td><td>1999.0</td><td>&quot;male&quot;</td><td>&quot;Box, Inc.&quot;</td><td>2.02714444e8</td><td>&quot;900 Jefferson Ave.&quot;</td><td>&quot;Redwood City&quot;</td><td>&quot;CA&quot;</td><td>&quot;94063&quot;</td><td>2023.0</td><td>&quot;ELIGIBLE&quot;</td><td>0.0</td><td>null</td><td>null</td><td>null</td><td>null</td><td>null</td><td>null</td><td>null</td><td>null</td><td>null</td><td>null</td><td>null</td><td>null</td><td>null</td><td>null</td><td>null</td><td>null</td><td>null</td><td>null</td><td>null</td><td>null</td><td>null</td><td>null</td><td>null</td><td>null</td><td>null</td><td>null</td><td>null</td><td>null</td><td>null</td><td>null</td><td>null</td><td>null</td><td>null</td><td>2023</td></tr><tr><td>&quot;ZZK&quot;</td><td>&quot;PRK&quot;</td><td>1986.0</td><td>&quot;female&quot;</td><td>&quot;ATKINS NORTH AMERICA INC&quot;</td><td>5.90896138e8</td><td>&quot;4030 W Boy Scout Blvd&quot;</td><td>&quot;Tampa&quot;</td><td>&quot;FL&quot;</td><td>&quot;33607-5713&quot;</td><td>2021.0</td><td>&quot;SELECTED&quot;</td><td>0.0</td><td>&quot;9/29/2020&quot;</td><td>&quot;Approved&quot;</td><td>&quot;11/24/2020&quot;</td><td>&quot;ATKINS NORTH AMERICA INC&quot;</td><td>&quot;1B1&quot;</td><td>&quot;A&quot;</td><td>&quot;B&quot;</td><td>1.0</td><td>&quot;F&quot;</td><td>&quot;KOREA&quot;</td><td>&quot;F1&quot;</td><td>&quot;WATER RESOURCE ENGINEER II&quot;</td><td>&quot;16430 N SCOTTDALE RD STE 250&quot;</td><td>&quot;SCOTTSDALE&quot;</td><td>&quot;AZ&quot;</td><td>85254.0</td><td>null</td><td>null</td><td>null</td><td>&quot;11/24/2020&quot;</td><td>&quot;9/30/2023&quot;</td><td>0.0</td><td>&quot;N&quot;</td><td>null</td><td>&quot;I&quot;</td><td>&quot;DOCTORATE DEGREE&quot;</td><td>&quot;CIVIL ENVIRONMENTAL AND SUSTAI&quot;</td><td>&quot;69972.0&quot;</td><td>5.0</td><td>541330.0</td><td>&quot;B&quot;</td><td>&quot;N&quot;</td><td>null</td><td>2021</td></tr><tr><td>&quot;ZZK&quot;</td><td>&quot;PRK&quot;</td><td>1992.0</td><td>&quot;male&quot;</td><td>&quot;Liberty Distribution, LLC&quot;</td><td>8.23735977e8</td><td>&quot;4370 Varsity Dr&quot;</td><td>&quot;Ann Arbor&quot;</td><td>&quot;MI&quot;</td><td>&quot;48108-2359&quot;</td><td>2022.0</td><td>&quot;SELECTED&quot;</td><td>0.0</td><td>null</td><td>null</td><td>null</td><td>null</td><td>null</td><td>null</td><td>null</td><td>null</td><td>null</td><td>null</td><td>null</td><td>null</td><td>null</td><td>null</td><td>null</td><td>null</td><td>null</td><td>null</td><td>null</td><td>null</td><td>null</td><td>null</td><td>null</td><td>null</td><td>null</td><td>null</td><td>null</td><td>null</td><td>null</td><td>null</td><td>null</td><td>null</td><td>null</td><td>2022</td></tr><tr><td>&quot;ZZK&quot;</td><td>&quot;PRK&quot;</td><td>1994.0</td><td>&quot;female&quot;</td><td>&quot;HCL America Solutions Inc&quot;</td><td>4.55639284e8</td><td>&quot;330 Potrero Avenue&quot;</td><td>&quot;Sunnyvale&quot;</td><td>&quot;CA&quot;</td><td>&quot;94085&quot;</td><td>2022.0</td><td>&quot;ELIGIBLE&quot;</td><td>0.0</td><td>null</td><td>null</td><td>null</td><td>null</td><td>null</td><td>null</td><td>null</td><td>null</td><td>null</td><td>null</td><td>null</td><td>null</td><td>null</td><td>null</td><td>null</td><td>null</td><td>null</td><td>null</td><td>null</td><td>null</td><td>null</td><td>null</td><td>null</td><td>null</td><td>null</td><td>null</td><td>null</td><td>null</td><td>null</td><td>null</td><td>null</td><td>null</td><td>null</td><td>2022</td></tr></tbody></table></div>"
      ],
      "text/plain": [
       "shape: (277_158, 47)\n",
       "┌──────────────┬──────────────┬─────────────┬────────┬───┬──────┬──────┬─────────────┬─────────────┐\n",
       "│ country_of_b ┆ country_of_n ┆ ben_year_of ┆ gender ┆ … ┆ s3q1 ┆ s4q1 ┆ t_u_vawa_fl ┆ fiscal_year │\n",
       "│ irth         ┆ ationality   ┆ _birth      ┆ ---    ┆   ┆ ---  ┆ ---  ┆ ag          ┆ ---         │\n",
       "│ ---          ┆ ---          ┆ ---         ┆ str    ┆   ┆ str  ┆ str  ┆ ---         ┆ i32         │\n",
       "│ str          ┆ str          ┆ f64         ┆        ┆   ┆      ┆      ┆ str         ┆             │\n",
       "╞══════════════╪══════════════╪═════════════╪════════╪═══╪══════╪══════╪═════════════╪═════════════╡\n",
       "│ ABW          ┆ NLD          ┆ 1979.0      ┆ female ┆ … ┆ null ┆ null ┆ null        ┆ 2023        │\n",
       "│ ABW          ┆ NLD          ┆ 1982.0      ┆ female ┆ … ┆ null ┆ null ┆ null        ┆ 2021        │\n",
       "│ ABW          ┆ NLD          ┆ 1982.0      ┆ female ┆ … ┆ null ┆ null ┆ null        ┆ 2022        │\n",
       "│ ABW          ┆ NLD          ┆ 1982.0      ┆ female ┆ … ┆ null ┆ null ┆ null        ┆ 2023        │\n",
       "│ ABW          ┆ NLD          ┆ 1982.0      ┆ male   ┆ … ┆ null ┆ null ┆ null        ┆ 2023        │\n",
       "│ …            ┆ …            ┆ …           ┆ …      ┆ … ┆ …    ┆ …    ┆ …           ┆ …           │\n",
       "│ ZZK          ┆ KOR          ┆ 1999.0      ┆ male   ┆ … ┆ null ┆ null ┆ null        ┆ 2023        │\n",
       "│ ZZK          ┆ KOR          ┆ 1999.0      ┆ male   ┆ … ┆ null ┆ null ┆ null        ┆ 2023        │\n",
       "│ ZZK          ┆ PRK          ┆ 1986.0      ┆ female ┆ … ┆ B    ┆ N    ┆ null        ┆ 2021        │\n",
       "│ ZZK          ┆ PRK          ┆ 1992.0      ┆ male   ┆ … ┆ null ┆ null ┆ null        ┆ 2022        │\n",
       "│ ZZK          ┆ PRK          ┆ 1994.0      ┆ female ┆ … ┆ null ┆ null ┆ null        ┆ 2022        │\n",
       "└──────────────┴──────────────┴─────────────┴────────┴───┴──────┴──────┴─────────────┴─────────────┘"
      ]
     },
     "execution_count": 1094,
     "metadata": {},
     "output_type": "execute_result"
    }
   ],
   "source": [
    "combined_df_df_clean"
   ]
  },
  {
   "cell_type": "code",
   "execution_count": 1095,
   "metadata": {},
   "outputs": [],
   "source": [
    "combined_df_df_clean.write_parquet(\n",
    "    \"data/TRK_13139_FY2021_2023.parquet\",\n",
    "    use_pyarrow=True,\n",
    ")"
   ]
  },
  {
   "cell_type": "code",
   "execution_count": 1096,
   "metadata": {},
   "outputs": [
    {
     "data": {
      "text/html": [
       "<div><style>\n",
       ".dataframe > thead > tr,\n",
       ".dataframe > tbody > tr {\n",
       "  text-align: right;\n",
       "  white-space: pre-wrap;\n",
       "}\n",
       "</style>\n",
       "<small>shape: (277_158, 47)</small><table border=\"1\" class=\"dataframe\"><thead><tr><th>country_of_birth</th><th>country_of_nationality</th><th>ben_year_of_birth</th><th>gender</th><th>employer_name</th><th>fein</th><th>mail_addr</th><th>city</th><th>state</th><th>zip</th><th>lottery_year</th><th>status_type</th><th>ben_multi_reg_ind</th><th>rec_date</th><th>first_decision</th><th>first_decision_date</th><th>i129_employer_name</th><th>requested_class</th><th>basis_for_classification</th><th>requested_action</th><th>number_of_beneficiaries</th><th>ben_sex</th><th>ben_country_of_birth</th><th>ben_current_class</th><th>job_title</th><th>worksite_street</th><th>worksite_city</th><th>worksite_state</th><th>worksite_zip</th><th>full_time_ind</th><th>wage_amt</th><th>wage_unit</th><th>valid_from</th><th>valid_to</th><th>num_of_emp_in_us</th><th>s1q1a</th><th>s1q1b</th><th>ben_education_code</th><th>ed_level_definition</th><th>ben_pfield_of_study</th><th>ben_comp_paid</th><th>dot_code</th><th>naics_code</th><th>s3q1</th><th>s4q1</th><th>t_u_vawa_flag</th><th>fiscal_year</th></tr><tr><td>str</td><td>str</td><td>f64</td><td>str</td><td>str</td><td>f64</td><td>str</td><td>str</td><td>str</td><td>str</td><td>f64</td><td>str</td><td>f64</td><td>str</td><td>str</td><td>str</td><td>str</td><td>str</td><td>str</td><td>str</td><td>f64</td><td>str</td><td>str</td><td>str</td><td>str</td><td>str</td><td>str</td><td>str</td><td>f64</td><td>str</td><td>str</td><td>str</td><td>str</td><td>str</td><td>f64</td><td>str</td><td>str</td><td>str</td><td>str</td><td>str</td><td>str</td><td>f64</td><td>f64</td><td>str</td><td>str</td><td>str</td><td>i32</td></tr></thead><tbody><tr><td>&quot;ABW&quot;</td><td>&quot;NLD&quot;</td><td>1979.0</td><td>&quot;female&quot;</td><td>&quot;HUBSPOT, INC&quot;</td><td>2.02632791e8</td><td>&quot;25 First Street&quot;</td><td>&quot;Cambridge&quot;</td><td>&quot;MA&quot;</td><td>&quot;02141&quot;</td><td>2023.0</td><td>&quot;ELIGIBLE&quot;</td><td>0.0</td><td>null</td><td>null</td><td>null</td><td>null</td><td>null</td><td>null</td><td>null</td><td>null</td><td>null</td><td>null</td><td>null</td><td>null</td><td>null</td><td>null</td><td>null</td><td>null</td><td>null</td><td>null</td><td>null</td><td>null</td><td>null</td><td>null</td><td>null</td><td>null</td><td>null</td><td>null</td><td>null</td><td>null</td><td>null</td><td>null</td><td>null</td><td>null</td><td>null</td><td>2023</td></tr><tr><td>&quot;ABW&quot;</td><td>&quot;NLD&quot;</td><td>1982.0</td><td>&quot;female&quot;</td><td>&quot;Schlumberger Technology Corpor…</td><td>2.21692661e8</td><td>&quot;3600 Briarpark Dr&quot;</td><td>&quot;Houston&quot;</td><td>&quot;TX&quot;</td><td>&quot;77042-5206&quot;</td><td>2021.0</td><td>&quot;CREATED&quot;</td><td>0.0</td><td>null</td><td>null</td><td>null</td><td>null</td><td>null</td><td>null</td><td>null</td><td>null</td><td>null</td><td>null</td><td>null</td><td>null</td><td>null</td><td>null</td><td>null</td><td>null</td><td>null</td><td>null</td><td>null</td><td>null</td><td>null</td><td>null</td><td>null</td><td>null</td><td>null</td><td>null</td><td>null</td><td>null</td><td>null</td><td>null</td><td>null</td><td>null</td><td>null</td><td>2021</td></tr><tr><td>&quot;ABW&quot;</td><td>&quot;NLD&quot;</td><td>1982.0</td><td>&quot;female&quot;</td><td>&quot;Schlumberger Technology Corpor…</td><td>2.21692661e8</td><td>&quot;3600 Briarpark Dr&quot;</td><td>&quot;Houston&quot;</td><td>&quot;TX&quot;</td><td>&quot;77042-5206&quot;</td><td>2022.0</td><td>&quot;ELIGIBLE&quot;</td><td>0.0</td><td>null</td><td>null</td><td>null</td><td>null</td><td>null</td><td>null</td><td>null</td><td>null</td><td>null</td><td>null</td><td>null</td><td>null</td><td>null</td><td>null</td><td>null</td><td>null</td><td>null</td><td>null</td><td>null</td><td>null</td><td>null</td><td>null</td><td>null</td><td>null</td><td>null</td><td>null</td><td>null</td><td>null</td><td>null</td><td>null</td><td>null</td><td>null</td><td>null</td><td>2022</td></tr><tr><td>&quot;ABW&quot;</td><td>&quot;NLD&quot;</td><td>1982.0</td><td>&quot;female&quot;</td><td>&quot;Schlumberger Technology Corpor…</td><td>2.21692661e8</td><td>&quot;3600 Briarpark Dr&quot;</td><td>&quot;Houston&quot;</td><td>&quot;TX&quot;</td><td>&quot;77042-5206&quot;</td><td>2023.0</td><td>&quot;ELIGIBLE&quot;</td><td>0.0</td><td>null</td><td>null</td><td>null</td><td>null</td><td>null</td><td>null</td><td>null</td><td>null</td><td>null</td><td>null</td><td>null</td><td>null</td><td>null</td><td>null</td><td>null</td><td>null</td><td>null</td><td>null</td><td>null</td><td>null</td><td>null</td><td>null</td><td>null</td><td>null</td><td>null</td><td>null</td><td>null</td><td>null</td><td>null</td><td>null</td><td>null</td><td>null</td><td>null</td><td>2023</td></tr><tr><td>&quot;ABW&quot;</td><td>&quot;NLD&quot;</td><td>1982.0</td><td>&quot;male&quot;</td><td>&quot;Vanderlande Industries, Inc.&quot;</td><td>9.80182968e8</td><td>&quot;1975&nbsp;&nbsp;West Oak Circle&quot;</td><td>&quot;Marietta&quot;</td><td>&quot;GA&quot;</td><td>&quot;30062&quot;</td><td>2023.0</td><td>&quot;ELIGIBLE&quot;</td><td>0.0</td><td>null</td><td>null</td><td>null</td><td>null</td><td>null</td><td>null</td><td>null</td><td>null</td><td>null</td><td>null</td><td>null</td><td>null</td><td>null</td><td>null</td><td>null</td><td>null</td><td>null</td><td>null</td><td>null</td><td>null</td><td>null</td><td>null</td><td>null</td><td>null</td><td>null</td><td>null</td><td>null</td><td>null</td><td>null</td><td>null</td><td>null</td><td>null</td><td>null</td><td>2023</td></tr><tr><td>&hellip;</td><td>&hellip;</td><td>&hellip;</td><td>&hellip;</td><td>&hellip;</td><td>&hellip;</td><td>&hellip;</td><td>&hellip;</td><td>&hellip;</td><td>&hellip;</td><td>&hellip;</td><td>&hellip;</td><td>&hellip;</td><td>&hellip;</td><td>&hellip;</td><td>&hellip;</td><td>&hellip;</td><td>&hellip;</td><td>&hellip;</td><td>&hellip;</td><td>&hellip;</td><td>&hellip;</td><td>&hellip;</td><td>&hellip;</td><td>&hellip;</td><td>&hellip;</td><td>&hellip;</td><td>&hellip;</td><td>&hellip;</td><td>&hellip;</td><td>&hellip;</td><td>&hellip;</td><td>&hellip;</td><td>&hellip;</td><td>&hellip;</td><td>&hellip;</td><td>&hellip;</td><td>&hellip;</td><td>&hellip;</td><td>&hellip;</td><td>&hellip;</td><td>&hellip;</td><td>&hellip;</td><td>&hellip;</td><td>&hellip;</td><td>&hellip;</td><td>&hellip;</td></tr><tr><td>&quot;ZZK&quot;</td><td>&quot;KOR&quot;</td><td>1999.0</td><td>&quot;male&quot;</td><td>&quot;Antra Inc.&quot;</td><td>2.61765515e8</td><td>&quot;21355 Ridgetop Cir&quot;</td><td>&quot;Dulles&quot;</td><td>&quot;VA&quot;</td><td>&quot;20166-8500&quot;</td><td>2023.0</td><td>&quot;ELIGIBLE&quot;</td><td>0.0</td><td>null</td><td>null</td><td>null</td><td>null</td><td>null</td><td>null</td><td>null</td><td>null</td><td>null</td><td>null</td><td>null</td><td>null</td><td>null</td><td>null</td><td>null</td><td>null</td><td>null</td><td>null</td><td>null</td><td>null</td><td>null</td><td>null</td><td>null</td><td>null</td><td>null</td><td>null</td><td>null</td><td>null</td><td>null</td><td>null</td><td>null</td><td>null</td><td>null</td><td>2023</td></tr><tr><td>&quot;ZZK&quot;</td><td>&quot;KOR&quot;</td><td>1999.0</td><td>&quot;male&quot;</td><td>&quot;Box, Inc.&quot;</td><td>2.02714444e8</td><td>&quot;900 Jefferson Ave.&quot;</td><td>&quot;Redwood City&quot;</td><td>&quot;CA&quot;</td><td>&quot;94063&quot;</td><td>2023.0</td><td>&quot;ELIGIBLE&quot;</td><td>0.0</td><td>null</td><td>null</td><td>null</td><td>null</td><td>null</td><td>null</td><td>null</td><td>null</td><td>null</td><td>null</td><td>null</td><td>null</td><td>null</td><td>null</td><td>null</td><td>null</td><td>null</td><td>null</td><td>null</td><td>null</td><td>null</td><td>null</td><td>null</td><td>null</td><td>null</td><td>null</td><td>null</td><td>null</td><td>null</td><td>null</td><td>null</td><td>null</td><td>null</td><td>2023</td></tr><tr><td>&quot;ZZK&quot;</td><td>&quot;PRK&quot;</td><td>1986.0</td><td>&quot;female&quot;</td><td>&quot;ATKINS NORTH AMERICA INC&quot;</td><td>5.90896138e8</td><td>&quot;4030 W Boy Scout Blvd&quot;</td><td>&quot;Tampa&quot;</td><td>&quot;FL&quot;</td><td>&quot;33607-5713&quot;</td><td>2021.0</td><td>&quot;SELECTED&quot;</td><td>0.0</td><td>&quot;9/29/2020&quot;</td><td>&quot;Approved&quot;</td><td>&quot;11/24/2020&quot;</td><td>&quot;ATKINS NORTH AMERICA INC&quot;</td><td>&quot;1B1&quot;</td><td>&quot;A&quot;</td><td>&quot;B&quot;</td><td>1.0</td><td>&quot;F&quot;</td><td>&quot;KOREA&quot;</td><td>&quot;F1&quot;</td><td>&quot;WATER RESOURCE ENGINEER II&quot;</td><td>&quot;16430 N SCOTTDALE RD STE 250&quot;</td><td>&quot;SCOTTSDALE&quot;</td><td>&quot;AZ&quot;</td><td>85254.0</td><td>null</td><td>null</td><td>null</td><td>&quot;11/24/2020&quot;</td><td>&quot;9/30/2023&quot;</td><td>0.0</td><td>&quot;N&quot;</td><td>null</td><td>&quot;I&quot;</td><td>&quot;DOCTORATE DEGREE&quot;</td><td>&quot;CIVIL ENVIRONMENTAL AND SUSTAI&quot;</td><td>&quot;69972.0&quot;</td><td>5.0</td><td>541330.0</td><td>&quot;B&quot;</td><td>&quot;N&quot;</td><td>null</td><td>2021</td></tr><tr><td>&quot;ZZK&quot;</td><td>&quot;PRK&quot;</td><td>1992.0</td><td>&quot;male&quot;</td><td>&quot;Liberty Distribution, LLC&quot;</td><td>8.23735977e8</td><td>&quot;4370 Varsity Dr&quot;</td><td>&quot;Ann Arbor&quot;</td><td>&quot;MI&quot;</td><td>&quot;48108-2359&quot;</td><td>2022.0</td><td>&quot;SELECTED&quot;</td><td>0.0</td><td>null</td><td>null</td><td>null</td><td>null</td><td>null</td><td>null</td><td>null</td><td>null</td><td>null</td><td>null</td><td>null</td><td>null</td><td>null</td><td>null</td><td>null</td><td>null</td><td>null</td><td>null</td><td>null</td><td>null</td><td>null</td><td>null</td><td>null</td><td>null</td><td>null</td><td>null</td><td>null</td><td>null</td><td>null</td><td>null</td><td>null</td><td>null</td><td>null</td><td>2022</td></tr><tr><td>&quot;ZZK&quot;</td><td>&quot;PRK&quot;</td><td>1994.0</td><td>&quot;female&quot;</td><td>&quot;HCL America Solutions Inc&quot;</td><td>4.55639284e8</td><td>&quot;330 Potrero Avenue&quot;</td><td>&quot;Sunnyvale&quot;</td><td>&quot;CA&quot;</td><td>&quot;94085&quot;</td><td>2022.0</td><td>&quot;ELIGIBLE&quot;</td><td>0.0</td><td>null</td><td>null</td><td>null</td><td>null</td><td>null</td><td>null</td><td>null</td><td>null</td><td>null</td><td>null</td><td>null</td><td>null</td><td>null</td><td>null</td><td>null</td><td>null</td><td>null</td><td>null</td><td>null</td><td>null</td><td>null</td><td>null</td><td>null</td><td>null</td><td>null</td><td>null</td><td>null</td><td>null</td><td>null</td><td>null</td><td>null</td><td>null</td><td>null</td><td>2022</td></tr></tbody></table></div>"
      ],
      "text/plain": [
       "shape: (277_158, 47)\n",
       "┌──────────────┬──────────────┬─────────────┬────────┬───┬──────┬──────┬─────────────┬─────────────┐\n",
       "│ country_of_b ┆ country_of_n ┆ ben_year_of ┆ gender ┆ … ┆ s3q1 ┆ s4q1 ┆ t_u_vawa_fl ┆ fiscal_year │\n",
       "│ irth         ┆ ationality   ┆ _birth      ┆ ---    ┆   ┆ ---  ┆ ---  ┆ ag          ┆ ---         │\n",
       "│ ---          ┆ ---          ┆ ---         ┆ str    ┆   ┆ str  ┆ str  ┆ ---         ┆ i32         │\n",
       "│ str          ┆ str          ┆ f64         ┆        ┆   ┆      ┆      ┆ str         ┆             │\n",
       "╞══════════════╪══════════════╪═════════════╪════════╪═══╪══════╪══════╪═════════════╪═════════════╡\n",
       "│ ABW          ┆ NLD          ┆ 1979.0      ┆ female ┆ … ┆ null ┆ null ┆ null        ┆ 2023        │\n",
       "│ ABW          ┆ NLD          ┆ 1982.0      ┆ female ┆ … ┆ null ┆ null ┆ null        ┆ 2021        │\n",
       "│ ABW          ┆ NLD          ┆ 1982.0      ┆ female ┆ … ┆ null ┆ null ┆ null        ┆ 2022        │\n",
       "│ ABW          ┆ NLD          ┆ 1982.0      ┆ female ┆ … ┆ null ┆ null ┆ null        ┆ 2023        │\n",
       "│ ABW          ┆ NLD          ┆ 1982.0      ┆ male   ┆ … ┆ null ┆ null ┆ null        ┆ 2023        │\n",
       "│ …            ┆ …            ┆ …           ┆ …      ┆ … ┆ …    ┆ …    ┆ …           ┆ …           │\n",
       "│ ZZK          ┆ KOR          ┆ 1999.0      ┆ male   ┆ … ┆ null ┆ null ┆ null        ┆ 2023        │\n",
       "│ ZZK          ┆ KOR          ┆ 1999.0      ┆ male   ┆ … ┆ null ┆ null ┆ null        ┆ 2023        │\n",
       "│ ZZK          ┆ PRK          ┆ 1986.0      ┆ female ┆ … ┆ B    ┆ N    ┆ null        ┆ 2021        │\n",
       "│ ZZK          ┆ PRK          ┆ 1992.0      ┆ male   ┆ … ┆ null ┆ null ┆ null        ┆ 2022        │\n",
       "│ ZZK          ┆ PRK          ┆ 1994.0      ┆ female ┆ … ┆ null ┆ null ┆ null        ┆ 2022        │\n",
       "└──────────────┴──────────────┴─────────────┴────────┴───┴──────┴──────┴─────────────┴─────────────┘"
      ]
     },
     "execution_count": 1096,
     "metadata": {},
     "output_type": "execute_result"
    }
   ],
   "source": [
    "combined_df_df_clean"
   ]
  },
  {
   "cell_type": "code",
   "execution_count": 1097,
   "metadata": {},
   "outputs": [],
   "source": [
    "combined_df_df_clean.write_csv(\"data/TRK_13139_FY2021_2023.csv\")"
   ]
  },
  {
   "cell_type": "code",
   "execution_count": 1098,
   "metadata": {},
   "outputs": [
    {
     "data": {
      "text/plain": [
       "Schema([('country_of_birth', String),\n",
       "        ('country_of_nationality', String),\n",
       "        ('ben_year_of_birth', Float64),\n",
       "        ('gender', String),\n",
       "        ('employer_name', String),\n",
       "        ('fein', Float64),\n",
       "        ('mail_addr', String),\n",
       "        ('city', String),\n",
       "        ('state', String),\n",
       "        ('zip', String),\n",
       "        ('lottery_year', Float64),\n",
       "        ('status_type', String),\n",
       "        ('ben_multi_reg_ind', Float64),\n",
       "        ('rec_date', String),\n",
       "        ('first_decision', String),\n",
       "        ('first_decision_date', String),\n",
       "        ('i129_employer_name', String),\n",
       "        ('requested_class', String),\n",
       "        ('basis_for_classification', String),\n",
       "        ('requested_action', String),\n",
       "        ('number_of_beneficiaries', Float64),\n",
       "        ('ben_sex', String),\n",
       "        ('ben_country_of_birth', String),\n",
       "        ('ben_current_class', String),\n",
       "        ('job_title', String),\n",
       "        ('worksite_street', String),\n",
       "        ('worksite_city', String),\n",
       "        ('worksite_state', String),\n",
       "        ('worksite_zip', Float64),\n",
       "        ('full_time_ind', String),\n",
       "        ('wage_amt', String),\n",
       "        ('wage_unit', String),\n",
       "        ('valid_from', String),\n",
       "        ('valid_to', String),\n",
       "        ('num_of_emp_in_us', Float64),\n",
       "        ('s1q1a', String),\n",
       "        ('s1q1b', String),\n",
       "        ('ben_education_code', String),\n",
       "        ('ed_level_definition', String),\n",
       "        ('ben_pfield_of_study', String),\n",
       "        ('ben_comp_paid', String),\n",
       "        ('dot_code', Float64),\n",
       "        ('naics_code', Float64),\n",
       "        ('s3q1', String),\n",
       "        ('s4q1', String),\n",
       "        ('t_u_vawa_flag', String),\n",
       "        ('fiscal_year', Int32)])"
      ]
     },
     "execution_count": 1098,
     "metadata": {},
     "output_type": "execute_result"
    }
   ],
   "source": [
    "combined_df_df_clean.schema"
   ]
  },
  {
   "cell_type": "code",
   "execution_count": 1099,
   "metadata": {},
   "outputs": [],
   "source": [
    "TRK_13139_FY2024_multi_reg = pl.read_csv('data/TRK_13139_FY2024_multi_reg.csv', ignore_errors=True)"
   ]
  },
  {
   "cell_type": "code",
   "execution_count": 1100,
   "metadata": {},
   "outputs": [
    {
     "name": "stdout",
     "output_type": "stream",
     "text": [
      "['bcn', 'country_of_birth', 'country_of_nationality', 'ben_date_of_birth', 'ben_year_of_birth', 'gender', 'employer_name', 'FEIN']\n",
      "['mail_addr', 'city', 'state', 'zip', 'agent_first_name', 'agent_last_name', 'lottery_year', 'status_type']\n",
      "['ben_multi_reg_ind', 'RECEIPT_NUMBER', 'rec_date', 'FIRST_DECISION', 'first_decision_date', 'i129_employer_name', 'PET_STREET', 'PET_CITY']\n",
      "['PET_STATE', 'PET_ZIP', 'REQUESTED_CLASS', 'BASIS_FOR_CLASSIFICATION', 'REQUESTED_ACTION', 'NUMBER_OF_BENEFICIARIES', 'BEN_SEX', 'BEN_COUNTRY_OF_BIRTH']\n",
      "['BEN_CURRENT_CLASS', 'JOB_TITLE', 'DOL_ETA_CASE_NUMBER', 'WORKSITE_STREET', 'WORKSITE_CITY', 'WORKSITE_STATE', 'WORKSITE_ZIP', 'FULL_TIME_IND']\n",
      "['WAGE_AMT', 'WAGE_UNIT', 'valid_from', 'valid_to', 'NUM_OF_EMP_IN_US', 'S1Q1A', 'S1Q1B', 'BEN_EDUCATION_CODE']\n",
      "['ED_LEVEL_DEFINITION', 'BEN_PFIELD_OF_STUDY', 'BEN_COMP_PAID', 'DOT_CODE', 'NAICS_CODE', 'S3Q1', 'S4Q1', 'T_U_VAWA_FLAG']\n"
     ]
    }
   ],
   "source": [
    "# Print columns in groups of 10\n",
    "columns = TRK_13139_FY2024_multi_reg.columns\n",
    "for i in range(0, len(columns), 8):\n",
    "    print(columns[i:i+8])"
   ]
  },
  {
   "cell_type": "code",
   "execution_count": 1101,
   "metadata": {},
   "outputs": [],
   "source": [
    "TRK_13139_FY2024_single_reg = pl.read_csv('data/TRK_13139_FY2024_single_reg.csv', ignore_errors=True)"
   ]
  },
  {
   "cell_type": "code",
   "execution_count": 1102,
   "metadata": {},
   "outputs": [
    {
     "name": "stdout",
     "output_type": "stream",
     "text": [
      "['bcn', 'country_of_birth', 'country_of_nationality', 'ben_date_of_birth', 'ben_year_of_birth', 'gender', 'employer_name', 'FEIN']\n",
      "['mail_addr', 'city', 'state', 'zip', 'agent_first_name', 'agent_last_name', 'lottery_year', 'status_type']\n",
      "['ben_multi_reg_ind', 'RECEIPT_NUMBER', 'rec_date', 'FIRST_DECISION', 'first_decision_date', 'i129_employer_name', 'PET_STREET', 'PET_CITY']\n",
      "['PET_STATE', 'PET_ZIP', 'REQUESTED_CLASS', 'BASIS_FOR_CLASSIFICATION', 'REQUESTED_ACTION', 'NUMBER_OF_BENEFICIARIES', 'BEN_SEX', 'BEN_COUNTRY_OF_BIRTH']\n",
      "['BEN_CURRENT_CLASS', 'JOB_TITLE', 'DOL_ETA_CASE_NUMBER', 'WORKSITE_STREET', 'WORKSITE_CITY', 'WORKSITE_STATE', 'WORKSITE_ZIP', 'FULL_TIME_IND']\n",
      "['WAGE_AMT', 'WAGE_UNIT', 'valid_from', 'valid_to', 'NUM_OF_EMP_IN_US', 'S1Q1A', 'S1Q1B', 'BEN_EDUCATION_CODE']\n",
      "['ED_LEVEL_DEFINITION', 'BEN_PFIELD_OF_STUDY', 'BEN_COMP_PAID', 'DOT_CODE', 'NAICS_CODE', 'S3Q1', 'S4Q1', 'T_U_VAWA_FLAG']\n"
     ]
    }
   ],
   "source": [
    "# Print columns in groups of 10\n",
    "columns = TRK_13139_FY2024_single_reg.columns\n",
    "for i in range(0, len(columns), 8):\n",
    "    print(columns[i:i+8])"
   ]
  },
  {
   "cell_type": "code",
   "execution_count": 1103,
   "metadata": {},
   "outputs": [],
   "source": [
    "def clean_data(TRK_13139_FY2024_single_reg_df):\n",
    "    # Filter rows for multiple countries (Kenya, Burundi, Rwanda)\n",
    "    countries_mask = TRK_13139_FY2024_single_reg_df['country_of_birth'].str.contains(\"KEN|BDI|RWA\", regex=True, na=False, case=False)\n",
    "    TRK_13139_FY2024_single_reg_df = TRK_13139_FY2024_single_reg_df[countries_mask]\n",
    "    \n",
    "    # Filter rows based on column: 'JOB_TITLE'\n",
    "    TRK_13139_FY2024_single_reg_df = TRK_13139_FY2024_single_reg_df[TRK_13139_FY2024_single_reg_df['JOB_TITLE'].notna()]\n",
    "    return TRK_13139_FY2024_single_reg_df"
   ]
  },
  {
   "cell_type": "code",
   "execution_count": 1104,
   "metadata": {},
   "outputs": [],
   "source": [
    "# Loaded variable 'data/TRK_13139_FY2024_single_reg' from kernel state\n",
    "TRK_13139_FY2024_single_reg_df = TRK_13139_FY2024_single_reg.to_pandas()\n",
    "TRK_13139_FY2024_single_reg_df_kn = clean_data(TRK_13139_FY2024_single_reg_df.copy())"
   ]
  },
  {
   "cell_type": "code",
   "execution_count": 1105,
   "metadata": {},
   "outputs": [
    {
     "data": {
      "text/html": [
       "<div>\n",
       "<style scoped>\n",
       "    .dataframe tbody tr th:only-of-type {\n",
       "        vertical-align: middle;\n",
       "    }\n",
       "\n",
       "    .dataframe tbody tr th {\n",
       "        vertical-align: top;\n",
       "    }\n",
       "\n",
       "    .dataframe thead th {\n",
       "        text-align: right;\n",
       "    }\n",
       "</style>\n",
       "<table border=\"1\" class=\"dataframe\">\n",
       "  <thead>\n",
       "    <tr style=\"text-align: right;\">\n",
       "      <th></th>\n",
       "      <th>bcn</th>\n",
       "      <th>country_of_birth</th>\n",
       "      <th>country_of_nationality</th>\n",
       "      <th>ben_date_of_birth</th>\n",
       "      <th>ben_year_of_birth</th>\n",
       "      <th>gender</th>\n",
       "      <th>employer_name</th>\n",
       "      <th>FEIN</th>\n",
       "      <th>mail_addr</th>\n",
       "      <th>city</th>\n",
       "      <th>...</th>\n",
       "      <th>S1Q1B</th>\n",
       "      <th>BEN_EDUCATION_CODE</th>\n",
       "      <th>ED_LEVEL_DEFINITION</th>\n",
       "      <th>BEN_PFIELD_OF_STUDY</th>\n",
       "      <th>BEN_COMP_PAID</th>\n",
       "      <th>DOT_CODE</th>\n",
       "      <th>NAICS_CODE</th>\n",
       "      <th>S3Q1</th>\n",
       "      <th>S4Q1</th>\n",
       "      <th>T_U_VAWA_FLAG</th>\n",
       "    </tr>\n",
       "  </thead>\n",
       "  <tbody>\n",
       "    <tr>\n",
       "      <th>21</th>\n",
       "      <td>(b)(6)</td>\n",
       "      <td>KEN</td>\n",
       "      <td>KEN</td>\n",
       "      <td>(b)(6)</td>\n",
       "      <td>1984.0</td>\n",
       "      <td>male</td>\n",
       "      <td>Dell USA L.P.</td>\n",
       "      <td>742616802.0</td>\n",
       "      <td>One Dell Way</td>\n",
       "      <td>Round Rock</td>\n",
       "      <td>...</td>\n",
       "      <td>N</td>\n",
       "      <td>None</td>\n",
       "      <td>None</td>\n",
       "      <td>BUSINESS ADMINISTRATION</td>\n",
       "      <td>141000.00</td>\n",
       "      <td>50.0</td>\n",
       "      <td>42343.0</td>\n",
       "      <td>B</td>\n",
       "      <td>N</td>\n",
       "      <td>None</td>\n",
       "    </tr>\n",
       "    <tr>\n",
       "      <th>2053</th>\n",
       "      <td>(b)(6)</td>\n",
       "      <td>KEN</td>\n",
       "      <td>KEN</td>\n",
       "      <td>(b)(6)</td>\n",
       "      <td>1987.0</td>\n",
       "      <td>male</td>\n",
       "      <td>Management Health Systems, LLC</td>\n",
       "      <td>582297524.0</td>\n",
       "      <td>1580 Sawgrass Corporate Pkwy</td>\n",
       "      <td>Sunrise</td>\n",
       "      <td>...</td>\n",
       "      <td>N</td>\n",
       "      <td>F</td>\n",
       "      <td>BACHELOR'S DEGREE</td>\n",
       "      <td>MEDICAL LABORATORY SCIENCE</td>\n",
       "      <td>NaN</td>\n",
       "      <td>78.0</td>\n",
       "      <td>561300.0</td>\n",
       "      <td>B</td>\n",
       "      <td>N</td>\n",
       "      <td>None</td>\n",
       "    </tr>\n",
       "    <tr>\n",
       "      <th>5832</th>\n",
       "      <td>(b)(6)</td>\n",
       "      <td>KEN</td>\n",
       "      <td>KEN</td>\n",
       "      <td>(b)(6)</td>\n",
       "      <td>1997.0</td>\n",
       "      <td>male</td>\n",
       "      <td>Adaptas Solutions LLC</td>\n",
       "      <td>43339914.0</td>\n",
       "      <td>9 Second St</td>\n",
       "      <td>Palmer</td>\n",
       "      <td>...</td>\n",
       "      <td>N</td>\n",
       "      <td>F</td>\n",
       "      <td>BACHELOR'S DEGREE</td>\n",
       "      <td>MECHANICAL ENGINEERING</td>\n",
       "      <td>80000.00</td>\n",
       "      <td>12.0</td>\n",
       "      <td>336419.0</td>\n",
       "      <td>B</td>\n",
       "      <td>N</td>\n",
       "      <td>None</td>\n",
       "    </tr>\n",
       "    <tr>\n",
       "      <th>10423</th>\n",
       "      <td>(b)(6)</td>\n",
       "      <td>RWA</td>\n",
       "      <td>RWA</td>\n",
       "      <td>(b)(6)</td>\n",
       "      <td>2000.0</td>\n",
       "      <td>female</td>\n",
       "      <td>Bank of America, N.A.</td>\n",
       "      <td>941687665.0</td>\n",
       "      <td>401 N Tryon Street</td>\n",
       "      <td>Charlotte</td>\n",
       "      <td>...</td>\n",
       "      <td>N</td>\n",
       "      <td>F</td>\n",
       "      <td>BACHELOR'S DEGREE</td>\n",
       "      <td>CHEMISTRY DATA SCIENCE</td>\n",
       "      <td>95000.00</td>\n",
       "      <td>199.0</td>\n",
       "      <td>522110.0</td>\n",
       "      <td>B</td>\n",
       "      <td>N</td>\n",
       "      <td>None</td>\n",
       "    </tr>\n",
       "    <tr>\n",
       "      <th>10440</th>\n",
       "      <td>(b)(6)</td>\n",
       "      <td>KEN</td>\n",
       "      <td>KEN</td>\n",
       "      <td>(b)(6)</td>\n",
       "      <td>1997.0</td>\n",
       "      <td>male</td>\n",
       "      <td>BNP Paribas Securities Corp.</td>\n",
       "      <td>133235334.0</td>\n",
       "      <td>525 Washington Blvd.</td>\n",
       "      <td>Jersey City</td>\n",
       "      <td>...</td>\n",
       "      <td>N</td>\n",
       "      <td>F</td>\n",
       "      <td>BACHELOR'S DEGREE</td>\n",
       "      <td>ECONOMICS</td>\n",
       "      <td>100000.00</td>\n",
       "      <td>50.0</td>\n",
       "      <td>523110.0</td>\n",
       "      <td>B</td>\n",
       "      <td>N</td>\n",
       "      <td>None</td>\n",
       "    </tr>\n",
       "    <tr>\n",
       "      <th>...</th>\n",
       "      <td>...</td>\n",
       "      <td>...</td>\n",
       "      <td>...</td>\n",
       "      <td>...</td>\n",
       "      <td>...</td>\n",
       "      <td>...</td>\n",
       "      <td>...</td>\n",
       "      <td>...</td>\n",
       "      <td>...</td>\n",
       "      <td>...</td>\n",
       "      <td>...</td>\n",
       "      <td>...</td>\n",
       "      <td>...</td>\n",
       "      <td>...</td>\n",
       "      <td>...</td>\n",
       "      <td>...</td>\n",
       "      <td>...</td>\n",
       "      <td>...</td>\n",
       "      <td>...</td>\n",
       "      <td>...</td>\n",
       "      <td>...</td>\n",
       "    </tr>\n",
       "    <tr>\n",
       "      <th>330531</th>\n",
       "      <td>(b)(6)</td>\n",
       "      <td>RWA</td>\n",
       "      <td>RWA</td>\n",
       "      <td>(b)(6)</td>\n",
       "      <td>1999.0</td>\n",
       "      <td>female</td>\n",
       "      <td>Vecna Robotics, Inc.</td>\n",
       "      <td>831090940.0</td>\n",
       "      <td>425 Waverley Oaks Road</td>\n",
       "      <td>Waltham</td>\n",
       "      <td>...</td>\n",
       "      <td>N</td>\n",
       "      <td>None</td>\n",
       "      <td>None</td>\n",
       "      <td>MANAGEMENT</td>\n",
       "      <td>90000.00</td>\n",
       "      <td>19.0</td>\n",
       "      <td>541519.0</td>\n",
       "      <td>M</td>\n",
       "      <td>N</td>\n",
       "      <td>None</td>\n",
       "    </tr>\n",
       "    <tr>\n",
       "      <th>332523</th>\n",
       "      <td>(b)(6)</td>\n",
       "      <td>KEN</td>\n",
       "      <td>KEN</td>\n",
       "      <td>(b)(6)</td>\n",
       "      <td>1980.0</td>\n",
       "      <td>female</td>\n",
       "      <td>Freedom Debt Relief LLC</td>\n",
       "      <td>300280712.0</td>\n",
       "      <td>1875 South Grant Street</td>\n",
       "      <td>San Mateo</td>\n",
       "      <td>...</td>\n",
       "      <td>N</td>\n",
       "      <td>F</td>\n",
       "      <td>BACHELOR'S DEGREE</td>\n",
       "      <td>BACHELOR OF TECHNOLOGY DAIRYING</td>\n",
       "      <td>100785.62</td>\n",
       "      <td>30.0</td>\n",
       "      <td>541990.0</td>\n",
       "      <td>B</td>\n",
       "      <td>N</td>\n",
       "      <td>None</td>\n",
       "    </tr>\n",
       "    <tr>\n",
       "      <th>336583</th>\n",
       "      <td>(b)(6)</td>\n",
       "      <td>KEN</td>\n",
       "      <td>KEN</td>\n",
       "      <td>(b)(6)</td>\n",
       "      <td>1981.0</td>\n",
       "      <td>male</td>\n",
       "      <td>World Conference of Religions For Peace Inc.</td>\n",
       "      <td>132671065.0</td>\n",
       "      <td>777 United Nations Plz Ste 9a</td>\n",
       "      <td>New York</td>\n",
       "      <td>...</td>\n",
       "      <td>N</td>\n",
       "      <td>F</td>\n",
       "      <td>BACHELOR'S DEGREE</td>\n",
       "      <td>PROJECT MANAGEMENT</td>\n",
       "      <td>80000.00</td>\n",
       "      <td>161.0</td>\n",
       "      <td>813319.0</td>\n",
       "      <td>B</td>\n",
       "      <td>N</td>\n",
       "      <td>None</td>\n",
       "    </tr>\n",
       "    <tr>\n",
       "      <th>344219</th>\n",
       "      <td>(b)(6)</td>\n",
       "      <td>KEN</td>\n",
       "      <td>KEN</td>\n",
       "      <td>(b)(6)</td>\n",
       "      <td>1996.0</td>\n",
       "      <td>female</td>\n",
       "      <td>Oracle America, Inc.</td>\n",
       "      <td>942805249.0</td>\n",
       "      <td>2300 Oracle Way</td>\n",
       "      <td>Austin</td>\n",
       "      <td>...</td>\n",
       "      <td>N</td>\n",
       "      <td>F</td>\n",
       "      <td>BACHELOR'S DEGREE</td>\n",
       "      <td>OPERATIONS RESEARCH AND FINANCIAL ENGINEERING</td>\n",
       "      <td>132870.00</td>\n",
       "      <td>30.0</td>\n",
       "      <td>513210.0</td>\n",
       "      <td>B</td>\n",
       "      <td>N</td>\n",
       "      <td>None</td>\n",
       "    </tr>\n",
       "    <tr>\n",
       "      <th>344603</th>\n",
       "      <td>(b)(6)</td>\n",
       "      <td>KEN</td>\n",
       "      <td>KEN</td>\n",
       "      <td>(b)(6)</td>\n",
       "      <td>1993.0</td>\n",
       "      <td>male</td>\n",
       "      <td>IGT</td>\n",
       "      <td>880062109.0</td>\n",
       "      <td>6355 S Buffalo Dr</td>\n",
       "      <td>Las Vegas</td>\n",
       "      <td>...</td>\n",
       "      <td>N</td>\n",
       "      <td>None</td>\n",
       "      <td>None</td>\n",
       "      <td>COMPUTER SCIENCE AND ENGINEERING</td>\n",
       "      <td>96425.16</td>\n",
       "      <td>30.0</td>\n",
       "      <td>713290.0</td>\n",
       "      <td>B</td>\n",
       "      <td>N</td>\n",
       "      <td>None</td>\n",
       "    </tr>\n",
       "  </tbody>\n",
       "</table>\n",
       "<p>114 rows × 56 columns</p>\n",
       "</div>"
      ],
      "text/plain": [
       "           bcn country_of_birth country_of_nationality ben_date_of_birth  \\\n",
       "21      (b)(6)              KEN                    KEN            (b)(6)   \n",
       "2053    (b)(6)              KEN                    KEN            (b)(6)   \n",
       "5832    (b)(6)              KEN                    KEN            (b)(6)   \n",
       "10423   (b)(6)              RWA                    RWA            (b)(6)   \n",
       "10440   (b)(6)              KEN                    KEN            (b)(6)   \n",
       "...        ...              ...                    ...               ...   \n",
       "330531  (b)(6)              RWA                    RWA            (b)(6)   \n",
       "332523  (b)(6)              KEN                    KEN            (b)(6)   \n",
       "336583  (b)(6)              KEN                    KEN            (b)(6)   \n",
       "344219  (b)(6)              KEN                    KEN            (b)(6)   \n",
       "344603  (b)(6)              KEN                    KEN            (b)(6)   \n",
       "\n",
       "        ben_year_of_birth  gender  \\\n",
       "21                 1984.0    male   \n",
       "2053               1987.0    male   \n",
       "5832               1997.0    male   \n",
       "10423              2000.0  female   \n",
       "10440              1997.0    male   \n",
       "...                   ...     ...   \n",
       "330531             1999.0  female   \n",
       "332523             1980.0  female   \n",
       "336583             1981.0    male   \n",
       "344219             1996.0  female   \n",
       "344603             1993.0    male   \n",
       "\n",
       "                                       employer_name         FEIN  \\\n",
       "21                                     Dell USA L.P.  742616802.0   \n",
       "2053                  Management Health Systems, LLC  582297524.0   \n",
       "5832                           Adaptas Solutions LLC   43339914.0   \n",
       "10423                          Bank of America, N.A.  941687665.0   \n",
       "10440                   BNP Paribas Securities Corp.  133235334.0   \n",
       "...                                              ...          ...   \n",
       "330531                          Vecna Robotics, Inc.  831090940.0   \n",
       "332523                       Freedom Debt Relief LLC  300280712.0   \n",
       "336583  World Conference of Religions For Peace Inc.  132671065.0   \n",
       "344219                          Oracle America, Inc.  942805249.0   \n",
       "344603                                           IGT  880062109.0   \n",
       "\n",
       "                            mail_addr         city  ... S1Q1B  \\\n",
       "21                       One Dell Way   Round Rock  ...     N   \n",
       "2053     1580 Sawgrass Corporate Pkwy      Sunrise  ...     N   \n",
       "5832                      9 Second St       Palmer  ...     N   \n",
       "10423              401 N Tryon Street    Charlotte  ...     N   \n",
       "10440            525 Washington Blvd.  Jersey City  ...     N   \n",
       "...                               ...          ...  ...   ...   \n",
       "330531         425 Waverley Oaks Road      Waltham  ...     N   \n",
       "332523        1875 South Grant Street    San Mateo  ...     N   \n",
       "336583  777 United Nations Plz Ste 9a     New York  ...     N   \n",
       "344219                2300 Oracle Way       Austin  ...     N   \n",
       "344603              6355 S Buffalo Dr    Las Vegas  ...     N   \n",
       "\n",
       "       BEN_EDUCATION_CODE ED_LEVEL_DEFINITION  \\\n",
       "21                   None                None   \n",
       "2053                    F   BACHELOR'S DEGREE   \n",
       "5832                    F   BACHELOR'S DEGREE   \n",
       "10423                   F   BACHELOR'S DEGREE   \n",
       "10440                   F   BACHELOR'S DEGREE   \n",
       "...                   ...                 ...   \n",
       "330531               None                None   \n",
       "332523                  F   BACHELOR'S DEGREE   \n",
       "336583                  F   BACHELOR'S DEGREE   \n",
       "344219                  F   BACHELOR'S DEGREE   \n",
       "344603               None                None   \n",
       "\n",
       "                                  BEN_PFIELD_OF_STUDY  BEN_COMP_PAID DOT_CODE  \\\n",
       "21                            BUSINESS ADMINISTRATION      141000.00     50.0   \n",
       "2053                       MEDICAL LABORATORY SCIENCE            NaN     78.0   \n",
       "5832                           MECHANICAL ENGINEERING       80000.00     12.0   \n",
       "10423                          CHEMISTRY DATA SCIENCE       95000.00    199.0   \n",
       "10440                                       ECONOMICS      100000.00     50.0   \n",
       "...                                               ...            ...      ...   \n",
       "330531                                     MANAGEMENT       90000.00     19.0   \n",
       "332523                BACHELOR OF TECHNOLOGY DAIRYING      100785.62     30.0   \n",
       "336583                             PROJECT MANAGEMENT       80000.00    161.0   \n",
       "344219  OPERATIONS RESEARCH AND FINANCIAL ENGINEERING      132870.00     30.0   \n",
       "344603               COMPUTER SCIENCE AND ENGINEERING       96425.16     30.0   \n",
       "\n",
       "        NAICS_CODE S3Q1 S4Q1 T_U_VAWA_FLAG  \n",
       "21         42343.0    B    N          None  \n",
       "2053      561300.0    B    N          None  \n",
       "5832      336419.0    B    N          None  \n",
       "10423     522110.0    B    N          None  \n",
       "10440     523110.0    B    N          None  \n",
       "...            ...  ...  ...           ...  \n",
       "330531    541519.0    M    N          None  \n",
       "332523    541990.0    B    N          None  \n",
       "336583    813319.0    B    N          None  \n",
       "344219    513210.0    B    N          None  \n",
       "344603    713290.0    B    N          None  \n",
       "\n",
       "[114 rows x 56 columns]"
      ]
     },
     "execution_count": 1105,
     "metadata": {},
     "output_type": "execute_result"
    }
   ],
   "source": [
    "TRK_13139_FY2024_single_reg_df_kn"
   ]
  },
  {
   "cell_type": "code",
   "execution_count": 1106,
   "metadata": {},
   "outputs": [
    {
     "data": {
      "text/html": [
       "<div>\n",
       "<style scoped>\n",
       "    .dataframe tbody tr th:only-of-type {\n",
       "        vertical-align: middle;\n",
       "    }\n",
       "\n",
       "    .dataframe tbody tr th {\n",
       "        vertical-align: top;\n",
       "    }\n",
       "\n",
       "    .dataframe thead tr th {\n",
       "        text-align: left;\n",
       "    }\n",
       "</style>\n",
       "<table border=\"1\" class=\"dataframe\">\n",
       "  <thead>\n",
       "    <tr>\n",
       "      <th></th>\n",
       "      <th>country_of_birth</th>\n",
       "      <th colspan=\"2\" halign=\"left\">WAGE_AMT</th>\n",
       "    </tr>\n",
       "    <tr>\n",
       "      <th></th>\n",
       "      <th></th>\n",
       "      <th>median</th>\n",
       "      <th>&lt;lambda_0&gt;</th>\n",
       "    </tr>\n",
       "  </thead>\n",
       "  <tbody>\n",
       "    <tr>\n",
       "      <th>0</th>\n",
       "      <td>BDI</td>\n",
       "      <td>138096.00</td>\n",
       "      <td>36904.0</td>\n",
       "    </tr>\n",
       "    <tr>\n",
       "      <th>1</th>\n",
       "      <td>KEN</td>\n",
       "      <td>100000.00</td>\n",
       "      <td>60000.0</td>\n",
       "    </tr>\n",
       "    <tr>\n",
       "      <th>2</th>\n",
       "      <td>RWA</td>\n",
       "      <td>96840.38</td>\n",
       "      <td>37025.0</td>\n",
       "    </tr>\n",
       "  </tbody>\n",
       "</table>\n",
       "</div>"
      ],
      "text/plain": [
       "  country_of_birth   WAGE_AMT           \n",
       "                       median <lambda_0>\n",
       "0              BDI  138096.00    36904.0\n",
       "1              KEN  100000.00    60000.0\n",
       "2              RWA   96840.38    37025.0"
      ]
     },
     "execution_count": 1106,
     "metadata": {},
     "output_type": "execute_result"
    }
   ],
   "source": [
    "import plotly.express as px\n",
    "import pandas as pd\n",
    "\n",
    "# Calculate median and IQR by country and employer\n",
    "wage_stats = (TRK_13139_FY2024_single_reg_df_kn\n",
    "    .groupby(['country_of_birth'])\n",
    "    .agg({\n",
    "        'WAGE_AMT': ['median', lambda x: x.quantile(0.75) - x.quantile(0.25)]  # IQR calculation\n",
    "    })\n",
    "    .reset_index()\n",
    ")\n",
    "wage_stats"
   ]
  },
  {
   "cell_type": "code",
   "execution_count": 1107,
   "metadata": {},
   "outputs": [
    {
     "data": {
      "application/vnd.plotly.v1+json": {
       "config": {
        "plotlyServerURL": "https://plot.ly"
       },
       "data": [
        {
         "alignmentgroup": "True",
         "hovertemplate": "Country of Birth=%{x}<br>Wage Amount ($)=%{y}<extra></extra>",
         "legendgroup": "KEN",
         "marker": {
          "color": "#636efa"
         },
         "name": "KEN",
         "notched": false,
         "offsetgroup": "KEN",
         "orientation": "v",
         "showlegend": true,
         "type": "box",
         "x": [
          "KEN",
          "KEN",
          "KEN",
          "KEN",
          "KEN",
          "KEN",
          "KEN",
          "KEN",
          "KEN",
          "KEN",
          "KEN",
          "KEN",
          "KEN",
          "KEN",
          "KEN",
          "KEN",
          "KEN",
          "KEN",
          "KEN",
          "KEN",
          "KEN",
          "KEN",
          "KEN",
          "KEN",
          "KEN",
          "KEN",
          "KEN",
          "KEN",
          "KEN",
          "KEN",
          "KEN",
          "KEN",
          "KEN",
          "KEN",
          "KEN",
          "KEN",
          "KEN",
          "KEN",
          "KEN",
          "KEN",
          "KEN",
          "KEN",
          "KEN",
          "KEN",
          "KEN",
          "KEN",
          "KEN",
          "KEN",
          "KEN",
          "KEN",
          "KEN",
          "KEN",
          "KEN",
          "KEN",
          "KEN",
          "KEN",
          "KEN",
          "KEN",
          "KEN",
          "KEN",
          "KEN",
          "KEN",
          "KEN",
          "KEN",
          "KEN",
          "KEN",
          "KEN",
          "KEN",
          "KEN",
          "KEN",
          "KEN",
          "KEN",
          "KEN",
          "KEN",
          "KEN",
          "KEN",
          "KEN",
          "KEN",
          "KEN",
          "KEN",
          "KEN",
          "KEN",
          "KEN",
          "KEN",
          "KEN",
          "KEN",
          "KEN",
          "KEN",
          "KEN"
         ],
         "x0": " ",
         "xaxis": "x",
         "y": [
          141000,
          27.2,
          80000,
          100000,
          95351.88,
          143000,
          100000,
          145000,
          90000,
          130000,
          112000,
          45696,
          59987,
          85000,
          110500,
          77000,
          68994,
          110000,
          70000,
          82527,
          130000,
          144500,
          55000,
          136174.08,
          93646.8,
          115000,
          120000.01,
          104241.55,
          54558,
          95594,
          88100,
          188275,
          120000,
          111100,
          55000,
          110000,
          151000,
          75000,
          67724,
          61100,
          70000,
          26,
          27.2,
          68994,
          115000,
          100000,
          688994,
          131530,
          115141.44,
          172874,
          115000,
          295000,
          238000,
          58000,
          175000,
          120800,
          141000,
          125000,
          92500,
          68994,
          197600,
          26,
          90000,
          60000,
          74193,
          101400,
          125000,
          125000,
          192000,
          106680,
          80000,
          189000,
          106349.34,
          90000,
          64000,
          38,
          96000,
          52500,
          141378,
          150600,
          120000,
          144635,
          89980.8,
          27.2,
          61000,
          100785.62,
          80000,
          132870,
          96425.16
         ],
         "y0": " ",
         "yaxis": "y"
        },
        {
         "alignmentgroup": "True",
         "hovertemplate": "Country of Birth=%{x}<br>Wage Amount ($)=%{y}<extra></extra>",
         "legendgroup": "RWA",
         "marker": {
          "color": "#EF553B"
         },
         "name": "RWA",
         "notched": false,
         "offsetgroup": "RWA",
         "orientation": "v",
         "showlegend": true,
         "type": "box",
         "x": [
          "RWA",
          "RWA",
          "RWA",
          "RWA",
          "RWA",
          "RWA",
          "RWA",
          "RWA",
          "RWA",
          "RWA",
          "RWA",
          "RWA",
          "RWA",
          "RWA",
          "RWA",
          "RWA",
          "RWA",
          "RWA",
          "RWA",
          "RWA",
          "RWA",
          "RWA",
          "RWA"
         ],
         "x0": " ",
         "xaxis": "x",
         "y": [
          95000,
          60000,
          77400,
          74000,
          134400,
          72092.8,
          120000,
          42,
          98600,
          107750,
          101097.41,
          49,
          112050,
          110000,
          96840.38,
          135000,
          90000,
          29.66,
          150000,
          74000,
          115232,
          100000,
          90000
         ],
         "y0": " ",
         "yaxis": "y"
        },
        {
         "alignmentgroup": "True",
         "hovertemplate": "Country of Birth=%{x}<br>Wage Amount ($)=%{y}<extra></extra>",
         "legendgroup": "BDI",
         "marker": {
          "color": "#00cc96"
         },
         "name": "BDI",
         "notched": false,
         "offsetgroup": "BDI",
         "orientation": "v",
         "showlegend": true,
         "type": "box",
         "x": [
          "BDI",
          "BDI"
         ],
         "x0": " ",
         "xaxis": "x",
         "y": [
          175000,
          101192
         ],
         "y0": " ",
         "yaxis": "y"
        }
       ],
       "layout": {
        "boxmode": "overlay",
        "legend": {
         "title": {
          "font": {
           "size": 12
          },
          "text": "Country of Birth"
         },
         "tracegroupgap": 0
        },
        "showlegend": true,
        "template": {
         "data": {
          "bar": [
           {
            "error_x": {
             "color": "#2a3f5f"
            },
            "error_y": {
             "color": "#2a3f5f"
            },
            "marker": {
             "line": {
              "color": "#E5ECF6",
              "width": 0.5
             },
             "pattern": {
              "fillmode": "overlay",
              "size": 10,
              "solidity": 0.2
             }
            },
            "type": "bar"
           }
          ],
          "barpolar": [
           {
            "marker": {
             "line": {
              "color": "#E5ECF6",
              "width": 0.5
             },
             "pattern": {
              "fillmode": "overlay",
              "size": 10,
              "solidity": 0.2
             }
            },
            "type": "barpolar"
           }
          ],
          "carpet": [
           {
            "aaxis": {
             "endlinecolor": "#2a3f5f",
             "gridcolor": "white",
             "linecolor": "white",
             "minorgridcolor": "white",
             "startlinecolor": "#2a3f5f"
            },
            "baxis": {
             "endlinecolor": "#2a3f5f",
             "gridcolor": "white",
             "linecolor": "white",
             "minorgridcolor": "white",
             "startlinecolor": "#2a3f5f"
            },
            "type": "carpet"
           }
          ],
          "choropleth": [
           {
            "colorbar": {
             "outlinewidth": 0,
             "ticks": ""
            },
            "type": "choropleth"
           }
          ],
          "contour": [
           {
            "colorbar": {
             "outlinewidth": 0,
             "ticks": ""
            },
            "colorscale": [
             [
              0,
              "#0d0887"
             ],
             [
              0.1111111111111111,
              "#46039f"
             ],
             [
              0.2222222222222222,
              "#7201a8"
             ],
             [
              0.3333333333333333,
              "#9c179e"
             ],
             [
              0.4444444444444444,
              "#bd3786"
             ],
             [
              0.5555555555555556,
              "#d8576b"
             ],
             [
              0.6666666666666666,
              "#ed7953"
             ],
             [
              0.7777777777777778,
              "#fb9f3a"
             ],
             [
              0.8888888888888888,
              "#fdca26"
             ],
             [
              1,
              "#f0f921"
             ]
            ],
            "type": "contour"
           }
          ],
          "contourcarpet": [
           {
            "colorbar": {
             "outlinewidth": 0,
             "ticks": ""
            },
            "type": "contourcarpet"
           }
          ],
          "heatmap": [
           {
            "colorbar": {
             "outlinewidth": 0,
             "ticks": ""
            },
            "colorscale": [
             [
              0,
              "#0d0887"
             ],
             [
              0.1111111111111111,
              "#46039f"
             ],
             [
              0.2222222222222222,
              "#7201a8"
             ],
             [
              0.3333333333333333,
              "#9c179e"
             ],
             [
              0.4444444444444444,
              "#bd3786"
             ],
             [
              0.5555555555555556,
              "#d8576b"
             ],
             [
              0.6666666666666666,
              "#ed7953"
             ],
             [
              0.7777777777777778,
              "#fb9f3a"
             ],
             [
              0.8888888888888888,
              "#fdca26"
             ],
             [
              1,
              "#f0f921"
             ]
            ],
            "type": "heatmap"
           }
          ],
          "heatmapgl": [
           {
            "colorbar": {
             "outlinewidth": 0,
             "ticks": ""
            },
            "colorscale": [
             [
              0,
              "#0d0887"
             ],
             [
              0.1111111111111111,
              "#46039f"
             ],
             [
              0.2222222222222222,
              "#7201a8"
             ],
             [
              0.3333333333333333,
              "#9c179e"
             ],
             [
              0.4444444444444444,
              "#bd3786"
             ],
             [
              0.5555555555555556,
              "#d8576b"
             ],
             [
              0.6666666666666666,
              "#ed7953"
             ],
             [
              0.7777777777777778,
              "#fb9f3a"
             ],
             [
              0.8888888888888888,
              "#fdca26"
             ],
             [
              1,
              "#f0f921"
             ]
            ],
            "type": "heatmapgl"
           }
          ],
          "histogram": [
           {
            "marker": {
             "pattern": {
              "fillmode": "overlay",
              "size": 10,
              "solidity": 0.2
             }
            },
            "type": "histogram"
           }
          ],
          "histogram2d": [
           {
            "colorbar": {
             "outlinewidth": 0,
             "ticks": ""
            },
            "colorscale": [
             [
              0,
              "#0d0887"
             ],
             [
              0.1111111111111111,
              "#46039f"
             ],
             [
              0.2222222222222222,
              "#7201a8"
             ],
             [
              0.3333333333333333,
              "#9c179e"
             ],
             [
              0.4444444444444444,
              "#bd3786"
             ],
             [
              0.5555555555555556,
              "#d8576b"
             ],
             [
              0.6666666666666666,
              "#ed7953"
             ],
             [
              0.7777777777777778,
              "#fb9f3a"
             ],
             [
              0.8888888888888888,
              "#fdca26"
             ],
             [
              1,
              "#f0f921"
             ]
            ],
            "type": "histogram2d"
           }
          ],
          "histogram2dcontour": [
           {
            "colorbar": {
             "outlinewidth": 0,
             "ticks": ""
            },
            "colorscale": [
             [
              0,
              "#0d0887"
             ],
             [
              0.1111111111111111,
              "#46039f"
             ],
             [
              0.2222222222222222,
              "#7201a8"
             ],
             [
              0.3333333333333333,
              "#9c179e"
             ],
             [
              0.4444444444444444,
              "#bd3786"
             ],
             [
              0.5555555555555556,
              "#d8576b"
             ],
             [
              0.6666666666666666,
              "#ed7953"
             ],
             [
              0.7777777777777778,
              "#fb9f3a"
             ],
             [
              0.8888888888888888,
              "#fdca26"
             ],
             [
              1,
              "#f0f921"
             ]
            ],
            "type": "histogram2dcontour"
           }
          ],
          "mesh3d": [
           {
            "colorbar": {
             "outlinewidth": 0,
             "ticks": ""
            },
            "type": "mesh3d"
           }
          ],
          "parcoords": [
           {
            "line": {
             "colorbar": {
              "outlinewidth": 0,
              "ticks": ""
             }
            },
            "type": "parcoords"
           }
          ],
          "pie": [
           {
            "automargin": true,
            "type": "pie"
           }
          ],
          "scatter": [
           {
            "fillpattern": {
             "fillmode": "overlay",
             "size": 10,
             "solidity": 0.2
            },
            "type": "scatter"
           }
          ],
          "scatter3d": [
           {
            "line": {
             "colorbar": {
              "outlinewidth": 0,
              "ticks": ""
             }
            },
            "marker": {
             "colorbar": {
              "outlinewidth": 0,
              "ticks": ""
             }
            },
            "type": "scatter3d"
           }
          ],
          "scattercarpet": [
           {
            "marker": {
             "colorbar": {
              "outlinewidth": 0,
              "ticks": ""
             }
            },
            "type": "scattercarpet"
           }
          ],
          "scattergeo": [
           {
            "marker": {
             "colorbar": {
              "outlinewidth": 0,
              "ticks": ""
             }
            },
            "type": "scattergeo"
           }
          ],
          "scattergl": [
           {
            "marker": {
             "colorbar": {
              "outlinewidth": 0,
              "ticks": ""
             }
            },
            "type": "scattergl"
           }
          ],
          "scattermapbox": [
           {
            "marker": {
             "colorbar": {
              "outlinewidth": 0,
              "ticks": ""
             }
            },
            "type": "scattermapbox"
           }
          ],
          "scatterpolar": [
           {
            "marker": {
             "colorbar": {
              "outlinewidth": 0,
              "ticks": ""
             }
            },
            "type": "scatterpolar"
           }
          ],
          "scatterpolargl": [
           {
            "marker": {
             "colorbar": {
              "outlinewidth": 0,
              "ticks": ""
             }
            },
            "type": "scatterpolargl"
           }
          ],
          "scatterternary": [
           {
            "marker": {
             "colorbar": {
              "outlinewidth": 0,
              "ticks": ""
             }
            },
            "type": "scatterternary"
           }
          ],
          "surface": [
           {
            "colorbar": {
             "outlinewidth": 0,
             "ticks": ""
            },
            "colorscale": [
             [
              0,
              "#0d0887"
             ],
             [
              0.1111111111111111,
              "#46039f"
             ],
             [
              0.2222222222222222,
              "#7201a8"
             ],
             [
              0.3333333333333333,
              "#9c179e"
             ],
             [
              0.4444444444444444,
              "#bd3786"
             ],
             [
              0.5555555555555556,
              "#d8576b"
             ],
             [
              0.6666666666666666,
              "#ed7953"
             ],
             [
              0.7777777777777778,
              "#fb9f3a"
             ],
             [
              0.8888888888888888,
              "#fdca26"
             ],
             [
              1,
              "#f0f921"
             ]
            ],
            "type": "surface"
           }
          ],
          "table": [
           {
            "cells": {
             "fill": {
              "color": "#EBF0F8"
             },
             "line": {
              "color": "white"
             }
            },
            "header": {
             "fill": {
              "color": "#C8D4E3"
             },
             "line": {
              "color": "white"
             }
            },
            "type": "table"
           }
          ]
         },
         "layout": {
          "annotationdefaults": {
           "arrowcolor": "#2a3f5f",
           "arrowhead": 0,
           "arrowwidth": 1
          },
          "autotypenumbers": "strict",
          "coloraxis": {
           "colorbar": {
            "outlinewidth": 0,
            "ticks": ""
           }
          },
          "colorscale": {
           "diverging": [
            [
             0,
             "#8e0152"
            ],
            [
             0.1,
             "#c51b7d"
            ],
            [
             0.2,
             "#de77ae"
            ],
            [
             0.3,
             "#f1b6da"
            ],
            [
             0.4,
             "#fde0ef"
            ],
            [
             0.5,
             "#f7f7f7"
            ],
            [
             0.6,
             "#e6f5d0"
            ],
            [
             0.7,
             "#b8e186"
            ],
            [
             0.8,
             "#7fbc41"
            ],
            [
             0.9,
             "#4d9221"
            ],
            [
             1,
             "#276419"
            ]
           ],
           "sequential": [
            [
             0,
             "#0d0887"
            ],
            [
             0.1111111111111111,
             "#46039f"
            ],
            [
             0.2222222222222222,
             "#7201a8"
            ],
            [
             0.3333333333333333,
             "#9c179e"
            ],
            [
             0.4444444444444444,
             "#bd3786"
            ],
            [
             0.5555555555555556,
             "#d8576b"
            ],
            [
             0.6666666666666666,
             "#ed7953"
            ],
            [
             0.7777777777777778,
             "#fb9f3a"
            ],
            [
             0.8888888888888888,
             "#fdca26"
            ],
            [
             1,
             "#f0f921"
            ]
           ],
           "sequentialminus": [
            [
             0,
             "#0d0887"
            ],
            [
             0.1111111111111111,
             "#46039f"
            ],
            [
             0.2222222222222222,
             "#7201a8"
            ],
            [
             0.3333333333333333,
             "#9c179e"
            ],
            [
             0.4444444444444444,
             "#bd3786"
            ],
            [
             0.5555555555555556,
             "#d8576b"
            ],
            [
             0.6666666666666666,
             "#ed7953"
            ],
            [
             0.7777777777777778,
             "#fb9f3a"
            ],
            [
             0.8888888888888888,
             "#fdca26"
            ],
            [
             1,
             "#f0f921"
            ]
           ]
          },
          "colorway": [
           "#636efa",
           "#EF553B",
           "#00cc96",
           "#ab63fa",
           "#FFA15A",
           "#19d3f3",
           "#FF6692",
           "#B6E880",
           "#FF97FF",
           "#FECB52"
          ],
          "font": {
           "color": "#2a3f5f"
          },
          "geo": {
           "bgcolor": "white",
           "lakecolor": "white",
           "landcolor": "#E5ECF6",
           "showlakes": true,
           "showland": true,
           "subunitcolor": "white"
          },
          "hoverlabel": {
           "align": "left"
          },
          "hovermode": "closest",
          "mapbox": {
           "style": "light"
          },
          "paper_bgcolor": "white",
          "plot_bgcolor": "#E5ECF6",
          "polar": {
           "angularaxis": {
            "gridcolor": "white",
            "linecolor": "white",
            "ticks": ""
           },
           "bgcolor": "#E5ECF6",
           "radialaxis": {
            "gridcolor": "white",
            "linecolor": "white",
            "ticks": ""
           }
          },
          "scene": {
           "xaxis": {
            "backgroundcolor": "#E5ECF6",
            "gridcolor": "white",
            "gridwidth": 2,
            "linecolor": "white",
            "showbackground": true,
            "ticks": "",
            "zerolinecolor": "white"
           },
           "yaxis": {
            "backgroundcolor": "#E5ECF6",
            "gridcolor": "white",
            "gridwidth": 2,
            "linecolor": "white",
            "showbackground": true,
            "ticks": "",
            "zerolinecolor": "white"
           },
           "zaxis": {
            "backgroundcolor": "#E5ECF6",
            "gridcolor": "white",
            "gridwidth": 2,
            "linecolor": "white",
            "showbackground": true,
            "ticks": "",
            "zerolinecolor": "white"
           }
          },
          "shapedefaults": {
           "line": {
            "color": "#2a3f5f"
           }
          },
          "ternary": {
           "aaxis": {
            "gridcolor": "white",
            "linecolor": "white",
            "ticks": ""
           },
           "baxis": {
            "gridcolor": "white",
            "linecolor": "white",
            "ticks": ""
           },
           "bgcolor": "#E5ECF6",
           "caxis": {
            "gridcolor": "white",
            "linecolor": "white",
            "ticks": ""
           }
          },
          "title": {
           "x": 0.05
          },
          "xaxis": {
           "automargin": true,
           "gridcolor": "white",
           "linecolor": "white",
           "ticks": "",
           "title": {
            "standoff": 15
           },
           "zerolinecolor": "white",
           "zerolinewidth": 2
          },
          "yaxis": {
           "automargin": true,
           "gridcolor": "white",
           "linecolor": "white",
           "ticks": "",
           "title": {
            "standoff": 15
           },
           "zerolinecolor": "white",
           "zerolinewidth": 2
          }
         }
        },
        "title": {
         "text": "Wage Distribution by Country"
        },
        "xaxis": {
         "anchor": "y",
         "categoryarray": [
          "KEN",
          "RWA",
          "BDI"
         ],
         "categoryorder": "array",
         "domain": [
          0,
          1
         ],
         "title": {
          "font": {
           "size": 12
          },
          "text": "Country of Birth"
         }
        },
        "yaxis": {
         "anchor": "x",
         "domain": [
          0,
          1
         ],
         "title": {
          "font": {
           "size": 12
          },
          "text": "Wage Amount ($)"
         }
        }
       }
      }
     },
     "metadata": {},
     "output_type": "display_data"
    },
    {
     "name": "stdout",
     "output_type": "stream",
     "text": [
      "\n",
      "Summary Statistics:\n",
      "  country_of_birth  median_wage  wage_iqr\n",
      "0              BDI    138096.00   36904.0\n",
      "1              KEN    100000.00   60000.0\n",
      "2              RWA     96840.38   37025.0\n"
     ]
    }
   ],
   "source": [
    "\n",
    "# Rename columns for clarity\n",
    "wage_stats.columns = ['country_of_birth', 'median_wage', 'wage_iqr']\n",
    "\n",
    "# Create box plot\n",
    "fig = px.box(TRK_13139_FY2024_single_reg_df_kn, \n",
    "             x='country_of_birth',\n",
    "             y='WAGE_AMT',\n",
    "             color='country_of_birth',\n",
    "             title='Wage Distribution by Country',\n",
    "             labels={'WAGE_AMT': 'Wage Amount ($)',\n",
    "                    'country_of_birth': 'Country of Birth'})\n",
    "\n",
    "# Update layout for better readability\n",
    "fig.update_layout(\n",
    "    showlegend=True,\n",
    "    xaxis_title_font=dict(size=12),\n",
    "    yaxis_title_font=dict(size=12),\n",
    "    legend_title_font=dict(size=12)\n",
    ")\n",
    "\n",
    "fig.show()\n",
    "\n",
    "# Display summary statistics\n",
    "print(\"\\nSummary Statistics:\")\n",
    "print(wage_stats.sort_values('median_wage', ascending=False))"
   ]
  }
 ],
 "metadata": {
  "kernelspec": {
   "display_name": "honebs",
   "language": "python",
   "name": "python3"
  },
  "language_info": {
   "codemirror_mode": {
    "name": "ipython",
    "version": 3
   },
   "file_extension": ".py",
   "mimetype": "text/x-python",
   "name": "python",
   "nbconvert_exporter": "python",
   "pygments_lexer": "ipython3",
   "version": "3.11.11"
  }
 },
 "nbformat": 4,
 "nbformat_minor": 2
}
